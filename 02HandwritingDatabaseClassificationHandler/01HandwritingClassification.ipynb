{
 "cells": [
  {
   "cell_type": "code",
   "execution_count": 1,
   "id": "ae04d5d0-1421-4644-8e05-dea47abd1e42",
   "metadata": {},
   "outputs": [],
   "source": [
    "def sort_by_target(mnist):\n",
    "    # 创建一个列表，包含训练集中目标标签和对应的索引，然后按目标标签排序\n",
    "    reorder_train = np.array(sorted([(target, i) for i, target in enumerate(mnist.target[:60000])]))[:, 1]\n",
    "    \n",
    "    # 创建一个列表，包含测试集中目标标签和对应的索引，然后按目标标签排序\n",
    "    reorder_test = np.array(sorted([(target, i) for i, target in enumerate(mnist.target[60000:])]))[:, 1]\n",
    "    \n",
    "    # 根据排序后的索引重新排序训练集的数据和目标标签\n",
    "    mnist.data[:60000] = mnist.data[reorder_train]\n",
    "    mnist.target[:60000] = mnist.target[reorder_train]\n",
    "    \n",
    "    # 根据排序后的索引重新排序测试集的数据和目标标签\n",
    "    # 注意这里使用了reorder_test索引加上60000，因为测试集的索引是从60000开始的\n",
    "    mnist.data[60000:] = mnist.data[reorder_test + 60000]\n",
    "    mnist.target[60000:] = mnist.target[reorder_test + 60000]"
   ]
  },
  {
   "cell_type": "code",
   "execution_count": 5,
   "id": "7bd7314d-ea9e-47bd-88f5-6de433c71d8b",
   "metadata": {},
   "outputs": [
    {
     "data": {
      "text/plain": [
       "(array([[0, 0, 0, ..., 0, 0, 0],\n",
       "        [0, 0, 0, ..., 0, 0, 0],\n",
       "        [0, 0, 0, ..., 0, 0, 0],\n",
       "        ...,\n",
       "        [0, 0, 0, ..., 0, 0, 0],\n",
       "        [0, 0, 0, ..., 0, 0, 0],\n",
       "        [0, 0, 0, ..., 0, 0, 0]]),\n",
       " array([0, 0, 0, ..., 9, 9, 9], dtype=int8))"
      ]
     },
     "execution_count": 5,
     "metadata": {},
     "output_type": "execute_result"
    }
   ],
   "source": [
    "import numpy as np\n",
    "\n",
    "try:\n",
    "    # 尝试从scikit-learn的fetch_openml函数导入MNIST数据集\n",
    "    from sklearn.datasets import fetch_openml\n",
    "    # 使用fetch_openml()函数加载MNIST数据集，指定版本为1，启用缓存，不以数据框形式返回\n",
    "    mnist = fetch_openml('mnist_784', version=1, cache=True, as_frame=False)\n",
    "    \n",
    "    # 将目标(target)列的数据类型转换为np.int8，因为fetch_openml()返回的目标是字符串类型\n",
    "    mnist.target = mnist.target.astype(np.int8)\n",
    "    \n",
    "    # 调用自定义的sort_by_target函数对数据集进行排序\n",
    "    sort_by_target(mnist) # fetch_openml()返回的数据集是未排序的\n",
    "except ImportError:\n",
    "    # 如果fetch_openml无法导入（例如scikit-learn版本不支持），则尝试使用fetch_mldata函数\n",
    "    from sklearn.datasets import fetch_mldata\n",
    "    # 使用fetch_mldata()函数加载MNIST数据集\n",
    "    mnist = fetch_mldata('MNIST original')\n",
    "    \n",
    "# 这里的mnist是一个字典，包含\"data\"和\"target\"两个键，分别对应数据集和目标\n",
    "mnist[\"data\"], mnist[\"target\"]"
   ]
  },
  {
   "cell_type": "code",
   "execution_count": 6,
   "id": "ddea34d8-b6c0-4697-bf45-32d0d7a1b10a",
   "metadata": {},
   "outputs": [
    {
     "data": {
      "text/plain": [
       "(70000, 784)"
      ]
     },
     "execution_count": 6,
     "metadata": {},
     "output_type": "execute_result"
    }
   ],
   "source": [
    "# 获取mnist数据集中图像数据的形状\n",
    "# mnist.data是一个NumPy数组，shape属性返回一个元组，表示数组的维度大小\n",
    "# 对于MNIST数据集，mnist.data的形状通常是(60000, 784)或(60000,)，具体取决于数据是否被展平\n",
    "mnist.data.shape"
   ]
  },
  {
   "cell_type": "code",
   "execution_count": 8,
   "id": "53e43a25-33b6-4bf1-a8e0-bebcbd1d195c",
   "metadata": {},
   "outputs": [
    {
     "name": "stdout",
     "output_type": "stream",
     "text": [
      "(70000, 784)\n",
      "(70000,)\n"
     ]
    }
   ],
   "source": [
    "# 从MNIST数据集中分离特征和标签\n",
    "# mnist[\"data\"]是所有图像的像素值，mnist[\"target\"]是对应的标签\n",
    "X, y = mnist[\"data\"], mnist[\"target\"]\n",
    "\n",
    "# 打印特征数据的形状\n",
    "# X.shape将返回一个元组，表示X的维度大小，通常对于MNIST数据集，形状是(60000, 784)\n",
    "# 其中60000是样本数量，784是每个样本的像素值数量（28x28像素的图像被展平）\n",
    "print(X.shape)\n",
    "\n",
    "# 打印标签数据的形状\n",
    "# y.shape将返回一个元组，表示y的维度大小\n",
    "# 对于MNIST数据集，如果标签是一维数组，形状是(60000,)\n",
    "# 如果标签是二维的（例如，one-hot编码），形状可能是(60000, 10)\n",
    "print(y.shape)"
   ]
  },
  {
   "cell_type": "code",
   "execution_count": 13,
   "id": "767d4bbf-3421-493e-8f8e-ba8712917129",
   "metadata": {},
   "outputs": [
    {
     "data": {
      "image/png": "[encoded data removed]",
      "text/plain": [
       "<Figure size 640x480 with 1 Axes>"
      ]
     },
     "metadata": {},
     "output_type": "display_data"
    }
   ],
   "source": [
    "# 导入matplotlib的pyplot模块，这是用于绘图的主要模块\n",
    "# 给它一个别名plt，这样我们就可以使用plt来访问这个模块的所有函数\n",
    "import matplotlib.pyplot as plt\n",
    "\n",
    "# 导入必要的其他库，例如numpy，如果还没有导入的话\n",
    "import numpy as np\n",
    "\n",
    "# 假设X是已经加载的MNIST数据集中的特征矩阵\n",
    "# some_digit是X中的一个784维向量，表示一张28x28像素的图像\n",
    "some_digit = X[36000]\n",
    "\n",
    "# 使用reshape方法将784维向量重新排列成28x28的二维数组\n",
    "some_digit_image = some_digit.reshape(28, 28)\n",
    "\n",
    "# 使用matplotlib的imshow函数显示图像\n",
    "# cmap设置为binary，这通常用于显示黑白图像\n",
    "# interpolation设置为\"nearest\"，表示使用最近邻插值方法\n",
    "plt.imshow(some_digit_image, cmap=plt.cm.binary, interpolation=\"nearest\")\n",
    "\n",
    "# 关闭图像的坐标轴显示\n",
    "plt.axis(\"off\")\n",
    "\n",
    "# 保存图像，函数savefig用于保存当前的绘图\n",
    "# 需要确保save_fig函数已经被定义，并且能够正确保存图像\n",
    "plt.savefig(\"images/some_digit_plot.png\",bbox_inches='tight')\n",
    "\n",
    "# 显示图像\n",
    "plt.show()"
   ]
  },
  {
   "cell_type": "code",
   "execution_count": 14,
   "id": "344f175b-428e-411a-b5f9-cfad829c6b72",
   "metadata": {},
   "outputs": [
    {
     "data": {
      "text/plain": [
       "np.int8(5)"
      ]
     },
     "execution_count": 14,
     "metadata": {},
     "output_type": "execute_result"
    }
   ],
   "source": [
    "# 访问MNIST数据集中第36000个样本的标签\n",
    "# y是一个数组，包含了数据集中所有样本的标签\n",
    "# 假设y是一个一维数组，索引36000将返回该索引处的标签值\n",
    "y[36000]"
   ]
  },
  {
   "cell_type": "code",
   "execution_count": 16,
   "id": "83224734-e83b-434d-a6ff-81d6862a429c",
   "metadata": {},
   "outputs": [],
   "source": [
    "def plot_digit(data):\n",
    "    # 将输入数据reshape成28x28的二维数组，以恢复为图像的原始尺寸\n",
    "    # 这个操作假设输入数据是一个784维的一维数组\n",
    "    image = data.reshape(28, 28)\n",
    "    \n",
    "    # 使用matplotlib的imshow函数显示图像\n",
    "    # cmap设置为binary，这通常用于显示黑白图像\n",
    "    # interpolation设置为\"nearest\"，表示使用最近邻插值方法\n",
    "    plt.imshow(image, cmap=plt.cm.binary, interpolation=\"nearest\")\n",
    "    \n",
    "    # 关闭图像的坐标轴显示，使图像看起来更清晰\n",
    "    plt.axis(\"off\")"
   ]
  },
  {
   "cell_type": "code",
   "execution_count": 17,
   "id": "46559481-40a7-4d18-83a0-392ca269abb9",
   "metadata": {},
   "outputs": [],
   "source": [
    "# EXTRA\n",
    "def plot_digits(instances, images_per_row=10, **options):\n",
    "    # 定义图像的尺寸，MNIST图像是28x28像素\n",
    "    size = 28\n",
    "    \n",
    "    # 限制每行显示的图像数量，不超过实例的数量\n",
    "    images_per_row = min(len(instances), images_per_row)\n",
    "    \n",
    "    # 将每个实例重塑成28x28的二维数组\n",
    "    images = [instance.reshape(size, size) for instance in instances]\n",
    "    \n",
    "    # 计算需要显示的行数\n",
    "    n_rows = (len(instances) - 1) // images_per_row + 1\n",
    "    \n",
    "    # 初始化一个列表，用于存储每一行的图像\n",
    "    row_images = []\n",
    "    \n",
    "    # 计算需要添加的空白图像数量，以填满最后一行\n",
    "    n_empty = n_rows * images_per_row - len(instances)\n",
    "    \n",
    "    # 添加空白图像以确保最后一行完整\n",
    "    images.append(np.zeros((size, size * n_empty)))\n",
    "    \n",
    "    # 遍历每一行，将图像按行拼接起来\n",
    "    for row in range(n_rows):\n",
    "        # 获取当前行的图像列表\n",
    "        rimages = images[row * images_per_row : (row + 1) * images_per_row]\n",
    "        # 将当前行的图像水平拼接\n",
    "        row_images.append(np.concatenate(rimages, axis=1))\n",
    "    \n",
    "    # 垂直拼接所有行的图像，形成一个大的图像\n",
    "    image = np.concatenate(row_images, axis=0)\n",
    "    \n",
    "    # 使用matplotlib的imshow函数显示拼接后的图像\n",
    "    plt.imshow(image, cmap=plt.cm.binary, **options)\n",
    "    \n",
    "    # 关闭图像的坐标轴显示\n",
    "    plt.axis(\"off\")"
   ]
  },
  {
   "cell_type": "code",
   "execution_count": 19,
   "id": "09de0bc4-34e5-4203-8e5d-e452b2c416d0",
   "metadata": {},
   "outputs": [
    {
     "data": {
      "image/png": "[encoded data removed]",
      "text/plain": [
       "<Figure size 900x900 with 1 Axes>"
      ]
     },
     "metadata": {},
     "output_type": "display_data"
    }
   ],
   "source": [
    "# 设置matplotlib图形的尺寸为9x9英寸\n",
    "plt.figure(figsize=(9, 9))\n",
    "\n",
    "# 使用numpy的r_函数来创建一个新的数组，这个数组包含从X中每隔一定步长选取的图像\n",
    "# 这里选取了三组图像，每组图像的起始索引和步长都不同\n",
    "# X是MNIST数据集的特征矩阵，其中包含了所有图像的像素值\n",
    "example_images = np.r_[X[:12000:600], X[13000:30600:600], X[30600:60000:590]]\n",
    "\n",
    "# 调用plot_digits函数来绘制这些图像\n",
    "# 每行显示10个图像\n",
    "plot_digits(example_images, images_per_row=10)\n",
    "\n",
    "# 假设 savefig 是一个已经定义的函数，用于保存当前的图形\n",
    "# 这里需要确保save_fig函数能够正确执行，并且有保存图形的权限\n",
    "plt.savefig(\"images/more_digits_plot.png\",bbox_inches='tight')\n",
    "\n",
    "# 显示图形\n",
    "plt.show()"
   ]
  },
  {
   "cell_type": "code",
   "execution_count": 20,
   "id": "666d0748-6c7d-488f-8ec8-03b49f37d0c6",
   "metadata": {},
   "outputs": [],
   "source": [
    "# 将特征数据X分割为训练集和测试集\n",
    "# X_train包含前60000个样本的特征数据\n",
    "X_train = X[:60000]\n",
    "\n",
    "# X_test包含后10000个样本的特征数据（假设X的总样本数为70000）\n",
    "X_test = X[60000:]\n",
    "\n",
    "# 将标签数据y分割为训练集和测试集\n",
    "# y_train包含前60000个样本的标签\n",
    "y_train = y[:60000]\n",
    "\n",
    "# y_test包含后10000个样本的标签\n",
    "y_test = y[60000:]"
   ]
  },
  {
   "cell_type": "code",
   "execution_count": 21,
   "id": "9f531015-4efb-4ed7-83b9-0e8fdb43f530",
   "metadata": {},
   "outputs": [],
   "source": [
    "# 导入NumPy库，并给它一个常用的别名np\n",
    "import numpy as np\n",
    "\n",
    "# 使用np.random.permutation生成一个从0到59999的随机排列\n",
    "# 这个排列将用于随机打乱训练数据集的索引\n",
    "shuffle_index = np.random.permutation(60000)\n",
    "\n",
    "# 使用上面生成的随机索引来打乱X_train和y_train\n",
    "# 这样，每个特征数据X_train[i]和对应的标签y_train[i]都会根据shuffle_index进行重新排序\n",
    "# 这有助于防止模型训练过程中的过拟合，并确保训练数据的多样性\n",
    "X_train, y_train = X_train[shuffle_index], y_train[shuffle_index]"
   ]
  },
  {
   "cell_type": "code",
   "execution_count": 22,
   "id": "2251d129-bc27-4753-b2ee-9b9a1bb52ba8",
   "metadata": {},
   "outputs": [],
   "source": [
    "# 使用比较操作符'=='和训练集标签y_train创建一个布尔数组y_train_5\n",
    "# 这个数组将包含与y_train中每个元素对应的布尔值，如果标签等于5，则为True，否则为False\n",
    "y_train_5 = (y_train == 5)\n",
    "\n",
    "# 使用比较操作符'=='和测试集标签y_test创建一个布尔数组y_test_5\n",
    "# 这个数组将包含与y_test中每个元素对应的布尔值，如果标签等于5，则为True，否则为False\n",
    "y_test_5 = (y_test == 5)"
   ]
  },
  {
   "cell_type": "code",
   "execution_count": 25,
   "id": "9580f5f0-905e-464d-b770-37e171444c69",
   "metadata": {},
   "outputs": [
    {
     "name": "stderr",
     "output_type": "stream",
     "text": [
      "D:\\Program Files\\Anaconda3\\envs\\MachineL_SKLearn_TensorF_Project\\Lib\\site-packages\\sklearn\\linear_model\\_stochastic_gradient.py:744: ConvergenceWarning: Maximum number of iteration reached before convergence. Consider increasing max_iter to improve the fit.\n",
      "  warnings.warn(\n"
     ]
    },
    {
     "data": {
      "text/html": [
       "<style>#sk-container-id-1 {\n",
       "  /* Definition of color scheme common for light and dark mode */\n",
       "  --sklearn-color-text: black;\n",
       "  --sklearn-color-line: gray;\n",
       "  /* Definition of color scheme for unfitted estimators */\n",
       "  --sklearn-color-unfitted-level-0: #fff5e6;\n",
       "  --sklearn-color-unfitted-level-1: #f6e4d2;\n",
       "  --sklearn-color-unfitted-level-2: #ffe0b3;\n",
       "  --sklearn-color-unfitted-level-3: chocolate;\n",
       "  /* Definition of color scheme for fitted estimators */\n",
       "  --sklearn-color-fitted-level-0: #f0f8ff;\n",
       "  --sklearn-color-fitted-level-1: #d4ebff;\n",
       "  --sklearn-color-fitted-level-2: #b3dbfd;\n",
       "  --sklearn-color-fitted-level-3: cornflowerblue;\n",
       "\n",
       "  /* Specific color for light theme */\n",
       "  --sklearn-color-text-on-default-background: var(--sg-text-color, var(--theme-code-foreground, var(--jp-content-font-color1, black)));\n",
       "  --sklearn-color-background: var(--sg-background-color, var(--theme-background, var(--jp-layout-color0, white)));\n",
       "  --sklearn-color-border-box: var(--sg-text-color, var(--theme-code-foreground, var(--jp-content-font-color1, black)));\n",
       "  --sklearn-color-icon: #696969;\n",
       "\n",
       "  @media (prefers-color-scheme: dark) {\n",
       "    /* Redefinition of color scheme for dark theme */\n",
       "    --sklearn-color-text-on-default-background: var(--sg-text-color, var(--theme-code-foreground, var(--jp-content-font-color1, white)));\n",
       "    --sklearn-color-background: var(--sg-background-color, var(--theme-background, var(--jp-layout-color0, #111)));\n",
       "    --sklearn-color-border-box: var(--sg-text-color, var(--theme-code-foreground, var(--jp-content-font-color1, white)));\n",
       "    --sklearn-color-icon: #878787;\n",
       "  }\n",
       "}\n",
       "\n",
       "#sk-container-id-1 {\n",
       "  color: var(--sklearn-color-text);\n",
       "}\n",
       "\n",
       "#sk-container-id-1 pre {\n",
       "  padding: 0;\n",
       "}\n",
       "\n",
       "#sk-container-id-1 input.sk-hidden--visually {\n",
       "  border: 0;\n",
       "  clip: rect(1px 1px 1px 1px);\n",
       "  clip: rect(1px, 1px, 1px, 1px);\n",
       "  height: 1px;\n",
       "  margin: -1px;\n",
       "  overflow: hidden;\n",
       "  padding: 0;\n",
       "  position: absolute;\n",
       "  width: 1px;\n",
       "}\n",
       "\n",
       "#sk-container-id-1 div.sk-dashed-wrapped {\n",
       "  border: 1px dashed var(--sklearn-color-line);\n",
       "  margin: 0 0.4em 0.5em 0.4em;\n",
       "  box-sizing: border-box;\n",
       "  padding-bottom: 0.4em;\n",
       "  background-color: var(--sklearn-color-background);\n",
       "}\n",
       "\n",
       "#sk-container-id-1 div.sk-container {\n",
       "  /* jupyter's `normalize.less` sets `[hidden] { display: none; }`\n",
       "     but bootstrap.min.css set `[hidden] { display: none !important; }`\n",
       "     so we also need the `!important` here to be able to override the\n",
       "     default hidden behavior on the sphinx rendered scikit-learn.org.\n",
       "     See: https://github.com/scikit-learn/scikit-learn/issues/21755 */\n",
       "  display: inline-block !important;\n",
       "  position: relative;\n",
       "}\n",
       "\n",
       "#sk-container-id-1 div.sk-text-repr-fallback {\n",
       "  display: none;\n",
       "}\n",
       "\n",
       "div.sk-parallel-item,\n",
       "div.sk-serial,\n",
       "div.sk-item {\n",
       "  /* draw centered vertical line to link estimators */\n",
       "  background-image: linear-gradient(var(--sklearn-color-text-on-default-background), var(--sklearn-color-text-on-default-background));\n",
       "  background-size: 2px 100%;\n",
       "  background-repeat: no-repeat;\n",
       "  background-position: center center;\n",
       "}\n",
       "\n",
       "/* Parallel-specific style estimator block */\n",
       "\n",
       "#sk-container-id-1 div.sk-parallel-item::after {\n",
       "  content: \"\";\n",
       "  width: 100%;\n",
       "  border-bottom: 2px solid var(--sklearn-color-text-on-default-background);\n",
       "  flex-grow: 1;\n",
       "}\n",
       "\n",
       "#sk-container-id-1 div.sk-parallel {\n",
       "  display: flex;\n",
       "  align-items: stretch;\n",
       "  justify-content: center;\n",
       "  background-color: var(--sklearn-color-background);\n",
       "  position: relative;\n",
       "}\n",
       "\n",
       "#sk-container-id-1 div.sk-parallel-item {\n",
       "  display: flex;\n",
       "  flex-direction: column;\n",
       "}\n",
       "\n",
       "#sk-container-id-1 div.sk-parallel-item:first-child::after {\n",
       "  align-self: flex-end;\n",
       "  width: 50%;\n",
       "}\n",
       "\n",
       "#sk-container-id-1 div.sk-parallel-item:last-child::after {\n",
       "  align-self: flex-start;\n",
       "  width: 50%;\n",
       "}\n",
       "\n",
       "#sk-container-id-1 div.sk-parallel-item:only-child::after {\n",
       "  width: 0;\n",
       "}\n",
       "\n",
       "/* Serial-specific style estimator block */\n",
       "\n",
       "#sk-container-id-1 div.sk-serial {\n",
       "  display: flex;\n",
       "  flex-direction: column;\n",
       "  align-items: center;\n",
       "  background-color: var(--sklearn-color-background);\n",
       "  padding-right: 1em;\n",
       "  padding-left: 1em;\n",
       "}\n",
       "\n",
       "\n",
       "/* Toggleable style: style used for estimator/Pipeline/ColumnTransformer box that is\n",
       "clickable and can be expanded/collapsed.\n",
       "- Pipeline and ColumnTransformer use this feature and define the default style\n",
       "- Estimators will overwrite some part of the style using the `sk-estimator` class\n",
       "*/\n",
       "\n",
       "/* Pipeline and ColumnTransformer style (default) */\n",
       "\n",
       "#sk-container-id-1 div.sk-toggleable {\n",
       "  /* Default theme specific background. It is overwritten whether we have a\n",
       "  specific estimator or a Pipeline/ColumnTransformer */\n",
       "  background-color: var(--sklearn-color-background);\n",
       "}\n",
       "\n",
       "/* Toggleable label */\n",
       "#sk-container-id-1 label.sk-toggleable__label {\n",
       "  cursor: pointer;\n",
       "  display: block;\n",
       "  width: 100%;\n",
       "  margin-bottom: 0;\n",
       "  padding: 0.5em;\n",
       "  box-sizing: border-box;\n",
       "  text-align: center;\n",
       "}\n",
       "\n",
       "#sk-container-id-1 label.sk-toggleable__label-arrow:before {\n",
       "  /* Arrow on the left of the label */\n",
       "  content: \"▸\";\n",
       "  float: left;\n",
       "  margin-right: 0.25em;\n",
       "  color: var(--sklearn-color-icon);\n",
       "}\n",
       "\n",
       "#sk-container-id-1 label.sk-toggleable__label-arrow:hover:before {\n",
       "  color: var(--sklearn-color-text);\n",
       "}\n",
       "\n",
       "/* Toggleable content - dropdown */\n",
       "\n",
       "#sk-container-id-1 div.sk-toggleable__content {\n",
       "  max-height: 0;\n",
       "  max-width: 0;\n",
       "  overflow: hidden;\n",
       "  text-align: left;\n",
       "  /* unfitted */\n",
       "  background-color: var(--sklearn-color-unfitted-level-0);\n",
       "}\n",
       "\n",
       "#sk-container-id-1 div.sk-toggleable__content.fitted {\n",
       "  /* fitted */\n",
       "  background-color: var(--sklearn-color-fitted-level-0);\n",
       "}\n",
       "\n",
       "#sk-container-id-1 div.sk-toggleable__content pre {\n",
       "  margin: 0.2em;\n",
       "  border-radius: 0.25em;\n",
       "  color: var(--sklearn-color-text);\n",
       "  /* unfitted */\n",
       "  background-color: var(--sklearn-color-unfitted-level-0);\n",
       "}\n",
       "\n",
       "#sk-container-id-1 div.sk-toggleable__content.fitted pre {\n",
       "  /* unfitted */\n",
       "  background-color: var(--sklearn-color-fitted-level-0);\n",
       "}\n",
       "\n",
       "#sk-container-id-1 input.sk-toggleable__control:checked~div.sk-toggleable__content {\n",
       "  /* Expand drop-down */\n",
       "  max-height: 200px;\n",
       "  max-width: 100%;\n",
       "  overflow: auto;\n",
       "}\n",
       "\n",
       "#sk-container-id-1 input.sk-toggleable__control:checked~label.sk-toggleable__label-arrow:before {\n",
       "  content: \"▾\";\n",
       "}\n",
       "\n",
       "/* Pipeline/ColumnTransformer-specific style */\n",
       "\n",
       "#sk-container-id-1 div.sk-label input.sk-toggleable__control:checked~label.sk-toggleable__label {\n",
       "  color: var(--sklearn-color-text);\n",
       "  background-color: var(--sklearn-color-unfitted-level-2);\n",
       "}\n",
       "\n",
       "#sk-container-id-1 div.sk-label.fitted input.sk-toggleable__control:checked~label.sk-toggleable__label {\n",
       "  background-color: var(--sklearn-color-fitted-level-2);\n",
       "}\n",
       "\n",
       "/* Estimator-specific style */\n",
       "\n",
       "/* Colorize estimator box */\n",
       "#sk-container-id-1 div.sk-estimator input.sk-toggleable__control:checked~label.sk-toggleable__label {\n",
       "  /* unfitted */\n",
       "  background-color: var(--sklearn-color-unfitted-level-2);\n",
       "}\n",
       "\n",
       "#sk-container-id-1 div.sk-estimator.fitted input.sk-toggleable__control:checked~label.sk-toggleable__label {\n",
       "  /* fitted */\n",
       "  background-color: var(--sklearn-color-fitted-level-2);\n",
       "}\n",
       "\n",
       "#sk-container-id-1 div.sk-label label.sk-toggleable__label,\n",
       "#sk-container-id-1 div.sk-label label {\n",
       "  /* The background is the default theme color */\n",
       "  color: var(--sklearn-color-text-on-default-background);\n",
       "}\n",
       "\n",
       "/* On hover, darken the color of the background */\n",
       "#sk-container-id-1 div.sk-label:hover label.sk-toggleable__label {\n",
       "  color: var(--sklearn-color-text);\n",
       "  background-color: var(--sklearn-color-unfitted-level-2);\n",
       "}\n",
       "\n",
       "/* Label box, darken color on hover, fitted */\n",
       "#sk-container-id-1 div.sk-label.fitted:hover label.sk-toggleable__label.fitted {\n",
       "  color: var(--sklearn-color-text);\n",
       "  background-color: var(--sklearn-color-fitted-level-2);\n",
       "}\n",
       "\n",
       "/* Estimator label */\n",
       "\n",
       "#sk-container-id-1 div.sk-label label {\n",
       "  font-family: monospace;\n",
       "  font-weight: bold;\n",
       "  display: inline-block;\n",
       "  line-height: 1.2em;\n",
       "}\n",
       "\n",
       "#sk-container-id-1 div.sk-label-container {\n",
       "  text-align: center;\n",
       "}\n",
       "\n",
       "/* Estimator-specific */\n",
       "#sk-container-id-1 div.sk-estimator {\n",
       "  font-family: monospace;\n",
       "  border: 1px dotted var(--sklearn-color-border-box);\n",
       "  border-radius: 0.25em;\n",
       "  box-sizing: border-box;\n",
       "  margin-bottom: 0.5em;\n",
       "  /* unfitted */\n",
       "  background-color: var(--sklearn-color-unfitted-level-0);\n",
       "}\n",
       "\n",
       "#sk-container-id-1 div.sk-estimator.fitted {\n",
       "  /* fitted */\n",
       "  background-color: var(--sklearn-color-fitted-level-0);\n",
       "}\n",
       "\n",
       "/* on hover */\n",
       "#sk-container-id-1 div.sk-estimator:hover {\n",
       "  /* unfitted */\n",
       "  background-color: var(--sklearn-color-unfitted-level-2);\n",
       "}\n",
       "\n",
       "#sk-container-id-1 div.sk-estimator.fitted:hover {\n",
       "  /* fitted */\n",
       "  background-color: var(--sklearn-color-fitted-level-2);\n",
       "}\n",
       "\n",
       "/* Specification for estimator info (e.g. \"i\" and \"?\") */\n",
       "\n",
       "/* Common style for \"i\" and \"?\" */\n",
       "\n",
       ".sk-estimator-doc-link,\n",
       "a:link.sk-estimator-doc-link,\n",
       "a:visited.sk-estimator-doc-link {\n",
       "  float: right;\n",
       "  font-size: smaller;\n",
       "  line-height: 1em;\n",
       "  font-family: monospace;\n",
       "  background-color: var(--sklearn-color-background);\n",
       "  border-radius: 1em;\n",
       "  height: 1em;\n",
       "  width: 1em;\n",
       "  text-decoration: none !important;\n",
       "  margin-left: 1ex;\n",
       "  /* unfitted */\n",
       "  border: var(--sklearn-color-unfitted-level-1) 1pt solid;\n",
       "  color: var(--sklearn-color-unfitted-level-1);\n",
       "}\n",
       "\n",
       ".sk-estimator-doc-link.fitted,\n",
       "a:link.sk-estimator-doc-link.fitted,\n",
       "a:visited.sk-estimator-doc-link.fitted {\n",
       "  /* fitted */\n",
       "  border: var(--sklearn-color-fitted-level-1) 1pt solid;\n",
       "  color: var(--sklearn-color-fitted-level-1);\n",
       "}\n",
       "\n",
       "/* On hover */\n",
       "div.sk-estimator:hover .sk-estimator-doc-link:hover,\n",
       ".sk-estimator-doc-link:hover,\n",
       "div.sk-label-container:hover .sk-estimator-doc-link:hover,\n",
       ".sk-estimator-doc-link:hover {\n",
       "  /* unfitted */\n",
       "  background-color: var(--sklearn-color-unfitted-level-3);\n",
       "  color: var(--sklearn-color-background);\n",
       "  text-decoration: none;\n",
       "}\n",
       "\n",
       "div.sk-estimator.fitted:hover .sk-estimator-doc-link.fitted:hover,\n",
       ".sk-estimator-doc-link.fitted:hover,\n",
       "div.sk-label-container:hover .sk-estimator-doc-link.fitted:hover,\n",
       ".sk-estimator-doc-link.fitted:hover {\n",
       "  /* fitted */\n",
       "  background-color: var(--sklearn-color-fitted-level-3);\n",
       "  color: var(--sklearn-color-background);\n",
       "  text-decoration: none;\n",
       "}\n",
       "\n",
       "/* Span, style for the box shown on hovering the info icon */\n",
       ".sk-estimator-doc-link span {\n",
       "  display: none;\n",
       "  z-index: 9999;\n",
       "  position: relative;\n",
       "  font-weight: normal;\n",
       "  right: .2ex;\n",
       "  padding: .5ex;\n",
       "  margin: .5ex;\n",
       "  width: min-content;\n",
       "  min-width: 20ex;\n",
       "  max-width: 50ex;\n",
       "  color: var(--sklearn-color-text);\n",
       "  box-shadow: 2pt 2pt 4pt #999;\n",
       "  /* unfitted */\n",
       "  background: var(--sklearn-color-unfitted-level-0);\n",
       "  border: .5pt solid var(--sklearn-color-unfitted-level-3);\n",
       "}\n",
       "\n",
       ".sk-estimator-doc-link.fitted span {\n",
       "  /* fitted */\n",
       "  background: var(--sklearn-color-fitted-level-0);\n",
       "  border: var(--sklearn-color-fitted-level-3);\n",
       "}\n",
       "\n",
       ".sk-estimator-doc-link:hover span {\n",
       "  display: block;\n",
       "}\n",
       "\n",
       "/* \"?\"-specific style due to the `<a>` HTML tag */\n",
       "\n",
       "#sk-container-id-1 a.estimator_doc_link {\n",
       "  float: right;\n",
       "  font-size: 1rem;\n",
       "  line-height: 1em;\n",
       "  font-family: monospace;\n",
       "  background-color: var(--sklearn-color-background);\n",
       "  border-radius: 1rem;\n",
       "  height: 1rem;\n",
       "  width: 1rem;\n",
       "  text-decoration: none;\n",
       "  /* unfitted */\n",
       "  color: var(--sklearn-color-unfitted-level-1);\n",
       "  border: var(--sklearn-color-unfitted-level-1) 1pt solid;\n",
       "}\n",
       "\n",
       "#sk-container-id-1 a.estimator_doc_link.fitted {\n",
       "  /* fitted */\n",
       "  border: var(--sklearn-color-fitted-level-1) 1pt solid;\n",
       "  color: var(--sklearn-color-fitted-level-1);\n",
       "}\n",
       "\n",
       "/* On hover */\n",
       "#sk-container-id-1 a.estimator_doc_link:hover {\n",
       "  /* unfitted */\n",
       "  background-color: var(--sklearn-color-unfitted-level-3);\n",
       "  color: var(--sklearn-color-background);\n",
       "  text-decoration: none;\n",
       "}\n",
       "\n",
       "#sk-container-id-1 a.estimator_doc_link.fitted:hover {\n",
       "  /* fitted */\n",
       "  background-color: var(--sklearn-color-fitted-level-3);\n",
       "}\n",
       "</style><div id=\"sk-container-id-1\" class=\"sk-top-container\"><div class=\"sk-text-repr-fallback\"><pre>SGDClassifier(max_iter=5, random_state=42, tol=0)</pre><b>In a Jupyter environment, please rerun this cell to show the HTML representation or trust the notebook. <br />On GitHub, the HTML representation is unable to render, please try loading this page with nbviewer.org.</b></div><div class=\"sk-container\" hidden><div class=\"sk-item\"><div class=\"sk-estimator fitted sk-toggleable\"><input class=\"sk-toggleable__control sk-hidden--visually\" id=\"sk-estimator-id-1\" type=\"checkbox\" checked><label for=\"sk-estimator-id-1\" class=\"sk-toggleable__label fitted sk-toggleable__label-arrow fitted\">&nbsp;&nbsp;SGDClassifier<a class=\"sk-estimator-doc-link fitted\" rel=\"noreferrer\" target=\"_blank\" href=\"https://scikit-learn.org/1.5/modules/generated/sklearn.linear_model.SGDClassifier.html\">?<span>Documentation for SGDClassifier</span></a><span class=\"sk-estimator-doc-link fitted\">i<span>Fitted</span></span></label><div class=\"sk-toggleable__content fitted\"><pre>SGDClassifier(max_iter=5, random_state=42, tol=0)</pre></div> </div></div></div></div>"
      ],
      "text/plain": [
       "SGDClassifier(max_iter=5, random_state=42, tol=0)"
      ]
     },
     "execution_count": 25,
     "metadata": {},
     "output_type": "execute_result"
    }
   ],
   "source": [
    "from sklearn.linear_model import SGDClassifier\n",
    "import numpy as np\n",
    "\n",
    "# 创建SGDClassifier实例，设置一些参数\n",
    "# max_iter=5：设置迭代次数为5\n",
    "# tol=0：设置容忍度为0，这意味着训练将不会因收敛而提前停止\n",
    "# random_state=42：设置随机状态为42，以确保结果的可重复性\n",
    "sgd_clf = SGDClassifier(max_iter=5, tol=0, random_state=42)\n",
    "\n",
    "# 使用fit方法训练分类器\n",
    "# X_train是训练数据的特征集\n",
    "# y_train_5是一个布尔数组，表示训练数据的标签是否为5\n",
    "# 这里只训练模型以识别数字5，忽略了其他标签的样本\n",
    "sgd_clf.fit(X_train, y_train_5)"
   ]
  },
  {
   "cell_type": "code",
   "execution_count": 27,
   "id": "f461025d-9858-4fa1-8f04-61d3261e1c59",
   "metadata": {},
   "outputs": [
    {
     "data": {
      "text/plain": [
       "array([ True])"
      ]
     },
     "execution_count": 27,
     "metadata": {},
     "output_type": "execute_result"
    }
   ],
   "source": [
    "# 使用训练好的SGDClassifier模型sgd_clf对单个图像some_digit进行预测\n",
    "# some_digit是一个784维的NumPy数组，表示一个已经预处理和标准化的手写数字图像\n",
    "# 这个数组需要与训练数据具有相同的格式和特征\n",
    "# predict方法将返回模型预测的标签\n",
    "prediction = sgd_clf.predict([some_digit])\n",
    "prediction"
   ]
  },
  {
   "cell_type": "code",
   "execution_count": 28,
   "id": "8024e65e-8343-402c-9169-fe4fcb0fb623",
   "metadata": {},
   "outputs": [
    {
     "name": "stderr",
     "output_type": "stream",
     "text": [
      "D:\\Program Files\\Anaconda3\\envs\\MachineL_SKLearn_TensorF_Project\\Lib\\site-packages\\sklearn\\linear_model\\_stochastic_gradient.py:744: ConvergenceWarning: Maximum number of iteration reached before convergence. Consider increasing max_iter to improve the fit.\n",
      "  warnings.warn(\n"
     ]
    },
    {
     "name": "stdout",
     "output_type": "stream",
     "text": [
      "0.9673\n"
     ]
    },
    {
     "name": "stderr",
     "output_type": "stream",
     "text": [
      "D:\\Program Files\\Anaconda3\\envs\\MachineL_SKLearn_TensorF_Project\\Lib\\site-packages\\sklearn\\linear_model\\_stochastic_gradient.py:744: ConvergenceWarning: Maximum number of iteration reached before convergence. Consider increasing max_iter to improve the fit.\n",
      "  warnings.warn(\n"
     ]
    },
    {
     "name": "stdout",
     "output_type": "stream",
     "text": [
      "0.96295\n",
      "0.96085\n"
     ]
    },
    {
     "name": "stderr",
     "output_type": "stream",
     "text": [
      "D:\\Program Files\\Anaconda3\\envs\\MachineL_SKLearn_TensorF_Project\\Lib\\site-packages\\sklearn\\linear_model\\_stochastic_gradient.py:744: ConvergenceWarning: Maximum number of iteration reached before convergence. Consider increasing max_iter to improve the fit.\n",
      "  warnings.warn(\n"
     ]
    }
   ],
   "source": [
    "from sklearn.model_selection import StratifiedKFold\n",
    "from sklearn.base import clone\n",
    "\n",
    "# 创建StratifiedKFold对象，用于分层K折交叉验证\n",
    "# n_splits=3：设置折数为3\n",
    "# random_state=42：设置随机状态为42，确保结果的可重复性\n",
    "# shuffle=True：在分割前对数据进行打乱\n",
    "skfolds = StratifiedKFold(n_splits=3, random_state=42, shuffle=True)\n",
    "\n",
    "# 遍历StratifiedKFold生成的每个训练集和测试集索引\n",
    "for train_index, test_index in skfolds.split(X_train, y_train_5):\n",
    "    # 使用clone函数复制原始的SGDClassifier模型\n",
    "    clone_clf = clone(sgd_clf)\n",
    "\n",
    "    # 根据生成的索引获取当前折的训练集和测试集数据\n",
    "    X_train_folds = X_train[train_index]\n",
    "    y_train_folds = y_train_5[train_index]  # 注意这里y_train_5已经是一个布尔数组\n",
    "    X_test_fold = X_train[test_index]\n",
    "    y_test_fold = y_train_5[test_index]     # 同上\n",
    "\n",
    "    # 使用当前折的训练集数据训练复制的模型\n",
    "    clone_clf.fit(X_train_folds, y_train_folds)\n",
    "\n",
    "    # 使用训练好的模型对当前折的测试集进行预测\n",
    "    y_pred = clone_clf.predict(X_test_fold)\n",
    "\n",
    "    # 计算预测正确的数量\n",
    "    n_correct = sum(y_pred == y_test_fold)\n",
    "\n",
    "    # 打印当前折的准确率，即预测正确的样本数占总样本的比例\n",
    "    print(n_correct / len(y_pred))"
   ]
  },
  {
   "cell_type": "code",
   "execution_count": 30,
   "id": "45994b43-ef98-437a-8ade-71fcee60190f",
   "metadata": {},
   "outputs": [
    {
     "name": "stderr",
     "output_type": "stream",
     "text": [
      "D:\\Program Files\\Anaconda3\\envs\\MachineL_SKLearn_TensorF_Project\\Lib\\site-packages\\sklearn\\linear_model\\_stochastic_gradient.py:744: ConvergenceWarning: Maximum number of iteration reached before convergence. Consider increasing max_iter to improve the fit.\n",
      "  warnings.warn(\n",
      "D:\\Program Files\\Anaconda3\\envs\\MachineL_SKLearn_TensorF_Project\\Lib\\site-packages\\sklearn\\linear_model\\_stochastic_gradient.py:744: ConvergenceWarning: Maximum number of iteration reached before convergence. Consider increasing max_iter to improve the fit.\n",
      "  warnings.warn(\n",
      "D:\\Program Files\\Anaconda3\\envs\\MachineL_SKLearn_TensorF_Project\\Lib\\site-packages\\sklearn\\linear_model\\_stochastic_gradient.py:744: ConvergenceWarning: Maximum number of iteration reached before convergence. Consider increasing max_iter to improve the fit.\n",
      "  warnings.warn(\n"
     ]
    },
    {
     "data": {
      "text/plain": [
       "array([0.93745, 0.96445, 0.9504 ])"
      ]
     },
     "execution_count": 30,
     "metadata": {},
     "output_type": "execute_result"
    }
   ],
   "source": [
    "from sklearn.model_selection import cross_val_score\n",
    "\n",
    "# 使用cross_val_score函数执行交叉验证\n",
    "# sgd_clf是之前创建并配置好的SGDClassifier模型\n",
    "# X_train是训练数据的特征集\n",
    "# y_train_5是布尔数组，表示训练数据标签是否为5\n",
    "# cv=3：设置交叉验证的折数为3\n",
    "# scoring=\"accuracy\"：设置评分标准为准确率\n",
    "# 这个函数将返回模型在每个折上的准确率得分\n",
    "scores = cross_val_score(sgd_clf, X_train, y_train_5, cv=3, scoring=\"accuracy\")\n",
    "scores"
   ]
  },
  {
   "cell_type": "code",
   "execution_count": 31,
   "id": "b9d50611-61b8-4305-a64b-dec7de828096",
   "metadata": {},
   "outputs": [],
   "source": [
    "from sklearn.base import BaseEstimator\n",
    "\n",
    "# 定义一个名为Never5Classifier的类，它继承自scikit-learn的BaseEstimator类\n",
    "class Never5Classifier(BaseEstimator):\n",
    "    \n",
    "    def fit(self, X, y=None):\n",
    "        # fit方法不接受任何参数，不执行任何操作\n",
    "        # 这个方法是必需的，因为它是BaseEstimator接口的一部分\n",
    "        pass\n",
    "    \n",
    "    def predict(self, X):\n",
    "        # predict方法接受输入数据X，并返回一个布尔数组\n",
    "        # 这个数组的长度与输入数据X的样本数相同，但总是预测为0（False）\n",
    "        # 即这个分类器总是预测结果为非5（非True）\n",
    "        # dtype=bool确保返回数组的数据类型为布尔型\n",
    "        return np.zeros((len(X), 1), dtype=bool)"
   ]
  },
  {
   "cell_type": "code",
   "execution_count": 33,
   "id": "5fac1d5f-8c62-4e74-bf2a-2fae9db2cab8",
   "metadata": {},
   "outputs": [
    {
     "data": {
      "text/plain": [
       "array([0.91085, 0.90765, 0.91045])"
      ]
     },
     "execution_count": 33,
     "metadata": {},
     "output_type": "execute_result"
    }
   ],
   "source": [
    "# 创建Never5Classifier类的实例，命名为never_5_clf\n",
    "never_5_clf = Never5Classifier()\n",
    "\n",
    "# 使用cross_val_score函数执行交叉验证\n",
    "# never_5_clf是Never5Classifier的实例，它总是预测0（即非5）\n",
    "# X_train是训练数据的特征集\n",
    "# y_train_5是布尔数组，表示训练数据标签是否为5\n",
    "# cv=3：设置交叉验证的折数为3\n",
    "# scoring=\"accuracy\"：设置评分标准为准确率\n",
    "# 这个函数将返回never_5_clf模型在每个折上的准确率得分\n",
    "scores = cross_val_score(never_5_clf, X_train, y_train_5, cv=3, scoring=\"accuracy\")\n",
    "scores"
   ]
  },
  {
   "cell_type": "code",
   "execution_count": 34,
   "id": "45e4878f-2aa4-4ae1-8ef9-a88d334b208d",
   "metadata": {},
   "outputs": [
    {
     "name": "stderr",
     "output_type": "stream",
     "text": [
      "D:\\Program Files\\Anaconda3\\envs\\MachineL_SKLearn_TensorF_Project\\Lib\\site-packages\\sklearn\\linear_model\\_stochastic_gradient.py:744: ConvergenceWarning: Maximum number of iteration reached before convergence. Consider increasing max_iter to improve the fit.\n",
      "  warnings.warn(\n",
      "D:\\Program Files\\Anaconda3\\envs\\MachineL_SKLearn_TensorF_Project\\Lib\\site-packages\\sklearn\\linear_model\\_stochastic_gradient.py:744: ConvergenceWarning: Maximum number of iteration reached before convergence. Consider increasing max_iter to improve the fit.\n",
      "  warnings.warn(\n",
      "D:\\Program Files\\Anaconda3\\envs\\MachineL_SKLearn_TensorF_Project\\Lib\\site-packages\\sklearn\\linear_model\\_stochastic_gradient.py:744: ConvergenceWarning: Maximum number of iteration reached before convergence. Consider increasing max_iter to improve the fit.\n",
      "  warnings.warn(\n"
     ]
    }
   ],
   "source": [
    "from sklearn.model_selection import cross_val_predict\n",
    "\n",
    "# 使用cross_val_predict函数执行交叉验证预测\n",
    "# sgd_clf是之前创建并配置好的SGDClassifier模型\n",
    "# X_train是训练数据的特征集\n",
    "# y_train_5是布尔数组，表示训练数据标签是否为5\n",
    "# cv=3：设置交叉验证的折数为3\n",
    "# 这个函数将返回在每个折上使用训练数据预测的标签\n",
    "y_train_pred = cross_val_predict(sgd_clf, X_train, y_train_5, cv=3)"
   ]
  },
  {
   "cell_type": "code",
   "execution_count": 36,
   "id": "704f2a0a-ecfe-444d-b459-c9bbb3b50e7b",
   "metadata": {},
   "outputs": [
    {
     "data": {
      "text/plain": [
       "array([[53352,  1227],\n",
       "       [ 1727,  3694]])"
      ]
     },
     "execution_count": 36,
     "metadata": {},
     "output_type": "execute_result"
    }
   ],
   "source": [
    "from sklearn.metrics import confusion_matrix\n",
    "\n",
    "# 使用confusion_matrix函数计算模型预测结果y_train_pred与实际标签y_train_5之间的混淆矩阵\n",
    "# y_train_5是训练数据的实际标签的布尔数组，表示标签是否为5\n",
    "# y_train_pred是使用cross_val_predict得到的预测结果\n",
    "# 这个函数将返回一个混淆矩阵，显示了预测为正类（即5）和负类（非5）的样本数量\n",
    "# 混淆矩阵可以帮助我们了解模型在哪些情况下容易混淆，以及它的召回率和精确度\n",
    "conf_mat = confusion_matrix(y_train_5, y_train_pred)\n",
    "conf_mat"
   ]
  },
  {
   "cell_type": "code",
   "execution_count": 37,
   "id": "f22216a1-3946-4440-be15-2d00be1184cd",
   "metadata": {},
   "outputs": [
    {
     "data": {
      "text/plain": [
       "array([[54579,     0],\n",
       "       [    0,  5421]])"
      ]
     },
     "execution_count": 37,
     "metadata": {},
     "output_type": "execute_result"
    }
   ],
   "source": [
    "# 假设y_train_5是训练数据的实际标签的布尔数组\n",
    "# y_train_perfect_predictions是完美预测结果的数组，这里直接将实际标签赋值给它\n",
    "# 这表示我们假设模型的预测是完美的，即预测结果与实际标签完全一致\n",
    "y_train_perfect_predictions = y_train_5\n",
    "\n",
    "# 使用confusion_matrix函数计算完美预测情况下的混淆矩阵\n",
    "# 这里，真实的标签y_train_5和预测的完美标签y_train_perfect_predictions是相同的\n",
    "# 因此，混淆矩阵将只包含真正例（TP）和真负例（TN），不会有假正例（FP）或假负例（FN）\n",
    "# 这个混淆矩阵提供了模型在没有误差时的理论上限性能\n",
    "conf_mat_perfect = confusion_matrix(y_train_5, y_train_perfect_predictions)\n",
    "conf_mat_perfect"
   ]
  },
  {
   "cell_type": "code",
   "execution_count": 39,
   "id": "423e6f60-1867-4af9-82ba-b7cb459553c0",
   "metadata": {},
   "outputs": [
    {
     "data": {
      "text/plain": [
       "np.float64(0.7506604348709612)"
      ]
     },
     "execution_count": 39,
     "metadata": {},
     "output_type": "execute_result"
    }
   ],
   "source": [
    "from sklearn.metrics import precision_score, recall_score\n",
    "\n",
    "# 使用precision_score函数计算模型预测的精确度\n",
    "# y_train_5是训练数据的实际标签的布尔数组，表示标签是否为5\n",
    "# y_train_pred是使用cross_val_predict得到的预测结果\n",
    "# 精确度（precision）是在所有被模型预测为正类（即5）的样本中，实际为正类的比例\n",
    "# 这个指标有助于评估模型在预测正类时的准确性\n",
    "precision = precision_score(y_train_5, y_train_pred)\n",
    "precision"
   ]
  },
  {
   "cell_type": "code",
   "execution_count": 42,
   "id": "c90e2ad0-63ad-44d0-9c0e-f6f6d23c7c6b",
   "metadata": {},
   "outputs": [
    {
     "data": {
      "text/plain": [
       "0.7506604348709612"
      ]
     },
     "execution_count": 42,
     "metadata": {},
     "output_type": "execute_result"
    }
   ],
   "source": [
    "3694/(3694+1227)"
   ]
  },
  {
   "cell_type": "code",
   "execution_count": 44,
   "id": "81b3ff00-f7fd-40a8-b385-86358ec0be07",
   "metadata": {},
   "outputs": [
    {
     "data": {
      "text/plain": [
       "np.float64(0.6814240914960339)"
      ]
     },
     "execution_count": 44,
     "metadata": {},
     "output_type": "execute_result"
    }
   ],
   "source": [
    "from sklearn.metrics import recall_score\n",
    "\n",
    "# 使用recall_score函数计算模型预测的召回率\n",
    "# y_train_5是训练数据的实际标签的布尔数组，表示标签是否为5\n",
    "# y_train_pred是使用cross_val_predict得到的预测结果\n",
    "# 召回率（recall）是在所有实际为正类（即5）的样本中，被模型正确预测为正类的比例\n",
    "# 这个指标有助于评估模型捕捉所有正类样本的能力，即使在数据不平衡的情况下\n",
    "recall = recall_score(y_train_5, y_train_pred)\n",
    "recall"
   ]
  },
  {
   "cell_type": "code",
   "execution_count": 45,
   "id": "5d6ed107-3948-4ac2-a6ce-ab3850e24864",
   "metadata": {},
   "outputs": [
    {
     "data": {
      "text/plain": [
       "0.6814240914960339"
      ]
     },
     "execution_count": 45,
     "metadata": {},
     "output_type": "execute_result"
    }
   ],
   "source": [
    "3694/(3694+1727)"
   ]
  },
  {
   "cell_type": "code",
   "execution_count": 47,
   "id": "6c043008-42a1-4418-bdfe-97d6a52d0238",
   "metadata": {},
   "outputs": [
    {
     "data": {
      "text/plain": [
       "np.float64(0.7143685940823825)"
      ]
     },
     "execution_count": 47,
     "metadata": {},
     "output_type": "execute_result"
    }
   ],
   "source": [
    "from sklearn.metrics import f1_score\n",
    "\n",
    "# 使用f1_score函数计算模型预测的F1分数\n",
    "# y_train_5是训练数据的实际标签的布尔数组，表示标签是否为5\n",
    "# y_train_pred是使用cross_val_predict得到的预测结果\n",
    "# F1分数是精确度和召回率的调和平均数，它在两者之间取得一个平衡\n",
    "# 当精确度和召回率相差较大时，F1分数能提供一个比单独的精确度或召回率更全面的性能指标\n",
    "f1 = f1_score(y_train_5, y_train_pred)\n",
    "f1"
   ]
  },
  {
   "cell_type": "code",
   "execution_count": 48,
   "id": "7c14ee40-15a9-4b6c-bd3a-d6b854c9fc1e",
   "metadata": {},
   "outputs": [
    {
     "data": {
      "text/plain": [
       "0.7143685940823825"
      ]
     },
     "execution_count": 48,
     "metadata": {},
     "output_type": "execute_result"
    }
   ],
   "source": [
    "3694/(3694+(1727+1227)/2)"
   ]
  },
  {
   "cell_type": "code",
   "execution_count": 49,
   "id": "b9ed4427-9ae4-4412-9704-2c7ca795cdfb",
   "metadata": {},
   "outputs": [
    {
     "data": {
      "text/plain": [
       "array([192711.73865475])"
      ]
     },
     "execution_count": 49,
     "metadata": {},
     "output_type": "execute_result"
    }
   ],
   "source": [
    "# 使用SGDClassifier模型的decision_function方法为单个图像some_digit生成分数\n",
    "# some_digit是一个784维的NumPy数组，表示一个手写数字图像\n",
    "# decision_function方法返回的是一个数组，其中包含模型对输入样本的原始决策分数\n",
    "# 对于SGDClassifier，这个分数表示模型预测样本为正类（例如数字5）的相对可能性\n",
    "# 返回的y_scores将是一个一维数组，包含对应于每个类别的分数\n",
    "y_scores = sgd_clf.decision_function([some_digit])\n",
    "\n",
    "# 打印y_scores，这将显示模型对some_digit属于每个类别的评分\n",
    "y_scores"
   ]
  },
  {
   "cell_type": "code",
   "execution_count": 51,
   "id": "a9e31052-736d-418d-8f7d-38aebc62e38d",
   "metadata": {},
   "outputs": [
    {
     "data": {
      "text/plain": [
       "array([ True])"
      ]
     },
     "execution_count": 51,
     "metadata": {},
     "output_type": "execute_result"
    }
   ],
   "source": [
    "# 设置一个阈值为0\n",
    "# 在使用决策函数分数进行预测时，阈值用于确定样本应该被分类到哪一类\n",
    "# 如果模型是用于二分类问题，且决策函数的分数表示为正类的概率或对数几率，阈值通常设为0\n",
    "threshold = 0\n",
    "\n",
    "# 使用决策函数的分数y_scores和阈值threshold来生成预测\n",
    "# y_some_digit_pred是一个布尔数组，表示模型预测的样本是否属于正类\n",
    "# 如果y_scores中的分数大于阈值，则预测为正类（例如数字5），否则为负类（非5）\n",
    "# 这里因为我们只考虑了是否为数字5，所以结果是二元的（True或False）\n",
    "y_some_digit_pred = (y_scores > threshold)\n",
    "y_some_digit_pred"
   ]
  },
  {
   "cell_type": "code",
   "execution_count": 52,
   "id": "9f2816d1-7128-4648-b1cf-ea3a7e205300",
   "metadata": {},
   "outputs": [
    {
     "data": {
      "text/plain": [
       "array([False])"
      ]
     },
     "execution_count": 52,
     "metadata": {},
     "output_type": "execute_result"
    }
   ],
   "source": [
    "# 设置一个较高的阈值200000\n",
    "# 在实际应用中，阈值的选择取决于模型输出的分数范围和问题的具体需求\n",
    "# 较高的阈值意味着只有当模型对样本属于正类（例如数字5）的预测非常有信心时\n",
    "# 才会将其分类为正类，这可能会降低召回率但提高精确度\n",
    "threshold = 200000\n",
    "\n",
    "# 使用决策函数的分数y_scores和设置的阈值threshold来生成预测\n",
    "# y_some_digit_pred是一个布尔数组，根据y_scores是否大于阈值来预测样本是否属于正类\n",
    "# 如果y_scores中的分数大于阈值，则预测为正类（例如数字5）\n",
    "# 否则，预测为负类（非5）\n",
    "y_some_digit_pred = (y_scores > threshold)\n",
    "\n",
    "# 打印y_some_digit_pred，这将显示模型对some_digit图像的预测结果\n",
    "# 结果将是True或False，表示模型是否预测some_digit为正类\n",
    "y_some_digit_pred"
   ]
  },
  {
   "cell_type": "code",
   "execution_count": 53,
   "id": "26c92dd4-d7ae-4827-89fe-6d32c5196b7e",
   "metadata": {},
   "outputs": [
    {
     "name": "stderr",
     "output_type": "stream",
     "text": [
      "D:\\Program Files\\Anaconda3\\envs\\MachineL_SKLearn_TensorF_Project\\Lib\\site-packages\\sklearn\\linear_model\\_stochastic_gradient.py:744: ConvergenceWarning: Maximum number of iteration reached before convergence. Consider increasing max_iter to improve the fit.\n",
      "  warnings.warn(\n",
      "D:\\Program Files\\Anaconda3\\envs\\MachineL_SKLearn_TensorF_Project\\Lib\\site-packages\\sklearn\\linear_model\\_stochastic_gradient.py:744: ConvergenceWarning: Maximum number of iteration reached before convergence. Consider increasing max_iter to improve the fit.\n",
      "  warnings.warn(\n",
      "D:\\Program Files\\Anaconda3\\envs\\MachineL_SKLearn_TensorF_Project\\Lib\\site-packages\\sklearn\\linear_model\\_stochastic_gradient.py:744: ConvergenceWarning: Maximum number of iteration reached before convergence. Consider increasing max_iter to improve the fit.\n",
      "  warnings.warn(\n"
     ]
    }
   ],
   "source": [
    "# 使用cross_val_predict函数执行交叉验证预测\n",
    "# sgd_clf是之前创建并配置好的SGDClassifier模型\n",
    "# X_train是训练数据的特征集\n",
    "# y_train_5是布尔数组，表示训练数据标签是否为5\n",
    "# cv=3：设置交叉验证的折数为3\n",
    "# method=\"decision_function\"：指定cross_val_predict使用decision_function方法\n",
    "#   来获取模型的决策函数分数，而不是直接的预测标签\n",
    "#   这些分数表示模型预测样本属于各个类别的原始分数\n",
    "y_scores = cross_val_predict(sgd_clf, X_train, y_train_5, cv=3, method=\"decision_function\")"
   ]
  },
  {
   "cell_type": "code",
   "execution_count": 55,
   "id": "fd882aee-685c-4845-9a65-d4db378b5156",
   "metadata": {},
   "outputs": [],
   "source": [
    "from sklearn.metrics import precision_recall_curve\n",
    "\n",
    "# 使用precision_recall_curve函数计算精确度-召回率曲线\n",
    "# y_train_5是训练数据的实际标签的布尔数组，表示标签是否为5\n",
    "# y_scores是使用cross_val_predict得到的决策函数分数\n",
    "# 这个函数返回三个数组：\n",
    "# precisions：在不同的阈值下计算的精确度值\n",
    "# recalls：在不同的阈值下计算的召回率值\n",
    "# thresholds：与每个精确度和召回率值对应的阈值\n",
    "precisions, recalls, thresholds = precision_recall_curve(y_train_5, y_scores)"
   ]
  },
  {
   "cell_type": "code",
   "execution_count": 68,
   "id": "1ea3db88-77a7-4c36-9261-8d54e78f5e04",
   "metadata": {},
   "outputs": [
    {
     "data": {
      "image/png": "[encoded data removed]",
      "text/plain": [
       "<Figure size 800x400 with 1 Axes>"
      ]
     },
     "metadata": {},
     "output_type": "display_data"
    }
   ],
   "source": [
    "import matplotlib.pyplot as plt\n",
    "from sklearn.metrics import precision_recall_curve\n",
    "\n",
    "# 自定义函数plot_precision_recall_vs_threshold，用于绘制精确度-召回率曲线\n",
    "def plot_precision_recall_vs_threshold(precisions, recalls, thresholds):\n",
    "    # 绘制精确度曲线，使用蓝色虚线表示\n",
    "    # precisions[:-1]：去掉最后一个点，因为它可能是一个不稳定的值\n",
    "    plt.plot(thresholds, precisions[:-1], \"b--\", label=\"Precision\", linewidth=2)\n",
    "    \n",
    "    # 绘制召回率曲线，使用绿色实线表示\n",
    "    # recalls[:-1]：同样去掉最后一个点\n",
    "    plt.plot(thresholds, recalls[:-1], \"g-\", label=\"Recall\", linewidth=2)\n",
    "    \n",
    "    # 设置x轴标签和字体大小\n",
    "    plt.xlabel(\"Threshold\", fontsize=16)\n",
    "    \n",
    "    # 添加图例，设置位置和字体大小\n",
    "    plt.legend(loc=\"upper left\", fontsize=16)\n",
    "    \n",
    "    # 设置y轴显示的范围在0到1之间\n",
    "    plt.ylim([0, 1])\n",
    "\n",
    "# 设置绘图的大小为8x4英寸\n",
    "plt.figure(figsize=(8, 4))\n",
    "\n",
    "# 调用自定义函数绘制精确度-召回率曲线\n",
    "plot_precision_recall_vs_threshold(precisions, recalls, thresholds)\n",
    "\n",
    "# 设置x轴显示的范围，根据实际的阈值范围进行调整\n",
    "plt.xlim([-700000, 700000])\n",
    "\n",
    "# 假设 savefig 是一个已经定义的函数，用于保存当前的图形\n",
    "# 这里需要确保save_fig函数能够正确执行，并且有保存图形的权限\n",
    "plt.savefig(\"images/precision_recall_vs_threshold_plot.png\",bbox_inches='tight')\n",
    "\n",
    "# 显示图形\n",
    "plt.show()"
   ]
  },
  {
   "cell_type": "code",
   "execution_count": 69,
   "id": "5fed82d9-7a32-4451-b630-87703e944406",
   "metadata": {},
   "outputs": [
    {
     "data": {
      "text/plain": [
       "np.True_"
      ]
     },
     "execution_count": 69,
     "metadata": {},
     "output_type": "execute_result"
    }
   ],
   "source": [
    "# 使用cross_val_predict函数和decision_function方法获得的y_scores进行预测\n",
    "# 阈值设为0，意味着任何决策函数分数大于或等于0的样本都将被预测为正类\n",
    "# y_train_pred是早前使用cross_val_predict(sgd_clf, X_train, y_train_5, cv=3)得到的预测结果\n",
    "# 此处的比较操作(y_scores > 0)会为每个样本生成一个布尔数组，表示样本是否根据决策函数分数被预测为正类\n",
    "\n",
    "# all()函数用于检查比较操作结果的布尔数组是否全为True\n",
    "# 如果all()返回True，则表示使用阈值0得到的预测结果与y_train_pred完全一致\n",
    "# 如果有任何不一致，则all()将返回False\n",
    "is_perfect_match = (y_train_pred == (y_scores > 0)).all()\n",
    "is_perfect_match"
   ]
  },
  {
   "cell_type": "code",
   "execution_count": 70,
   "id": "fc7b66ae-f0bb-4142-b28a-4e7709169453",
   "metadata": {},
   "outputs": [],
   "source": [
    "# 使用决策函数的分数y_scores和阈值70000来生成预测\n",
    "# y_scores是使用cross_val_predict方法和decision_function参数得到的决策函数分数\n",
    "# 阈值70000是一个非常高的值，这意味着只有当模型对样本属于正类（例如数字5）的预测非常有信心时\n",
    "# 才会将其分类为正类，这可能会显著降低召回率但提高精确度\n",
    "# y_train_pred_90是一个布尔数组，表示模型预测的样本是否属于正类，基于阈值70000\n",
    "y_train_pred_90 = (y_scores > 70000)"
   ]
  },
  {
   "cell_type": "code",
   "execution_count": 66,
   "id": "5d04f3a7-ef1a-4d9f-ac97-e8e205cdfe63",
   "metadata": {},
   "outputs": [
    {
     "data": {
      "text/plain": [
       "np.float64(0.8366812227074236)"
      ]
     },
     "execution_count": 66,
     "metadata": {},
     "output_type": "execute_result"
    }
   ],
   "source": [
    "from sklearn.metrics import precision_score\n",
    "\n",
    "# 使用precision_score函数计算在阈值70000下的模型预测精确度\n",
    "# y_train_5是训练数据的实际标签的布尔数组，表示标签是否为5\n",
    "# y_train_pred_90是在阈值70000下模型的预测结果布尔数组\n",
    "# 由于70000是一个远高于y_scores可能值的阈值，y_train_pred_90可能很少有True的预测\n",
    "# 这可能会导致一个非常高的精确度（如果至少有一个True预测），或者如果没有任何预测为True，则为0\n",
    "# 这种阈值的选择可以帮助我们了解在非常保守的分类策略下模型的表现\n",
    "precision_90 = precision_score(y_train_5, y_train_pred_90)\n",
    "precision_90"
   ]
  },
  {
   "cell_type": "code",
   "execution_count": 71,
   "id": "dc2d8555-6d87-4ddc-801c-1571e0f20669",
   "metadata": {},
   "outputs": [
    {
     "data": {
      "text/plain": [
       "np.float64(0.560044272274488)"
      ]
     },
     "execution_count": 71,
     "metadata": {},
     "output_type": "execute_result"
    }
   ],
   "source": [
    "from sklearn.metrics import recall_score\n",
    "\n",
    "# 使用recall_score函数计算在阈值70000下的模型预测召回率\n",
    "# y_train_5是训练数据的实际标签的布尔数组，表示标签是否为5\n",
    "# y_train_pred_90是在阈值70000下模型的预测结果布尔数组\n",
    "# 由于70000是一个远高于y_scores可能值的阈值，y_train_pred_90可能很少有True的预测\n",
    "# 这将导致召回率非常低，因为大多数实际为正类的样本可能没有被预测为正类\n",
    "# 召回率衡量的是所有实际为正类的样本中，被模型正确预测为正类的比例\n",
    "recall_90 = recall_score(y_train_5, y_train_pred_90)\n",
    "recall_90"
   ]
  },
  {
   "cell_type": "code",
   "execution_count": 73,
   "id": "6aaf7c14-35a9-421e-8f37-566a4fcff36a",
   "metadata": {},
   "outputs": [],
   "source": [
    "from sklearn.metrics import roc_curve\n",
    "\n",
    "# 使用roc_curve函数计算接收者操作特征（ROC）曲线\n",
    "# y_train_5是训练数据的实际标签的布尔数组，表示标签是否为5\n",
    "# y_scores是使用cross_val_predict得到的决策函数分数\n",
    "# 这个函数返回三个数组：\n",
    "# fpr: 在不同的阈值下计算的假正例率（False Positive Rate）\n",
    "# tpr: 在不同的阈值下计算的真正例率（True Positive Rate），也称为召回率\n",
    "# thresholds: 与每个fpr和tpr值对应的阈值\n",
    "fpr, tpr, thresholds = roc_curve(y_train_5, y_scores)"
   ]
  },
  {
   "cell_type": "code",
   "execution_count": 74,
   "id": "1eee81d9-93ef-41b9-8e4a-692718f2fc67",
   "metadata": {},
   "outputs": [
    {
     "data": {
      "image/png": "[encoded data removed]",
      "text/plain": [
       "<Figure size 800x600 with 1 Axes>"
      ]
     },
     "metadata": {},
     "output_type": "display_data"
    }
   ],
   "source": [
    "import matplotlib.pyplot as plt\n",
    "\n",
    "# 自定义函数plot_roc_curve，用于绘制接收者操作特征（ROC）曲线\n",
    "def plot_roc_curve(fpr, tpr, label=None):\n",
    "    \"\"\"\n",
    "    绘制ROC曲线。\n",
    "    \n",
    "    参数:\n",
    "    fpr : ndarray\n",
    "        不同阈值下的假正例率。\n",
    "    tpr : ndarray\n",
    "        不同阈值下的真正例率。\n",
    "    label : str, optional\n",
    "        曲线的标签（图例），默认为None。\n",
    "    \"\"\"\n",
    "    # 绘制ROC曲线，linewidth设置线宽，label设置图例\n",
    "    plt.plot(fpr, tpr, linewidth=2, label=label)\n",
    "    \n",
    "    # 绘制参考线，即FPR和TPR都为0或1的线，表示没有分类能力的情况\n",
    "    plt.plot([0, 1], [0, 1], 'k--')  # 'k'代表黑色，'--'代表虚线\n",
    "    \n",
    "    # 设置轴的范围在[0, 1]之间\n",
    "    plt.axis([0, 1, 0, 1])\n",
    "    \n",
    "    # 设置x轴标签和字体大小\n",
    "    plt.xlabel('False Positive Rate', fontsize=16)\n",
    "    \n",
    "    # 设置y轴标签和字体大小\n",
    "    plt.ylabel('True Positive Rate', fontsize=16)\n",
    "\n",
    "# 设置绘图的大小为8x6英寸\n",
    "plt.figure(figsize=(8, 6))\n",
    "\n",
    "# 调用自定义函数绘制ROC曲线，没有提供标签\n",
    "plot_roc_curve(fpr, tpr)\n",
    "\n",
    "# 假设 savefig 是一个已经定义的函数，用于保存当前的图形\n",
    "# 这里需要确保 savefig 函数能够正确执行，并且有保存图形的权限\n",
    "plt.savefig(\"images/roc_curve_plot.png\",bbox_inches='tight')\n",
    "\n",
    "# 显示图形\n",
    "plt.show()"
   ]
  },
  {
   "cell_type": "code",
   "execution_count": 76,
   "id": "2c3919da-044f-499a-9518-267e60541947",
   "metadata": {},
   "outputs": [
    {
     "data": {
      "text/plain": [
       "np.float64(0.9501774882898226)"
      ]
     },
     "execution_count": 76,
     "metadata": {},
     "output_type": "execute_result"
    }
   ],
   "source": [
    "from sklearn.metrics import roc_auc_score\n",
    "\n",
    "# 使用roc_auc_score函数计算ROC曲线下的面积（AUC）\n",
    "# y_train_5是训练数据的实际标签的布尔数组，表示标签是否为5\n",
    "# y_scores是使用cross_val_predict得到的决策函数分数\n",
    "# 这个值提供了模型在二分类问题中整体性能的一个度量\n",
    "# AUC值越高，表示模型区分两个类别的能力越强\n",
    "roc_auc = roc_auc_score(y_train_5, y_scores)\n",
    "roc_auc"
   ]
  },
  {
   "cell_type": "code",
   "execution_count": 77,
   "id": "35e156de-37ed-4298-9685-15050308a2a1",
   "metadata": {},
   "outputs": [],
   "source": [
    "from sklearn.ensemble import RandomForestClassifier\n",
    "from sklearn.model_selection import cross_val_predict\n",
    "\n",
    "# 创建RandomForestClassifier实例，使用随机森林分类器\n",
    "# n_estimators=10：设置森林中决策树的数量为10\n",
    "# random_state=42：设置随机状态以确保模型的可重复性\n",
    "forest_clf = RandomForestClassifier(n_estimators=10, random_state=42)\n",
    "\n",
    "# 使用cross_val_predict函数和RandomForestClassifier实例\n",
    "# X_train是训练数据的特征集\n",
    "# y_train_5是表示训练数据是否为标签5的布尔数组\n",
    "# cv=3：设置交叉验证的折数为3\n",
    "# method=\"predict_proba\"：指定使用predict_proba方法来获取每类的概率预测\n",
    "# y_probas_forest是模型预测的概率结果，它是一个数组，包含了每个样本属于每个类别的概率\n",
    "y_probas_forest = cross_val_predict(forest_clf, X_train, y_train_5, cv=3, method=\"predict_proba\")"
   ]
  },
  {
   "cell_type": "code",
   "execution_count": 78,
   "id": "63aaff75-3e22-4f46-bc6d-d0f2ec4beded",
   "metadata": {},
   "outputs": [],
   "source": [
    "# 从随机森林分类器的预测概率y_probas_forest中提取正类（即标签为5）的概率\n",
    "# 在sklearn中，predict_proba方法返回的是一个二维数组，其中每一列对应一个类别的概率\n",
    "# 由于是二分类问题，我们通过索引1来获取正类的概率值\n",
    "# y_scores_forest将是一个一维数组，包含了每个样本被预测为正类的概率\n",
    "y_scores_forest = y_probas_forest[:, 1]  # score = probability of positive class\n",
    "\n",
    "# 使用roc_curve函数计算随机森林分类器的ROC曲线\n",
    "# y_train_5是训练数据的实际标签的布尔数组\n",
    "# y_scores_forest是随机森林分类器预测的正类概率\n",
    "# 这个函数返回三个数组：\n",
    "# fpr_forest: 在不同阈值下计算的随机森林分类器的假正例率\n",
    "# tpr_forest: 在不同阈值下计算的随机森林分类器的真正例率（召回率）\n",
    "# thresholds_forest: 与每个fpr和tpr值对应的阈值\n",
    "fpr_forest, tpr_forest, thresholds_forest = roc_curve(y_train_5, y_scores_forest)"
   ]
  },
  {
   "cell_type": "code",
   "execution_count": 79,
   "id": "7c7f7857-c237-4ff7-9b05-1889f07952a2",
   "metadata": {},
   "outputs": [
    {
     "data": {
      "image/png": "[encoded data removed]",
      "text/plain": [
       "<Figure size 800x600 with 1 Axes>"
      ]
     },
     "metadata": {},
     "output_type": "display_data"
    }
   ],
   "source": [
    "import matplotlib.pyplot as plt\n",
    "\n",
    "# 设置绘图的大小为8x6英寸\n",
    "plt.figure(figsize=(8, 6))\n",
    "\n",
    "# 绘制SGD分类器的ROC曲线\n",
    "# \"b:\" 表示使用蓝色虚线，linewidth=2 设置线宽为2\n",
    "# label=\"SGD\" 设置图例为\"SGD\"\n",
    "plt.plot(fpr, tpr, \"b:\", linewidth=2, label=\"SGD\")\n",
    "\n",
    "# 调用之前定义的plot_roc_curve函数绘制随机森林分类器的ROC曲线\n",
    "# fpr_forest 和 tpr_forest 是随机森林分类器的假正例率和真正例率\n",
    "# label=\"Random Forest\" 设置图例为\"Random Forest\"\n",
    "plot_roc_curve(fpr_forest, tpr_forest, label=\"Random Forest\")\n",
    "\n",
    "# 添加图例，loc=\"lower right\" 设置图例位置在右下角，fontsize=16 设置字体大小为16\n",
    "plt.legend(loc=\"lower right\", fontsize=16)\n",
    "\n",
    "# 假设 savefig 是一个已经定义的函数，用于保存当前的图形\n",
    "# \"roc_curve_comparison_plot\" 是保存的文件名\n",
    "plt.savefig(\"images/roc_curve_comparison_plot.png\",bbox_inches='tight')\n",
    "\n",
    "# 显示图形\n",
    "plt.show()"
   ]
  },
  {
   "cell_type": "code",
   "execution_count": 80,
   "id": "12f89102-dacf-437c-8bed-824a52804eb6",
   "metadata": {},
   "outputs": [
    {
     "data": {
      "text/plain": [
       "np.float64(0.9931874532592573)"
      ]
     },
     "execution_count": 80,
     "metadata": {},
     "output_type": "execute_result"
    }
   ],
   "source": [
    "from sklearn.metrics import roc_auc_score\n",
    "\n",
    "# 使用roc_auc_score函数计算随机森林分类器的ROC曲线下的面积（AUC）\n",
    "# y_train_5是训练数据的实际标签的布尔数组\n",
    "# y_scores_forest是随机森林分类器预测的正类概率\n",
    "# 这个值提供了模型在二分类问题中整体性能的一个度量\n",
    "# AUC值越高，表示模型区分两个类别的能力越强\n",
    "roc_auc_forest = roc_auc_score(y_train_5, y_scores_forest)\n",
    "roc_auc_forest"
   ]
  },
  {
   "cell_type": "code",
   "execution_count": 82,
   "id": "8a1bf8b1-1f53-404e-a5f4-2d98f45ea7c0",
   "metadata": {},
   "outputs": [
    {
     "data": {
      "text/plain": [
       "np.float64(0.985497692814766)"
      ]
     },
     "execution_count": 82,
     "metadata": {},
     "output_type": "execute_result"
    }
   ],
   "source": [
    "from sklearn.model_selection import cross_val_predict\n",
    "\n",
    "# 使用cross_val_predict函数执行交叉验证预测\n",
    "# forest_clf是之前创建并配置好的RandomForestClassifier模型实例\n",
    "# X_train是训练数据的特征集\n",
    "# y_train_5是布尔数组，表示训练数据标签是否为5\n",
    "# cv=3：设置交叉验证的折数为3\n",
    "# 这个函数将返回在每个折上使用训练数据预测的标签\n",
    "y_train_pred_forest = cross_val_predict(forest_clf, X_train, y_train_5, cv=3)\n",
    "\n",
    "# 导入precision_score函数用于计算精确度\n",
    "from sklearn.metrics import precision_score\n",
    "\n",
    "# 使用precision_score函数计算随机森林模型预测的精确度\n",
    "# y_train_5是训练数据的实际标签的布尔数组\n",
    "# y_train_pred_forest是随机森林模型的预测结果\n",
    "# 精确度是在所有被模型预测为正类（即5）的样本中，实际为正类的比例\n",
    "# 这个指标有助于评估模型在预测正类时的准确性\n",
    "precision_forest = precision_score(y_train_5, y_train_pred_forest)\n",
    "precision_forest"
   ]
  },
  {
   "cell_type": "code",
   "execution_count": 84,
   "id": "505c66fb-38a7-48f6-a198-c67f93826fc8",
   "metadata": {},
   "outputs": [
    {
     "data": {
      "text/plain": [
       "np.float64(0.8273381294964028)"
      ]
     },
     "execution_count": 84,
     "metadata": {},
     "output_type": "execute_result"
    }
   ],
   "source": [
    "from sklearn.metrics import recall_score\n",
    "\n",
    "# 使用recall_score函数计算随机森林模型预测的召回率\n",
    "# y_train_5是训练数据的实际标签的布尔数组，表示标签是否为5\n",
    "# y_train_pred_forest是使用cross_val_predict得到的随机森林模型的预测结果\n",
    "# 召回率（recall）是在所有实际为正类（即5）的样本中，被模型正确预测为正类的比例\n",
    "# 这个指标有助于评估模型捕捉所有正类样本的能力\n",
    "recall_forest = recall_score(y_train_5, y_train_pred_forest)\n",
    "recall_forest"
   ]
  },
  {
   "cell_type": "code",
   "execution_count": 86,
   "id": "3d2a9b2e-36bd-4e2b-aee1-7bb4b6a9e3ef",
   "metadata": {},
   "outputs": [
    {
     "name": "stderr",
     "output_type": "stream",
     "text": [
      "D:\\Program Files\\Anaconda3\\envs\\MachineL_SKLearn_TensorF_Project\\Lib\\site-packages\\sklearn\\linear_model\\_stochastic_gradient.py:744: ConvergenceWarning: Maximum number of iteration reached before convergence. Consider increasing max_iter to improve the fit.\n",
      "  warnings.warn(\n"
     ]
    },
    {
     "data": {
      "text/plain": [
       "array([5], dtype=int8)"
      ]
     },
     "execution_count": 86,
     "metadata": {},
     "output_type": "execute_result"
    }
   ],
   "source": [
    "# 使用SGDClassifier模型的fit方法对训练数据进行训练\n",
    "# X_train是训练数据的特征集，包含了60000个样本的特征\n",
    "# y_train是训练数据的标签集，包含了对应的60000个样本的标签\n",
    "# 调用fit方法将训练SGDClassifier模型，学习特征和标签之间的关系\n",
    "sgd_clf.fit(X_train, y_train)\n",
    "\n",
    "# 使用训练好的SGDClassifier模型的predict方法对单个样本some_digit进行预测\n",
    "# some_digit是一个784维的NumPy数组，表示一个已经预处理的手写数字图像\n",
    "# predict方法将返回模型预测的标签\n",
    "# 由于some_digit只是一个单一样本，predict方法将返回一个包含预测标签的数组\n",
    "predicted_label = sgd_clf.predict([some_digit])\n",
    "predicted_label"
   ]
  },
  {
   "cell_type": "code",
   "execution_count": 87,
   "id": "ab5600b1-a114-425b-833f-3c0a7506c20a",
   "metadata": {},
   "outputs": [
    {
     "data": {
      "text/plain": [
       "array([[-249802.43533206, -483640.95704596, -156006.85951147,\n",
       "        -195744.08672469, -465614.01876187,  143015.84803923,\n",
       "        -538655.44089214, -323160.86696154, -690036.82487272,\n",
       "        -555925.38879254]])"
      ]
     },
     "execution_count": 87,
     "metadata": {},
     "output_type": "execute_result"
    }
   ],
   "source": [
    "# 使用SGDClassifier模型的decision_function方法对单个样本some_digit进行评分\n",
    "# some_digit是一个784维的NumPy数组，表示一个已经预处理的手写数字图像\n",
    "# decision_function方法将返回模型对样本属于每个类别的原始分数\n",
    "# 这些分数可以用于评估模型对样本分类的置信度\n",
    "some_digit_scores = sgd_clf.decision_function([some_digit])\n",
    "\n",
    "# 打印some_digit_scores，这将显示模型对some_digit图像属于每个类别的评分\n",
    "# 注意，由于这是一个多分类问题，scores数组将包含10个元素，对应数字0到9的分数\n",
    "some_digit_scores"
   ]
  },
  {
   "cell_type": "code",
   "execution_count": 88,
   "id": "1207d946-d8fa-454b-8b78-0cc48bec0069",
   "metadata": {},
   "outputs": [
    {
     "data": {
      "text/plain": [
       "np.int64(5)"
      ]
     },
     "execution_count": 88,
     "metadata": {},
     "output_type": "execute_result"
    }
   ],
   "source": [
    "import numpy as np\n",
    "\n",
    "# 使用numpy的argmax函数找到some_digit_scores中最大元素的索引\n",
    "# some_digit_scores是模型对单个样本some_digit属于每个类别的评分数组\n",
    "# np.argmax将返回scores数组中最大值的索引，这代表了模型最可能预测的类别\n",
    "# 例如，如果返回值是2，这意味着模型预测some_digit最可能是数字3（索引从0开始）\n",
    "predicted_digit_index = np.argmax(some_digit_scores)\n",
    "\n",
    "# 打印predicted_digit_index，这将显示模型预测的数字类别\n",
    "predicted_digit_index"
   ]
  },
  {
   "cell_type": "code",
   "execution_count": 89,
   "id": "441c6025-e526-4adf-9042-4262a86dee1e",
   "metadata": {},
   "outputs": [
    {
     "name": "stdout",
     "output_type": "stream",
     "text": [
      "[0 1 2 3 4 5 6 7 8 9]\n"
     ]
    }
   ],
   "source": [
    "# sgd_clf.classes_是SGDClassifier模型的一个属性\n",
    "# 它包含了模型在训练后用于分类的所有类别的列表\n",
    "# 对于MNIST数据集，这个列表将包含从0到9的整数，表示手写数字的10个类别\n",
    "# 这个属性在模型经过fit方法训练后被设置，它反映了训练数据中出现的类别\n",
    "# 可以通过打印sgd_clf.classes_来查看模型识别的类别\n",
    "print(sgd_clf.classes_)"
   ]
  },
  {
   "cell_type": "code",
   "execution_count": 90,
   "id": "03dd62c1-28d4-487a-92c2-64d59867c797",
   "metadata": {},
   "outputs": [
    {
     "name": "stdout",
     "output_type": "stream",
     "text": [
      "5\n"
     ]
    }
   ],
   "source": [
    "# sgd_clf.classes_属性包含了模型可以分类的所有类别的列表\n",
    "# 通过访问特定的索引，比如[5]，我们可以获取到对应索引的类别\n",
    "# 例如，在MNIST数据集中，索引5对应的类别是数字5\n",
    "# 这个操作可以用来检查模型是否学习到了正确的类别，或者用于获取特定类别的标签\n",
    "category_index_5 = sgd_clf.classes_[5]\n",
    "\n",
    "# 打印category_index_5，这将显示索引5对应的类别标签\n",
    "print(category_index_5)"
   ]
  },
  {
   "cell_type": "code",
   "execution_count": 94,
   "id": "363d5da5-7363-45e0-830d-e7d155814213",
   "metadata": {},
   "outputs": [
    {
     "name": "stderr",
     "output_type": "stream",
     "text": [
      "D:\\Program Files\\Anaconda3\\envs\\MachineL_SKLearn_TensorF_Project\\Lib\\site-packages\\sklearn\\linear_model\\_stochastic_gradient.py:744: ConvergenceWarning: Maximum number of iteration reached before convergence. Consider increasing max_iter to improve the fit.\n",
      "  warnings.warn(\n",
      "D:\\Program Files\\Anaconda3\\envs\\MachineL_SKLearn_TensorF_Project\\Lib\\site-packages\\sklearn\\linear_model\\_stochastic_gradient.py:744: ConvergenceWarning: Maximum number of iteration reached before convergence. Consider increasing max_iter to improve the fit.\n",
      "  warnings.warn(\n",
      "D:\\Program Files\\Anaconda3\\envs\\MachineL_SKLearn_TensorF_Project\\Lib\\site-packages\\sklearn\\linear_model\\_stochastic_gradient.py:744: ConvergenceWarning: Maximum number of iteration reached before convergence. Consider increasing max_iter to improve the fit.\n",
      "  warnings.warn(\n",
      "D:\\Program Files\\Anaconda3\\envs\\MachineL_SKLearn_TensorF_Project\\Lib\\site-packages\\sklearn\\linear_model\\_stochastic_gradient.py:744: ConvergenceWarning: Maximum number of iteration reached before convergence. Consider increasing max_iter to improve the fit.\n",
      "  warnings.warn(\n",
      "D:\\Program Files\\Anaconda3\\envs\\MachineL_SKLearn_TensorF_Project\\Lib\\site-packages\\sklearn\\linear_model\\_stochastic_gradient.py:744: ConvergenceWarning: Maximum number of iteration reached before convergence. Consider increasing max_iter to improve the fit.\n",
      "  warnings.warn(\n",
      "D:\\Program Files\\Anaconda3\\envs\\MachineL_SKLearn_TensorF_Project\\Lib\\site-packages\\sklearn\\linear_model\\_stochastic_gradient.py:744: ConvergenceWarning: Maximum number of iteration reached before convergence. Consider increasing max_iter to improve the fit.\n",
      "  warnings.warn(\n",
      "D:\\Program Files\\Anaconda3\\envs\\MachineL_SKLearn_TensorF_Project\\Lib\\site-packages\\sklearn\\linear_model\\_stochastic_gradient.py:744: ConvergenceWarning: Maximum number of iteration reached before convergence. Consider increasing max_iter to improve the fit.\n",
      "  warnings.warn(\n",
      "D:\\Program Files\\Anaconda3\\envs\\MachineL_SKLearn_TensorF_Project\\Lib\\site-packages\\sklearn\\linear_model\\_stochastic_gradient.py:744: ConvergenceWarning: Maximum number of iteration reached before convergence. Consider increasing max_iter to improve the fit.\n",
      "  warnings.warn(\n",
      "D:\\Program Files\\Anaconda3\\envs\\MachineL_SKLearn_TensorF_Project\\Lib\\site-packages\\sklearn\\linear_model\\_stochastic_gradient.py:744: ConvergenceWarning: Maximum number of iteration reached before convergence. Consider increasing max_iter to improve the fit.\n",
      "  warnings.warn(\n",
      "D:\\Program Files\\Anaconda3\\envs\\MachineL_SKLearn_TensorF_Project\\Lib\\site-packages\\sklearn\\linear_model\\_stochastic_gradient.py:744: ConvergenceWarning: Maximum number of iteration reached before convergence. Consider increasing max_iter to improve the fit.\n",
      "  warnings.warn(\n",
      "D:\\Program Files\\Anaconda3\\envs\\MachineL_SKLearn_TensorF_Project\\Lib\\site-packages\\sklearn\\linear_model\\_stochastic_gradient.py:744: ConvergenceWarning: Maximum number of iteration reached before convergence. Consider increasing max_iter to improve the fit.\n",
      "  warnings.warn(\n",
      "D:\\Program Files\\Anaconda3\\envs\\MachineL_SKLearn_TensorF_Project\\Lib\\site-packages\\sklearn\\linear_model\\_stochastic_gradient.py:744: ConvergenceWarning: Maximum number of iteration reached before convergence. Consider increasing max_iter to improve the fit.\n",
      "  warnings.warn(\n",
      "D:\\Program Files\\Anaconda3\\envs\\MachineL_SKLearn_TensorF_Project\\Lib\\site-packages\\sklearn\\linear_model\\_stochastic_gradient.py:744: ConvergenceWarning: Maximum number of iteration reached before convergence. Consider increasing max_iter to improve the fit.\n",
      "  warnings.warn(\n",
      "D:\\Program Files\\Anaconda3\\envs\\MachineL_SKLearn_TensorF_Project\\Lib\\site-packages\\sklearn\\linear_model\\_stochastic_gradient.py:744: ConvergenceWarning: Maximum number of iteration reached before convergence. Consider increasing max_iter to improve the fit.\n",
      "  warnings.warn(\n",
      "D:\\Program Files\\Anaconda3\\envs\\MachineL_SKLearn_TensorF_Project\\Lib\\site-packages\\sklearn\\linear_model\\_stochastic_gradient.py:744: ConvergenceWarning: Maximum number of iteration reached before convergence. Consider increasing max_iter to improve the fit.\n",
      "  warnings.warn(\n",
      "D:\\Program Files\\Anaconda3\\envs\\MachineL_SKLearn_TensorF_Project\\Lib\\site-packages\\sklearn\\linear_model\\_stochastic_gradient.py:744: ConvergenceWarning: Maximum number of iteration reached before convergence. Consider increasing max_iter to improve the fit.\n",
      "  warnings.warn(\n",
      "D:\\Program Files\\Anaconda3\\envs\\MachineL_SKLearn_TensorF_Project\\Lib\\site-packages\\sklearn\\linear_model\\_stochastic_gradient.py:744: ConvergenceWarning: Maximum number of iteration reached before convergence. Consider increasing max_iter to improve the fit.\n",
      "  warnings.warn(\n",
      "D:\\Program Files\\Anaconda3\\envs\\MachineL_SKLearn_TensorF_Project\\Lib\\site-packages\\sklearn\\linear_model\\_stochastic_gradient.py:744: ConvergenceWarning: Maximum number of iteration reached before convergence. Consider increasing max_iter to improve the fit.\n",
      "  warnings.warn(\n",
      "D:\\Program Files\\Anaconda3\\envs\\MachineL_SKLearn_TensorF_Project\\Lib\\site-packages\\sklearn\\linear_model\\_stochastic_gradient.py:744: ConvergenceWarning: Maximum number of iteration reached before convergence. Consider increasing max_iter to improve the fit.\n",
      "  warnings.warn(\n",
      "D:\\Program Files\\Anaconda3\\envs\\MachineL_SKLearn_TensorF_Project\\Lib\\site-packages\\sklearn\\linear_model\\_stochastic_gradient.py:744: ConvergenceWarning: Maximum number of iteration reached before convergence. Consider increasing max_iter to improve the fit.\n",
      "  warnings.warn(\n",
      "D:\\Program Files\\Anaconda3\\envs\\MachineL_SKLearn_TensorF_Project\\Lib\\site-packages\\sklearn\\linear_model\\_stochastic_gradient.py:744: ConvergenceWarning: Maximum number of iteration reached before convergence. Consider increasing max_iter to improve the fit.\n",
      "  warnings.warn(\n",
      "D:\\Program Files\\Anaconda3\\envs\\MachineL_SKLearn_TensorF_Project\\Lib\\site-packages\\sklearn\\linear_model\\_stochastic_gradient.py:744: ConvergenceWarning: Maximum number of iteration reached before convergence. Consider increasing max_iter to improve the fit.\n",
      "  warnings.warn(\n",
      "D:\\Program Files\\Anaconda3\\envs\\MachineL_SKLearn_TensorF_Project\\Lib\\site-packages\\sklearn\\linear_model\\_stochastic_gradient.py:744: ConvergenceWarning: Maximum number of iteration reached before convergence. Consider increasing max_iter to improve the fit.\n",
      "  warnings.warn(\n",
      "D:\\Program Files\\Anaconda3\\envs\\MachineL_SKLearn_TensorF_Project\\Lib\\site-packages\\sklearn\\linear_model\\_stochastic_gradient.py:744: ConvergenceWarning: Maximum number of iteration reached before convergence. Consider increasing max_iter to improve the fit.\n",
      "  warnings.warn(\n",
      "D:\\Program Files\\Anaconda3\\envs\\MachineL_SKLearn_TensorF_Project\\Lib\\site-packages\\sklearn\\linear_model\\_stochastic_gradient.py:744: ConvergenceWarning: Maximum number of iteration reached before convergence. Consider increasing max_iter to improve the fit.\n",
      "  warnings.warn(\n",
      "D:\\Program Files\\Anaconda3\\envs\\MachineL_SKLearn_TensorF_Project\\Lib\\site-packages\\sklearn\\linear_model\\_stochastic_gradient.py:744: ConvergenceWarning: Maximum number of iteration reached before convergence. Consider increasing max_iter to improve the fit.\n",
      "  warnings.warn(\n",
      "D:\\Program Files\\Anaconda3\\envs\\MachineL_SKLearn_TensorF_Project\\Lib\\site-packages\\sklearn\\linear_model\\_stochastic_gradient.py:744: ConvergenceWarning: Maximum number of iteration reached before convergence. Consider increasing max_iter to improve the fit.\n",
      "  warnings.warn(\n",
      "D:\\Program Files\\Anaconda3\\envs\\MachineL_SKLearn_TensorF_Project\\Lib\\site-packages\\sklearn\\linear_model\\_stochastic_gradient.py:744: ConvergenceWarning: Maximum number of iteration reached before convergence. Consider increasing max_iter to improve the fit.\n",
      "  warnings.warn(\n",
      "D:\\Program Files\\Anaconda3\\envs\\MachineL_SKLearn_TensorF_Project\\Lib\\site-packages\\sklearn\\linear_model\\_stochastic_gradient.py:744: ConvergenceWarning: Maximum number of iteration reached before convergence. Consider increasing max_iter to improve the fit.\n",
      "  warnings.warn(\n",
      "D:\\Program Files\\Anaconda3\\envs\\MachineL_SKLearn_TensorF_Project\\Lib\\site-packages\\sklearn\\linear_model\\_stochastic_gradient.py:744: ConvergenceWarning: Maximum number of iteration reached before convergence. Consider increasing max_iter to improve the fit.\n",
      "  warnings.warn(\n",
      "D:\\Program Files\\Anaconda3\\envs\\MachineL_SKLearn_TensorF_Project\\Lib\\site-packages\\sklearn\\linear_model\\_stochastic_gradient.py:744: ConvergenceWarning: Maximum number of iteration reached before convergence. Consider increasing max_iter to improve the fit.\n",
      "  warnings.warn(\n",
      "D:\\Program Files\\Anaconda3\\envs\\MachineL_SKLearn_TensorF_Project\\Lib\\site-packages\\sklearn\\linear_model\\_stochastic_gradient.py:744: ConvergenceWarning: Maximum number of iteration reached before convergence. Consider increasing max_iter to improve the fit.\n",
      "  warnings.warn(\n",
      "D:\\Program Files\\Anaconda3\\envs\\MachineL_SKLearn_TensorF_Project\\Lib\\site-packages\\sklearn\\linear_model\\_stochastic_gradient.py:744: ConvergenceWarning: Maximum number of iteration reached before convergence. Consider increasing max_iter to improve the fit.\n",
      "  warnings.warn(\n",
      "D:\\Program Files\\Anaconda3\\envs\\MachineL_SKLearn_TensorF_Project\\Lib\\site-packages\\sklearn\\linear_model\\_stochastic_gradient.py:744: ConvergenceWarning: Maximum number of iteration reached before convergence. Consider increasing max_iter to improve the fit.\n",
      "  warnings.warn(\n",
      "D:\\Program Files\\Anaconda3\\envs\\MachineL_SKLearn_TensorF_Project\\Lib\\site-packages\\sklearn\\linear_model\\_stochastic_gradient.py:744: ConvergenceWarning: Maximum number of iteration reached before convergence. Consider increasing max_iter to improve the fit.\n",
      "  warnings.warn(\n",
      "D:\\Program Files\\Anaconda3\\envs\\MachineL_SKLearn_TensorF_Project\\Lib\\site-packages\\sklearn\\linear_model\\_stochastic_gradient.py:744: ConvergenceWarning: Maximum number of iteration reached before convergence. Consider increasing max_iter to improve the fit.\n",
      "  warnings.warn(\n",
      "D:\\Program Files\\Anaconda3\\envs\\MachineL_SKLearn_TensorF_Project\\Lib\\site-packages\\sklearn\\linear_model\\_stochastic_gradient.py:744: ConvergenceWarning: Maximum number of iteration reached before convergence. Consider increasing max_iter to improve the fit.\n",
      "  warnings.warn(\n",
      "D:\\Program Files\\Anaconda3\\envs\\MachineL_SKLearn_TensorF_Project\\Lib\\site-packages\\sklearn\\linear_model\\_stochastic_gradient.py:744: ConvergenceWarning: Maximum number of iteration reached before convergence. Consider increasing max_iter to improve the fit.\n",
      "  warnings.warn(\n",
      "D:\\Program Files\\Anaconda3\\envs\\MachineL_SKLearn_TensorF_Project\\Lib\\site-packages\\sklearn\\linear_model\\_stochastic_gradient.py:744: ConvergenceWarning: Maximum number of iteration reached before convergence. Consider increasing max_iter to improve the fit.\n",
      "  warnings.warn(\n",
      "D:\\Program Files\\Anaconda3\\envs\\MachineL_SKLearn_TensorF_Project\\Lib\\site-packages\\sklearn\\linear_model\\_stochastic_gradient.py:744: ConvergenceWarning: Maximum number of iteration reached before convergence. Consider increasing max_iter to improve the fit.\n",
      "  warnings.warn(\n",
      "D:\\Program Files\\Anaconda3\\envs\\MachineL_SKLearn_TensorF_Project\\Lib\\site-packages\\sklearn\\linear_model\\_stochastic_gradient.py:744: ConvergenceWarning: Maximum number of iteration reached before convergence. Consider increasing max_iter to improve the fit.\n",
      "  warnings.warn(\n",
      "D:\\Program Files\\Anaconda3\\envs\\MachineL_SKLearn_TensorF_Project\\Lib\\site-packages\\sklearn\\linear_model\\_stochastic_gradient.py:744: ConvergenceWarning: Maximum number of iteration reached before convergence. Consider increasing max_iter to improve the fit.\n",
      "  warnings.warn(\n",
      "D:\\Program Files\\Anaconda3\\envs\\MachineL_SKLearn_TensorF_Project\\Lib\\site-packages\\sklearn\\linear_model\\_stochastic_gradient.py:744: ConvergenceWarning: Maximum number of iteration reached before convergence. Consider increasing max_iter to improve the fit.\n",
      "  warnings.warn(\n",
      "D:\\Program Files\\Anaconda3\\envs\\MachineL_SKLearn_TensorF_Project\\Lib\\site-packages\\sklearn\\linear_model\\_stochastic_gradient.py:744: ConvergenceWarning: Maximum number of iteration reached before convergence. Consider increasing max_iter to improve the fit.\n",
      "  warnings.warn(\n",
      "D:\\Program Files\\Anaconda3\\envs\\MachineL_SKLearn_TensorF_Project\\Lib\\site-packages\\sklearn\\linear_model\\_stochastic_gradient.py:744: ConvergenceWarning: Maximum number of iteration reached before convergence. Consider increasing max_iter to improve the fit.\n",
      "  warnings.warn(\n"
     ]
    },
    {
     "data": {
      "text/plain": [
       "array([5], dtype=int8)"
      ]
     },
     "execution_count": 94,
     "metadata": {},
     "output_type": "execute_result"
    }
   ],
   "source": [
    "from sklearn.multiclass import OneVsOneClassifier\n",
    "from sklearn.linear_model import SGDClassifier\n",
    "import numpy as np\n",
    "\n",
    "# 创建SGDClassifier实例，设置合适的参数\n",
    "# max_iter=5：设置最大迭代次数为5\n",
    "# tol=0：设置容忍度为0，意味着不会提前停止训练\n",
    "# random_state=42：设置随机状态为42，以确保结果的可重复性\n",
    "sgd_clf = SGDClassifier(max_iter=5, tol=0, random_state=42)\n",
    "\n",
    "# 创建OneVsOneClassifier的实例，使用上面的SGDClassifier作为基分类器\n",
    "ovo_clf = OneVsOneClassifier(estimator=sgd_clf)\n",
    "\n",
    "# 使用fit方法训练OneVsOneClassifier\n",
    "# X_train是训练数据的特征集，y_train是训练数据的标签集\n",
    "# 这个fit方法将在内部为每一对类别训练一个SGDClassifier模型\n",
    "ovo_clf.fit(X_train, y_train)\n",
    "\n",
    "# 使用训练好的OneVsOneClassifier的predict方法对单个样本some_digit进行预测\n",
    "# some_digit是一个784维的NumPy数组，表示一个已经预处理的手写数字图像\n",
    "# predict方法将返回模型预测的标签\n",
    "predicted_label_ovo = ovo_clf.predict([some_digit])\n",
    "predicted_label_ovo"
   ]
  },
  {
   "cell_type": "code",
   "execution_count": 96,
   "id": "045e60fd-bf76-4592-9abc-dab717f972cd",
   "metadata": {},
   "outputs": [
    {
     "data": {
      "text/plain": [
       "45"
      ]
     },
     "execution_count": 96,
     "metadata": {},
     "output_type": "execute_result"
    }
   ],
   "source": [
    "# OneVsOneClassifier在内部为每对类别组合训练一个SGDClassifier模型\n",
    "# estimators_属性包含了所有这些训练好的SGDClassifier模型的列表\n",
    "# len(ovo_clf.estimators_)将返回这些模型的数量\n",
    "\n",
    "# 例如，在MNIST数据集中，因为有10个类别，将有10 * (10 - 1) / 2 = 45个SGDClassifier模型\n",
    "# 这是因为每个类别将与其他9个类别进行比较，但比较是成对的，所以除以2\n",
    "# 打印len(ovo_clf.estimators_)将显示训练好的SGDClassifier模型的总数\n",
    "num_of_estimators = len(ovo_clf.estimators_)\n",
    "num_of_estimators"
   ]
  },
  {
   "cell_type": "code",
   "execution_count": 97,
   "id": "09480b98-7145-48fe-8f28-73235a903e06",
   "metadata": {},
   "outputs": [
    {
     "data": {
      "text/plain": [
       "array([5], dtype=int8)"
      ]
     },
     "execution_count": 97,
     "metadata": {},
     "output_type": "execute_result"
    }
   ],
   "source": [
    "# 使用之前创建的RandomForestClassifier实例forest_clf对训练数据进行训练\n",
    "# X_train是训练数据的特征集，包含了60000个样本的特征\n",
    "# y_train是训练数据的标签集，包含了对应的60000个样本的标签\n",
    "# 调用fit方法将训练RandomForestClassifier模型，学习特征和标签之间的关系\n",
    "forest_clf.fit(X_train, y_train)\n",
    "\n",
    "# 使用训练好的RandomForestClassifier模型的predict方法对单个样本some_digit进行预测\n",
    "# some_digit是一个784维的NumPy数组，表示一个已经预处理的手写数字图像\n",
    "# predict方法将返回模型预测的标签\n",
    "predicted_label_forest = forest_clf.predict([some_digit])\n",
    "predicted_label_forest"
   ]
  },
  {
   "cell_type": "code",
   "execution_count": 99,
   "id": "dc1aaa71-cc2c-4605-8352-8da15a9020df",
   "metadata": {},
   "outputs": [
    {
     "data": {
      "text/plain": [
       "array([[0.1, 0. , 0. , 0. , 0. , 0.9, 0. , 0. , 0. , 0. ]])"
      ]
     },
     "execution_count": 99,
     "metadata": {},
     "output_type": "execute_result"
    }
   ],
   "source": [
    "# 使用训练好的RandomForestClassifier模型的predict_proba方法对单个样本some_digit进行概率预测\n",
    "# some_digit是一个784维的NumPy数组，表示一个已经预处理的手写数字图像\n",
    "# predict_proba方法将返回模型预测的每个类别的概率\n",
    "# 这与predict方法不同，后者返回最可能的类别标签，而predict_proba提供所有类别的概率分布\n",
    "probabilities = forest_clf.predict_proba([some_digit])\n",
    "probabilities"
   ]
  },
  {
   "cell_type": "code",
   "execution_count": 100,
   "id": "a1854a90-8105-494c-9b3f-4261830add2e",
   "metadata": {},
   "outputs": [
    {
     "name": "stderr",
     "output_type": "stream",
     "text": [
      "D:\\Program Files\\Anaconda3\\envs\\MachineL_SKLearn_TensorF_Project\\Lib\\site-packages\\sklearn\\linear_model\\_stochastic_gradient.py:744: ConvergenceWarning: Maximum number of iteration reached before convergence. Consider increasing max_iter to improve the fit.\n",
      "  warnings.warn(\n",
      "D:\\Program Files\\Anaconda3\\envs\\MachineL_SKLearn_TensorF_Project\\Lib\\site-packages\\sklearn\\linear_model\\_stochastic_gradient.py:744: ConvergenceWarning: Maximum number of iteration reached before convergence. Consider increasing max_iter to improve the fit.\n",
      "  warnings.warn(\n",
      "D:\\Program Files\\Anaconda3\\envs\\MachineL_SKLearn_TensorF_Project\\Lib\\site-packages\\sklearn\\linear_model\\_stochastic_gradient.py:744: ConvergenceWarning: Maximum number of iteration reached before convergence. Consider increasing max_iter to improve the fit.\n",
      "  warnings.warn(\n"
     ]
    },
    {
     "data": {
      "text/plain": [
       "array([0.8735, 0.8689, 0.8776])"
      ]
     },
     "execution_count": 100,
     "metadata": {},
     "output_type": "execute_result"
    }
   ],
   "source": [
    "from sklearn.model_selection import cross_val_score\n",
    "\n",
    "# 使用cross_val_score函数计算SGDClassifier模型在X_train数据集上的交叉验证准确率得分\n",
    "# sgd_clf是已经初始化的SGDClassifier模型实例\n",
    "# X_train是训练数据的特征集\n",
    "# y_train是训练数据对应的标签集\n",
    "# cv=3表示将数据集分割成3个部分进行交叉验证，即3折交叉验证\n",
    "# scoring=\"accuracy\"指定了评分标准为准确率，即正确预测的样本数占总样本数的比例\n",
    "# 这个函数将返回一个数组，包含每次折的准确率得分，这些得分可以用于评估模型的稳定性和性能\n",
    "scores = cross_val_score(sgd_clf, X_train, y_train, cv=3, scoring=\"accuracy\")\n",
    "scores"
   ]
  },
  {
   "cell_type": "code",
   "execution_count": 101,
   "id": "9cc8f0d8-f438-4563-9b9f-74cacdb2e8c0",
   "metadata": {},
   "outputs": [
    {
     "name": "stderr",
     "output_type": "stream",
     "text": [
      "D:\\Program Files\\Anaconda3\\envs\\MachineL_SKLearn_TensorF_Project\\Lib\\site-packages\\sklearn\\linear_model\\_stochastic_gradient.py:744: ConvergenceWarning: Maximum number of iteration reached before convergence. Consider increasing max_iter to improve the fit.\n",
      "  warnings.warn(\n",
      "D:\\Program Files\\Anaconda3\\envs\\MachineL_SKLearn_TensorF_Project\\Lib\\site-packages\\sklearn\\linear_model\\_stochastic_gradient.py:744: ConvergenceWarning: Maximum number of iteration reached before convergence. Consider increasing max_iter to improve the fit.\n",
      "  warnings.warn(\n",
      "D:\\Program Files\\Anaconda3\\envs\\MachineL_SKLearn_TensorF_Project\\Lib\\site-packages\\sklearn\\linear_model\\_stochastic_gradient.py:744: ConvergenceWarning: Maximum number of iteration reached before convergence. Consider increasing max_iter to improve the fit.\n",
      "  warnings.warn(\n"
     ]
    },
    {
     "data": {
      "text/plain": [
       "array([0.9116, 0.9118, 0.9073])"
      ]
     },
     "execution_count": 101,
     "metadata": {},
     "output_type": "execute_result"
    }
   ],
   "source": [
    "from sklearn.preprocessing import StandardScaler\n",
    "import numpy as np\n",
    "from sklearn.model_selection import cross_val_score\n",
    "\n",
    "# 创建StandardScaler实例，用于对特征进行标准化处理\n",
    "# StandardScaler将数据转换为均值为0，标准差为1的标准正态分布\n",
    "scaler = StandardScaler()\n",
    "\n",
    "# 使用fit_transform方法对X_train进行标准化\n",
    "# 首先将X_train的数据类型转换为np.float64，确保标准化处理的精度\n",
    "# fit_transform方法先拟合X_train的数据分布，然后转换X_train的数据\n",
    "# 结果存储在X_train_scaled，它是标准化后的X_train\n",
    "X_train_scaled = scaler.fit_transform(X_train.astype(np.float64))\n",
    "\n",
    "# 使用cross_val_score函数计算SGDClassifier模型在标准化后的X_train数据集上的交叉验证准确率得分\n",
    "# sgd_clf是已经初始化的SGDClassifier模型实例\n",
    "# X_train_scaled是经过标准化处理的训练数据特征集\n",
    "# y_train是训练数据对应的标签集\n",
    "# cv=3表示将数据集分割成3个部分进行交叉验证，即3折交叉验证\n",
    "# scoring=\"accuracy\"指定了评分标准为准确率\n",
    "# 这个函数将返回一个数组，包含每次折的准确率得分\n",
    "scores = cross_val_score(sgd_clf, X_train_scaled, y_train, cv=3, scoring=\"accuracy\")\n",
    "scores"
   ]
  },
  {
   "cell_type": "code",
   "execution_count": 102,
   "id": "79e89701-ef12-4c8e-ba4b-a0a7a5951bc7",
   "metadata": {},
   "outputs": [
    {
     "name": "stderr",
     "output_type": "stream",
     "text": [
      "D:\\Program Files\\Anaconda3\\envs\\MachineL_SKLearn_TensorF_Project\\Lib\\site-packages\\sklearn\\linear_model\\_stochastic_gradient.py:744: ConvergenceWarning: Maximum number of iteration reached before convergence. Consider increasing max_iter to improve the fit.\n",
      "  warnings.warn(\n",
      "D:\\Program Files\\Anaconda3\\envs\\MachineL_SKLearn_TensorF_Project\\Lib\\site-packages\\sklearn\\linear_model\\_stochastic_gradient.py:744: ConvergenceWarning: Maximum number of iteration reached before convergence. Consider increasing max_iter to improve the fit.\n",
      "  warnings.warn(\n"
     ]
    },
    {
     "name": "stdout",
     "output_type": "stream",
     "text": [
      "[[5738    2   23    9   10   43   42    9   41    6]\n",
      " [   1 6480   43   24    7   38    8   12  117   12]\n",
      " [  56   34 5355   85   91   18   93   52  157   17]\n",
      " [  53   45  144 5320    4  231   40   54  143   97]\n",
      " [  20   27   35    9 5380    8   50   27   87  199]\n",
      " [  70   35   33  193   70 4570  110   30  205  105]\n",
      " [  34   20   37    2   49   81 5642    3   50    0]\n",
      " [  22   18   69   27   51   11    6 5772   22  267]\n",
      " [  51  153   74  149   16  148   55   25 5047  133]\n",
      " [  45   35   24   84  159   30    3  178   81 5310]]\n"
     ]
    },
    {
     "name": "stderr",
     "output_type": "stream",
     "text": [
      "D:\\Program Files\\Anaconda3\\envs\\MachineL_SKLearn_TensorF_Project\\Lib\\site-packages\\sklearn\\linear_model\\_stochastic_gradient.py:744: ConvergenceWarning: Maximum number of iteration reached before convergence. Consider increasing max_iter to improve the fit.\n",
      "  warnings.warn(\n"
     ]
    }
   ],
   "source": [
    "from sklearn.model_selection import cross_val_predict\n",
    "from sklearn.metrics import confusion_matrix\n",
    "\n",
    "# 使用cross_val_predict函数在标准化后的X_train数据集上进行交叉验证预测\n",
    "# sgd_clf是已经初始化的SGDClassifier模型实例\n",
    "# X_train_scaled是经过标准化处理的训练数据特征集\n",
    "# y_train是训练数据对应的标签集\n",
    "# cv=3表示将数据集分割成3个部分进行交叉验证，即3折交叉验证\n",
    "# 这个方法将返回在每个折上使用训练数据预测的标签\n",
    "y_train_pred = cross_val_predict(sgd_clf, X_train_scaled, y_train, cv=3)\n",
    "\n",
    "# 使用confusion_matrix函数计算y_train（实际标签）和y_train_pred（预测标签）之间的混淆矩阵\n",
    "# 混淆矩阵是一个表格，用于描述分类模型的性能\n",
    "# 它显示了每个类别的真实和预测标签的分布情况\n",
    "# 对角线上的值表示正确分类的数量，而非对角线上的值表示分类错误的数量\n",
    "conf_mx = confusion_matrix(y_train, y_train_pred)\n",
    "\n",
    "# 打印conf_mx，这将显示模型性能的混淆矩阵\n",
    "print(conf_mx)"
   ]
  },
  {
   "cell_type": "code",
   "execution_count": 103,
   "id": "3eef4d72-f007-46b3-95d2-8df001c3013c",
   "metadata": {},
   "outputs": [],
   "source": [
    "import matplotlib.pyplot as plt\n",
    "\n",
    "def plot_confusion_matrix(matrix):\n",
    "    \"\"\"\n",
    "    绘制混淆矩阵的函数，使用颜色和颜色条增强可视化效果。\n",
    "    \n",
    "    参数:\n",
    "    matrix : ndarray\n",
    "        混淆矩阵，一个二维的NumPy数组，表示模型预测的性能。\n",
    "        \n",
    "    该函数创建一个图形，显示混淆矩阵，并使用颜色条来表示不同分类结果的密度或数量。\n",
    "    \"\"\"\n",
    "    # 设置图形的大小为8x8英寸\n",
    "    fig = plt.figure(figsize=(8,8))\n",
    "    \n",
    "    # 在图形中添加一个子图，111表示1x1网格中的单一子图\n",
    "    ax = fig.add_subplot(111)\n",
    "    \n",
    "    # 使用matshow方法显示混淆矩阵，该方法会以矩阵形式显示数据，并使用颜色映射\n",
    "    cax = ax.matshow(matrix)\n",
    "    \n",
    "    # 添加颜色条到图形中，cax是matshow返回的颜色映射轴对象\n",
    "    # 颜色条提供了一个参考，用于解释矩阵中不同颜色的数值大小\n",
    "    fig.colorbar(cax)"
   ]
  },
  {
   "cell_type": "code",
   "execution_count": 104,
   "id": "f93aa51e-ebc2-4498-bc16-2dec4958ec21",
   "metadata": {},
   "outputs": [
    {
     "data": {
      "image/png": "[encoded data removed]",
      "text/plain": [
       "<Figure size 480x480 with 1 Axes>"
      ]
     },
     "metadata": {},
     "output_type": "display_data"
    }
   ],
   "source": [
    "import matplotlib.pyplot as plt\n",
    "\n",
    "# 使用plt.matshow方法显示混淆矩阵conf_mx\n",
    "# cmap=plt.cm.gray指定了使用灰度颜色映射来显示矩阵\n",
    "# 这将创建一个显示混淆矩阵的图形，颜色的深浅代表不同的数值大小\n",
    "plt.matshow(conf_mx, cmap=plt.cm.gray)\n",
    "\n",
    "# 假设 savefig 是一个已经定义的函数，用于保存当前的图形\n",
    "# \"confusion_matrix_plot\"是指定的保存文件名\n",
    "plt.savefig(\"images/confusion_matrix_plot.png\",bbox_inches='tight')\n",
    "\n",
    "# 显示图形，使用plt.show()可以在绘图窗口中查看图形\n",
    "# 这允许用户在屏幕上查看混淆矩阵的可视化效果\n",
    "plt.show()"
   ]
  },
  {
   "cell_type": "code",
   "execution_count": 105,
   "id": "77fca58b-e37f-4841-b028-487a47eb3681",
   "metadata": {},
   "outputs": [],
   "source": [
    "import numpy as np\n",
    "\n",
    "# 计算混淆矩阵conf_mx的每一行的总和\n",
    "# axis=1指定了沿着水平方向（即矩阵的行）进行求和\n",
    "# keepdims=True表示保持维度，这样row_sums的形状将与conf_mx保持一致，除了求和的维度\n",
    "row_sums = conf_mx.sum(axis=1, keepdims=True)\n",
    "\n",
    "# 将混淆矩阵conf_mx通过行总和row_sums进行归一化\n",
    "# 归一化后的矩阵norm_conf_mx中的每个元素代表对应类别的真实样本在该类别中所占的比例\n",
    "# 这为我们提供了一个概率分布，其中每一行的和为1，表示对每个类别的预测分布\n",
    "norm_conf_mx = conf_mx / row_sums"
   ]
  },
  {
   "cell_type": "code",
   "execution_count": 106,
   "id": "cc66246d-3cbf-40ec-8758-3a8a5d1f3323",
   "metadata": {},
   "outputs": [
    {
     "data": {
      "image/png": "[encoded data removed]",
      "text/plain": [
       "<Figure size 480x480 with 1 Axes>"
      ]
     },
     "metadata": {},
     "output_type": "display_data"
    }
   ],
   "source": [
    "import numpy as np\n",
    "import matplotlib.pyplot as plt\n",
    "\n",
    "# 将归一化混淆矩阵norm_conf_mx的对角线元素填充为0\n",
    "# 对角线元素代表正确分类的比例，这里将其设置为0是为了更清楚地显示错误分类的情况\n",
    "np.fill_diagonal(norm_conf_mx, 0)\n",
    "\n",
    "# 使用plt.matshow方法显示归一化混淆矩阵norm_conf_mx，突出显示错误分类\n",
    "# cmap=plt.cm.gray指定了使用灰度颜色映射来显示矩阵\n",
    "plt.matshow(norm_conf_mx, cmap=plt.cm.gray)\n",
    "\n",
    "# 假设 savefig 是一个已经定义的函数，用于保存当前的图形\n",
    "# \"confusion_matrix_errors_plot\"是指定的保存文件名\n",
    "plt.savefig(\"images/confusion_matrix_errors_plot.png\",bbox_inches='tight')\n",
    "\n",
    "# 显示图形，使用plt.show()可以在绘图窗口中查看图形\n",
    "# 这允许用户在屏幕上查看归一化混淆矩阵的可视化效果，特别是错误分类的部分\n",
    "plt.show()"
   ]
  },
  {
   "cell_type": "code",
   "execution_count": 107,
   "id": "1363b331-fba6-41df-93a6-b20075803b7c",
   "metadata": {},
   "outputs": [
    {
     "data": {
      "image/png": "[encoded data removed]",
      "text/plain": [
       "<Figure size 800x800 with 4 Axes>"
      ]
     },
     "metadata": {},
     "output_type": "display_data"
    }
   ],
   "source": [
    "import numpy as np\n",
    "import matplotlib.pyplot as plt\n",
    "\n",
    "# 定义两个类别的标签值，例如数字3和数字5\n",
    "cl_a, cl_b = 3, 5\n",
    "\n",
    "# 使用布尔索引选择X_train中真实标签和预测标签都为cl_a的样本\n",
    "X_aa = X_train[(y_train == cl_a) & (y_train_pred == cl_a)]\n",
    "\n",
    "# 使用布尔索引选择X_train中真实标签为cl_a，但预测标签为cl_b的样本\n",
    "X_ab = X_train[(y_train == cl_a) & (y_train_pred == cl_b)]\n",
    "\n",
    "# 使用布尔索引选择X_train中真实标签为cl_b，但预测标签为cl_a的样本\n",
    "X_ba = X_train[(y_train == cl_b) & (y_train_pred == cl_a)]\n",
    "\n",
    "# 使用布尔索引选择X_train中真实标签和预测标签都为cl_b的样本\n",
    "X_bb = X_train[(y_train == cl_b) & (y_train_pred == cl_b)]\n",
    "\n",
    "# 设置图形的大小为8x8英寸\n",
    "plt.figure(figsize=(8,8))\n",
    "\n",
    "# 绘制四个子图，分别展示X_aa, X_ab, X_ba, X_bb中的样本图像\n",
    "# 每个子图显示25个样本，每行显示5个图像\n",
    "plt.subplot(221); plot_digits(X_aa[:25], images_per_row=5)\n",
    "plt.subplot(222); plot_digits(X_ab[:25], images_per_row=5)\n",
    "plt.subplot(223); plot_digits(X_ba[:25], images_per_row=5)\n",
    "plt.subplot(224); plot_digits(X_bb[:25], images_per_row=5)\n",
    "\n",
    "# 假设 savefig 是一个已经定义的函数，用于保存当前的图形\n",
    "# \"error_analysis_digits_plot\"是指定的保存文件名\n",
    "plt.savefig(\"images/error_analysis_digits_plot.png\",bbox_inches='tight')\n",
    "\n",
    "# 显示图形，使用plt.show()可以在绘图窗口中查看图形\n",
    "# 这允许用户在屏幕上查看不同分类情况下的样本图像\n",
    "plt.show()"
   ]
  },
  {
   "cell_type": "code",
   "execution_count": 108,
   "id": "26c55801-f6a4-4409-8c55-d4874f5ea1b5",
   "metadata": {},
   "outputs": [
    {
     "data": {
      "text/html": [
       "<style>#sk-container-id-2 {\n",
       "  /* Definition of color scheme common for light and dark mode */\n",
       "  --sklearn-color-text: black;\n",
       "  --sklearn-color-line: gray;\n",
       "  /* Definition of color scheme for unfitted estimators */\n",
       "  --sklearn-color-unfitted-level-0: #fff5e6;\n",
       "  --sklearn-color-unfitted-level-1: #f6e4d2;\n",
       "  --sklearn-color-unfitted-level-2: #ffe0b3;\n",
       "  --sklearn-color-unfitted-level-3: chocolate;\n",
       "  /* Definition of color scheme for fitted estimators */\n",
       "  --sklearn-color-fitted-level-0: #f0f8ff;\n",
       "  --sklearn-color-fitted-level-1: #d4ebff;\n",
       "  --sklearn-color-fitted-level-2: #b3dbfd;\n",
       "  --sklearn-color-fitted-level-3: cornflowerblue;\n",
       "\n",
       "  /* Specific color for light theme */\n",
       "  --sklearn-color-text-on-default-background: var(--sg-text-color, var(--theme-code-foreground, var(--jp-content-font-color1, black)));\n",
       "  --sklearn-color-background: var(--sg-background-color, var(--theme-background, var(--jp-layout-color0, white)));\n",
       "  --sklearn-color-border-box: var(--sg-text-color, var(--theme-code-foreground, var(--jp-content-font-color1, black)));\n",
       "  --sklearn-color-icon: #696969;\n",
       "\n",
       "  @media (prefers-color-scheme: dark) {\n",
       "    /* Redefinition of color scheme for dark theme */\n",
       "    --sklearn-color-text-on-default-background: var(--sg-text-color, var(--theme-code-foreground, var(--jp-content-font-color1, white)));\n",
       "    --sklearn-color-background: var(--sg-background-color, var(--theme-background, var(--jp-layout-color0, #111)));\n",
       "    --sklearn-color-border-box: var(--sg-text-color, var(--theme-code-foreground, var(--jp-content-font-color1, white)));\n",
       "    --sklearn-color-icon: #878787;\n",
       "  }\n",
       "}\n",
       "\n",
       "#sk-container-id-2 {\n",
       "  color: var(--sklearn-color-text);\n",
       "}\n",
       "\n",
       "#sk-container-id-2 pre {\n",
       "  padding: 0;\n",
       "}\n",
       "\n",
       "#sk-container-id-2 input.sk-hidden--visually {\n",
       "  border: 0;\n",
       "  clip: rect(1px 1px 1px 1px);\n",
       "  clip: rect(1px, 1px, 1px, 1px);\n",
       "  height: 1px;\n",
       "  margin: -1px;\n",
       "  overflow: hidden;\n",
       "  padding: 0;\n",
       "  position: absolute;\n",
       "  width: 1px;\n",
       "}\n",
       "\n",
       "#sk-container-id-2 div.sk-dashed-wrapped {\n",
       "  border: 1px dashed var(--sklearn-color-line);\n",
       "  margin: 0 0.4em 0.5em 0.4em;\n",
       "  box-sizing: border-box;\n",
       "  padding-bottom: 0.4em;\n",
       "  background-color: var(--sklearn-color-background);\n",
       "}\n",
       "\n",
       "#sk-container-id-2 div.sk-container {\n",
       "  /* jupyter's `normalize.less` sets `[hidden] { display: none; }`\n",
       "     but bootstrap.min.css set `[hidden] { display: none !important; }`\n",
       "     so we also need the `!important` here to be able to override the\n",
       "     default hidden behavior on the sphinx rendered scikit-learn.org.\n",
       "     See: https://github.com/scikit-learn/scikit-learn/issues/21755 */\n",
       "  display: inline-block !important;\n",
       "  position: relative;\n",
       "}\n",
       "\n",
       "#sk-container-id-2 div.sk-text-repr-fallback {\n",
       "  display: none;\n",
       "}\n",
       "\n",
       "div.sk-parallel-item,\n",
       "div.sk-serial,\n",
       "div.sk-item {\n",
       "  /* draw centered vertical line to link estimators */\n",
       "  background-image: linear-gradient(var(--sklearn-color-text-on-default-background), var(--sklearn-color-text-on-default-background));\n",
       "  background-size: 2px 100%;\n",
       "  background-repeat: no-repeat;\n",
       "  background-position: center center;\n",
       "}\n",
       "\n",
       "/* Parallel-specific style estimator block */\n",
       "\n",
       "#sk-container-id-2 div.sk-parallel-item::after {\n",
       "  content: \"\";\n",
       "  width: 100%;\n",
       "  border-bottom: 2px solid var(--sklearn-color-text-on-default-background);\n",
       "  flex-grow: 1;\n",
       "}\n",
       "\n",
       "#sk-container-id-2 div.sk-parallel {\n",
       "  display: flex;\n",
       "  align-items: stretch;\n",
       "  justify-content: center;\n",
       "  background-color: var(--sklearn-color-background);\n",
       "  position: relative;\n",
       "}\n",
       "\n",
       "#sk-container-id-2 div.sk-parallel-item {\n",
       "  display: flex;\n",
       "  flex-direction: column;\n",
       "}\n",
       "\n",
       "#sk-container-id-2 div.sk-parallel-item:first-child::after {\n",
       "  align-self: flex-end;\n",
       "  width: 50%;\n",
       "}\n",
       "\n",
       "#sk-container-id-2 div.sk-parallel-item:last-child::after {\n",
       "  align-self: flex-start;\n",
       "  width: 50%;\n",
       "}\n",
       "\n",
       "#sk-container-id-2 div.sk-parallel-item:only-child::after {\n",
       "  width: 0;\n",
       "}\n",
       "\n",
       "/* Serial-specific style estimator block */\n",
       "\n",
       "#sk-container-id-2 div.sk-serial {\n",
       "  display: flex;\n",
       "  flex-direction: column;\n",
       "  align-items: center;\n",
       "  background-color: var(--sklearn-color-background);\n",
       "  padding-right: 1em;\n",
       "  padding-left: 1em;\n",
       "}\n",
       "\n",
       "\n",
       "/* Toggleable style: style used for estimator/Pipeline/ColumnTransformer box that is\n",
       "clickable and can be expanded/collapsed.\n",
       "- Pipeline and ColumnTransformer use this feature and define the default style\n",
       "- Estimators will overwrite some part of the style using the `sk-estimator` class\n",
       "*/\n",
       "\n",
       "/* Pipeline and ColumnTransformer style (default) */\n",
       "\n",
       "#sk-container-id-2 div.sk-toggleable {\n",
       "  /* Default theme specific background. It is overwritten whether we have a\n",
       "  specific estimator or a Pipeline/ColumnTransformer */\n",
       "  background-color: var(--sklearn-color-background);\n",
       "}\n",
       "\n",
       "/* Toggleable label */\n",
       "#sk-container-id-2 label.sk-toggleable__label {\n",
       "  cursor: pointer;\n",
       "  display: block;\n",
       "  width: 100%;\n",
       "  margin-bottom: 0;\n",
       "  padding: 0.5em;\n",
       "  box-sizing: border-box;\n",
       "  text-align: center;\n",
       "}\n",
       "\n",
       "#sk-container-id-2 label.sk-toggleable__label-arrow:before {\n",
       "  /* Arrow on the left of the label */\n",
       "  content: \"▸\";\n",
       "  float: left;\n",
       "  margin-right: 0.25em;\n",
       "  color: var(--sklearn-color-icon);\n",
       "}\n",
       "\n",
       "#sk-container-id-2 label.sk-toggleable__label-arrow:hover:before {\n",
       "  color: var(--sklearn-color-text);\n",
       "}\n",
       "\n",
       "/* Toggleable content - dropdown */\n",
       "\n",
       "#sk-container-id-2 div.sk-toggleable__content {\n",
       "  max-height: 0;\n",
       "  max-width: 0;\n",
       "  overflow: hidden;\n",
       "  text-align: left;\n",
       "  /* unfitted */\n",
       "  background-color: var(--sklearn-color-unfitted-level-0);\n",
       "}\n",
       "\n",
       "#sk-container-id-2 div.sk-toggleable__content.fitted {\n",
       "  /* fitted */\n",
       "  background-color: var(--sklearn-color-fitted-level-0);\n",
       "}\n",
       "\n",
       "#sk-container-id-2 div.sk-toggleable__content pre {\n",
       "  margin: 0.2em;\n",
       "  border-radius: 0.25em;\n",
       "  color: var(--sklearn-color-text);\n",
       "  /* unfitted */\n",
       "  background-color: var(--sklearn-color-unfitted-level-0);\n",
       "}\n",
       "\n",
       "#sk-container-id-2 div.sk-toggleable__content.fitted pre {\n",
       "  /* unfitted */\n",
       "  background-color: var(--sklearn-color-fitted-level-0);\n",
       "}\n",
       "\n",
       "#sk-container-id-2 input.sk-toggleable__control:checked~div.sk-toggleable__content {\n",
       "  /* Expand drop-down */\n",
       "  max-height: 200px;\n",
       "  max-width: 100%;\n",
       "  overflow: auto;\n",
       "}\n",
       "\n",
       "#sk-container-id-2 input.sk-toggleable__control:checked~label.sk-toggleable__label-arrow:before {\n",
       "  content: \"▾\";\n",
       "}\n",
       "\n",
       "/* Pipeline/ColumnTransformer-specific style */\n",
       "\n",
       "#sk-container-id-2 div.sk-label input.sk-toggleable__control:checked~label.sk-toggleable__label {\n",
       "  color: var(--sklearn-color-text);\n",
       "  background-color: var(--sklearn-color-unfitted-level-2);\n",
       "}\n",
       "\n",
       "#sk-container-id-2 div.sk-label.fitted input.sk-toggleable__control:checked~label.sk-toggleable__label {\n",
       "  background-color: var(--sklearn-color-fitted-level-2);\n",
       "}\n",
       "\n",
       "/* Estimator-specific style */\n",
       "\n",
       "/* Colorize estimator box */\n",
       "#sk-container-id-2 div.sk-estimator input.sk-toggleable__control:checked~label.sk-toggleable__label {\n",
       "  /* unfitted */\n",
       "  background-color: var(--sklearn-color-unfitted-level-2);\n",
       "}\n",
       "\n",
       "#sk-container-id-2 div.sk-estimator.fitted input.sk-toggleable__control:checked~label.sk-toggleable__label {\n",
       "  /* fitted */\n",
       "  background-color: var(--sklearn-color-fitted-level-2);\n",
       "}\n",
       "\n",
       "#sk-container-id-2 div.sk-label label.sk-toggleable__label,\n",
       "#sk-container-id-2 div.sk-label label {\n",
       "  /* The background is the default theme color */\n",
       "  color: var(--sklearn-color-text-on-default-background);\n",
       "}\n",
       "\n",
       "/* On hover, darken the color of the background */\n",
       "#sk-container-id-2 div.sk-label:hover label.sk-toggleable__label {\n",
       "  color: var(--sklearn-color-text);\n",
       "  background-color: var(--sklearn-color-unfitted-level-2);\n",
       "}\n",
       "\n",
       "/* Label box, darken color on hover, fitted */\n",
       "#sk-container-id-2 div.sk-label.fitted:hover label.sk-toggleable__label.fitted {\n",
       "  color: var(--sklearn-color-text);\n",
       "  background-color: var(--sklearn-color-fitted-level-2);\n",
       "}\n",
       "\n",
       "/* Estimator label */\n",
       "\n",
       "#sk-container-id-2 div.sk-label label {\n",
       "  font-family: monospace;\n",
       "  font-weight: bold;\n",
       "  display: inline-block;\n",
       "  line-height: 1.2em;\n",
       "}\n",
       "\n",
       "#sk-container-id-2 div.sk-label-container {\n",
       "  text-align: center;\n",
       "}\n",
       "\n",
       "/* Estimator-specific */\n",
       "#sk-container-id-2 div.sk-estimator {\n",
       "  font-family: monospace;\n",
       "  border: 1px dotted var(--sklearn-color-border-box);\n",
       "  border-radius: 0.25em;\n",
       "  box-sizing: border-box;\n",
       "  margin-bottom: 0.5em;\n",
       "  /* unfitted */\n",
       "  background-color: var(--sklearn-color-unfitted-level-0);\n",
       "}\n",
       "\n",
       "#sk-container-id-2 div.sk-estimator.fitted {\n",
       "  /* fitted */\n",
       "  background-color: var(--sklearn-color-fitted-level-0);\n",
       "}\n",
       "\n",
       "/* on hover */\n",
       "#sk-container-id-2 div.sk-estimator:hover {\n",
       "  /* unfitted */\n",
       "  background-color: var(--sklearn-color-unfitted-level-2);\n",
       "}\n",
       "\n",
       "#sk-container-id-2 div.sk-estimator.fitted:hover {\n",
       "  /* fitted */\n",
       "  background-color: var(--sklearn-color-fitted-level-2);\n",
       "}\n",
       "\n",
       "/* Specification for estimator info (e.g. \"i\" and \"?\") */\n",
       "\n",
       "/* Common style for \"i\" and \"?\" */\n",
       "\n",
       ".sk-estimator-doc-link,\n",
       "a:link.sk-estimator-doc-link,\n",
       "a:visited.sk-estimator-doc-link {\n",
       "  float: right;\n",
       "  font-size: smaller;\n",
       "  line-height: 1em;\n",
       "  font-family: monospace;\n",
       "  background-color: var(--sklearn-color-background);\n",
       "  border-radius: 1em;\n",
       "  height: 1em;\n",
       "  width: 1em;\n",
       "  text-decoration: none !important;\n",
       "  margin-left: 1ex;\n",
       "  /* unfitted */\n",
       "  border: var(--sklearn-color-unfitted-level-1) 1pt solid;\n",
       "  color: var(--sklearn-color-unfitted-level-1);\n",
       "}\n",
       "\n",
       ".sk-estimator-doc-link.fitted,\n",
       "a:link.sk-estimator-doc-link.fitted,\n",
       "a:visited.sk-estimator-doc-link.fitted {\n",
       "  /* fitted */\n",
       "  border: var(--sklearn-color-fitted-level-1) 1pt solid;\n",
       "  color: var(--sklearn-color-fitted-level-1);\n",
       "}\n",
       "\n",
       "/* On hover */\n",
       "div.sk-estimator:hover .sk-estimator-doc-link:hover,\n",
       ".sk-estimator-doc-link:hover,\n",
       "div.sk-label-container:hover .sk-estimator-doc-link:hover,\n",
       ".sk-estimator-doc-link:hover {\n",
       "  /* unfitted */\n",
       "  background-color: var(--sklearn-color-unfitted-level-3);\n",
       "  color: var(--sklearn-color-background);\n",
       "  text-decoration: none;\n",
       "}\n",
       "\n",
       "div.sk-estimator.fitted:hover .sk-estimator-doc-link.fitted:hover,\n",
       ".sk-estimator-doc-link.fitted:hover,\n",
       "div.sk-label-container:hover .sk-estimator-doc-link.fitted:hover,\n",
       ".sk-estimator-doc-link.fitted:hover {\n",
       "  /* fitted */\n",
       "  background-color: var(--sklearn-color-fitted-level-3);\n",
       "  color: var(--sklearn-color-background);\n",
       "  text-decoration: none;\n",
       "}\n",
       "\n",
       "/* Span, style for the box shown on hovering the info icon */\n",
       ".sk-estimator-doc-link span {\n",
       "  display: none;\n",
       "  z-index: 9999;\n",
       "  position: relative;\n",
       "  font-weight: normal;\n",
       "  right: .2ex;\n",
       "  padding: .5ex;\n",
       "  margin: .5ex;\n",
       "  width: min-content;\n",
       "  min-width: 20ex;\n",
       "  max-width: 50ex;\n",
       "  color: var(--sklearn-color-text);\n",
       "  box-shadow: 2pt 2pt 4pt #999;\n",
       "  /* unfitted */\n",
       "  background: var(--sklearn-color-unfitted-level-0);\n",
       "  border: .5pt solid var(--sklearn-color-unfitted-level-3);\n",
       "}\n",
       "\n",
       ".sk-estimator-doc-link.fitted span {\n",
       "  /* fitted */\n",
       "  background: var(--sklearn-color-fitted-level-0);\n",
       "  border: var(--sklearn-color-fitted-level-3);\n",
       "}\n",
       "\n",
       ".sk-estimator-doc-link:hover span {\n",
       "  display: block;\n",
       "}\n",
       "\n",
       "/* \"?\"-specific style due to the `<a>` HTML tag */\n",
       "\n",
       "#sk-container-id-2 a.estimator_doc_link {\n",
       "  float: right;\n",
       "  font-size: 1rem;\n",
       "  line-height: 1em;\n",
       "  font-family: monospace;\n",
       "  background-color: var(--sklearn-color-background);\n",
       "  border-radius: 1rem;\n",
       "  height: 1rem;\n",
       "  width: 1rem;\n",
       "  text-decoration: none;\n",
       "  /* unfitted */\n",
       "  color: var(--sklearn-color-unfitted-level-1);\n",
       "  border: var(--sklearn-color-unfitted-level-1) 1pt solid;\n",
       "}\n",
       "\n",
       "#sk-container-id-2 a.estimator_doc_link.fitted {\n",
       "  /* fitted */\n",
       "  border: var(--sklearn-color-fitted-level-1) 1pt solid;\n",
       "  color: var(--sklearn-color-fitted-level-1);\n",
       "}\n",
       "\n",
       "/* On hover */\n",
       "#sk-container-id-2 a.estimator_doc_link:hover {\n",
       "  /* unfitted */\n",
       "  background-color: var(--sklearn-color-unfitted-level-3);\n",
       "  color: var(--sklearn-color-background);\n",
       "  text-decoration: none;\n",
       "}\n",
       "\n",
       "#sk-container-id-2 a.estimator_doc_link.fitted:hover {\n",
       "  /* fitted */\n",
       "  background-color: var(--sklearn-color-fitted-level-3);\n",
       "}\n",
       "</style><div id=\"sk-container-id-2\" class=\"sk-top-container\"><div class=\"sk-text-repr-fallback\"><pre>KNeighborsClassifier()</pre><b>In a Jupyter environment, please rerun this cell to show the HTML representation or trust the notebook. <br />On GitHub, the HTML representation is unable to render, please try loading this page with nbviewer.org.</b></div><div class=\"sk-container\" hidden><div class=\"sk-item\"><div class=\"sk-estimator fitted sk-toggleable\"><input class=\"sk-toggleable__control sk-hidden--visually\" id=\"sk-estimator-id-2\" type=\"checkbox\" checked><label for=\"sk-estimator-id-2\" class=\"sk-toggleable__label fitted sk-toggleable__label-arrow fitted\">&nbsp;&nbsp;KNeighborsClassifier<a class=\"sk-estimator-doc-link fitted\" rel=\"noreferrer\" target=\"_blank\" href=\"https://scikit-learn.org/1.5/modules/generated/sklearn.neighbors.KNeighborsClassifier.html\">?<span>Documentation for KNeighborsClassifier</span></a><span class=\"sk-estimator-doc-link fitted\">i<span>Fitted</span></span></label><div class=\"sk-toggleable__content fitted\"><pre>KNeighborsClassifier()</pre></div> </div></div></div></div>"
      ],
      "text/plain": [
       "KNeighborsClassifier()"
      ]
     },
     "execution_count": 108,
     "metadata": {},
     "output_type": "execute_result"
    }
   ],
   "source": [
    "from sklearn.neighbors import KNeighborsClassifier\n",
    "import numpy as np\n",
    "\n",
    "# 将y_train转换为一个布尔数组，其中的元素表示原始标签是否大于或等于7\n",
    "y_train_large = (y_train >= 7)\n",
    "\n",
    "# 将y_train转换为一个布尔数组，其中的元素表示原始标签是否为奇数\n",
    "y_train_odd = (y_train % 2 == 1)\n",
    "\n",
    "# 使用np.c_将y_train_large和y_train_odd两个布尔数组按列合并\n",
    "# 这将创建一个新的多标签数组y_multilabel，其中每行代表一个样本的多个标签\n",
    "y_multilabel = np.c_[y_train_large, y_train_odd]\n",
    "\n",
    "# 创建KNeighborsClassifier的实例，这是一个k近邻分类器\n",
    "knn_clf = KNeighborsClassifier()\n",
    "\n",
    "# 使用fit方法训练knn_clf模型\n",
    "# X_train是训练数据的特征集，y_multilabel是对应的多标签数组\n",
    "# 这个fit方法将训练knn_clf模型，使其能够根据X_train的特征预测y_multilabel中的标签\n",
    "knn_clf.fit(X_train, y_multilabel)"
   ]
  },
  {
   "cell_type": "code",
   "execution_count": 110,
   "id": "11d1673d-73a8-4924-8ca9-3a1cfae1baf6",
   "metadata": {},
   "outputs": [
    {
     "data": {
      "text/plain": [
       "array([[False,  True]])"
      ]
     },
     "execution_count": 110,
     "metadata": {},
     "output_type": "execute_result"
    }
   ],
   "source": [
    "# 使用训练好的KNeighborsClassifier模型knn_clf对单个样本some_digit进行预测\n",
    "# some_digit是一个784维的NumPy数组，表示一个已经预处理的手写数字图像\n",
    "# predict方法将根据knn_clf模型的学习和some_digit的特征，预测其对应的标签\n",
    "# 对于多标签分类问题，预测结果将是一个布尔数组，表示样本对于每个标签的隶属情况\n",
    "predicted_labels = knn_clf.predict([some_digit])\n",
    "predicted_labels"
   ]
  },
  {
   "cell_type": "code",
   "execution_count": 113,
   "id": "7af7bee4-b341-451b-a7ad-3af4c4293e6c",
   "metadata": {},
   "outputs": [
    {
     "data": {
      "text/plain": [
       "np.float64(0.9769702839959413)"
      ]
     },
     "execution_count": 113,
     "metadata": {},
     "output_type": "execute_result"
    }
   ],
   "source": [
    "from sklearn.model_selection import cross_val_predict\n",
    "from sklearn.metrics import f1_score\n",
    "\n",
    "# 使用cross_val_predict函数在X_train数据集上使用knn_clf模型进行交叉验证预测\n",
    "# knn_clf是已经初始化的KNeighborsClassifier模型实例\n",
    "# X_train是训练数据的特征集\n",
    "# y_multilabel是对应的多标签数组，包含了样本的多个标签\n",
    "# cv=3表示将数据集分割成3个部分进行交叉验证，即3折交叉验证\n",
    "# n_jobs=-1表示使用所有可用的CPU核心来加速交叉验证过程\n",
    "# 这个方法将返回在每个折上使用训练数据预测的标签\n",
    "y_train_knn_pred = cross_val_predict(knn_clf, X_train, y_multilabel, cv=3, n_jobs=-1)\n",
    "\n",
    "# 使用f1_score函数计算knn_clf模型在多标签分类问题上的F1分数\n",
    "# y_multilabel是真实标签数组，y_train_knn_pred是预测得到的标签数组\n",
    "# average=\"macro\"表示计算宏平均F1分数，即每个标签的F1分数的简单平均\n",
    "# 宏平均对所有类别的F1分数给予相同权重，不考虑类别样本数量的不平衡\n",
    "f1_macro = f1_score(y_multilabel, y_train_knn_pred, average=\"macro\")\n",
    "f1_macro"
   ]
  },
  {
   "cell_type": "code",
   "execution_count": 114,
   "id": "825f1cf0-bacd-464f-974c-dd0ae2820d65",
   "metadata": {},
   "outputs": [],
   "source": [
    "import numpy as np\n",
    "\n",
    "# 创建一个与X_train相同形状的数组，其中填充0到100之间的随机整数\n",
    "# 这将作为噪声添加到原始的X_train数据中\n",
    "noise = np.random.randint(0, 100, (len(X_train), 784))\n",
    "\n",
    "# 将噪声添加到X_train的原始数据中，形成新的训练数据集X_train_mod\n",
    "X_train_mod = X_train + noise\n",
    "\n",
    "# 用相同的方法创建噪声并添加到测试数据集X_test中，形成X_test_mod\n",
    "noise = np.random.randint(0, 100, (len(X_test), 784))\n",
    "X_test_mod = X_test + noise\n",
    "\n",
    "# 下面的两行代码是错误的，因为它们将训练和测试标签分别赋值为X_train和X_test的数据，\n",
    "# 这不符合逻辑，因为标签应该是原始数据集的真实标签，而不是特征数据。\n",
    "# 这可能是一个错误，通常我们不会这样修改标签。\n",
    "y_train_mod = X_train  # 错误：标签不应该被修改为特征数据\n",
    "y_test_mod = X_test     # 错误：标签不应该被修改为特征数据"
   ]
  },
  {
   "cell_type": "code",
   "execution_count": 115,
   "id": "de47fb2b-f175-4d86-a88f-af62d18a4390",
   "metadata": {},
   "outputs": [
    {
     "data": {
      "image/png": "[encoded data removed]",
      "text/plain": [
       "<Figure size 640x480 with 2 Axes>"
      ]
     },
     "metadata": {},
     "output_type": "display_data"
    }
   ],
   "source": [
    "import matplotlib.pyplot as plt\n",
    "\n",
    "# 选择一个特定的索引来获取X_test_mod和y_test_mod中的图像\n",
    "# 这个索引用于获取两个数组中相应位置的样本\n",
    "some_index = 5500\n",
    "\n",
    "# 设置图形为1行2列的子图布局，并激活第1个子图（从0开始计数）\n",
    "plt.subplot(121); \n",
    "# 调用plot_digit函数绘制X_test_mod中索引为some_index的图像\n",
    "# 这应该是一个添加了噪声的手写数字图像\n",
    "plot_digit(X_test_mod[some_index])\n",
    "\n",
    "# 激活第2个子图（索引为1）\n",
    "plt.subplot(122); \n",
    "# 调用plot_digit函数绘制y_test_mod中索引为some_index的图像\n",
    "# 根据之前的代码，y_test_mod错误地被赋值为X_test，所以这将不是一个标签图像\n",
    "# 正确的做法应该是绘制原始的y_test中的真实标签图像\n",
    "plot_digit(y_test_mod[some_index])\n",
    " \n",
    "# 假设 savefig 是一个已经定义的函数，用于保存当前的图形\n",
    "# \"noisy_digit_example_plot\"是指定的保存文件名\n",
    "plt.savefig(\"images/noisy_digit_example_plot.png\",bbox_inches='tight')\n",
    "\n",
    "# 显示图形，使用plt.show()可以在绘图窗口中查看图形\n",
    "# 这允许用户在屏幕上查看添加了噪声的图像和对应的真实标签图像\n",
    "plt.show()"
   ]
  },
  {
   "cell_type": "code",
   "execution_count": 116,
   "id": "919b4aa4-9e63-4bab-8fd3-92cbc66a712b",
   "metadata": {},
   "outputs": [
    {
     "data": {
      "image/png": "[encoded data removed]",
      "text/plain": [
       "<Figure size 640x480 with 1 Axes>"
      ]
     },
     "metadata": {},
     "output_type": "display_data"
    }
   ],
   "source": [
    "# 使用修改后的训练数据集X_train_mod和错误赋值的标签集y_train_mod训练knn_clf模型\n",
    "# 这里使用fit方法更新knn_clf模型，使其学习带有噪声的数据集特征\n",
    "knn_clf.fit(X_train_mod, y_train_mod)\n",
    "\n",
    "# 使用训练好的knn_clf模型对单个样本X_test_mod[some_index]进行预测\n",
    "# predict方法将返回模型预测的最可能的类别\n",
    "# 然而，由于KNeighborsClassifier是用于分类的，它实际上不直接输出一个图像\n",
    "# 这里可能的意图是使用knn_clf来估计噪声并尝试“清洁”图像\n",
    "# 但正确的做法是使用去噪技术或获取一个干净的图像数据集\n",
    "clean_digit = knn_clf.predict([X_test_mod[some_index]])\n",
    "\n",
    "# 假设plot_digit函数用于绘制单个图像，这里将绘制knn_clf预测的“清洁”后的图像\n",
    "# 然而，由于predict返回的是类别标签，而不是图像，这个调用可能是错误的\n",
    "# 如果clean_digit确实是一个图像，那么可以绘制它\n",
    "plot_digit(clean_digit)\n",
    "\n",
    "# 假设 savefig 是一个已经定义的函数，用于保存当前的图形\n",
    "# \"cleaned_digit_example_plot\"是指定的保存文件名\n",
    "# 这个函数将保存绘制的“清洁”后的图像\n",
    "plt.savefig(\"images/cleaned_digit_example_plot.png\",bbox_inches='tight')"
   ]
  },
  {
   "cell_type": "code",
   "execution_count": 117,
   "id": "927d7fa1-d095-4893-8b3c-406785021b6f",
   "metadata": {},
   "outputs": [],
   "source": [
    "from sklearn.dummy import DummyClassifier\n",
    "from sklearn.model_selection import cross_val_predict\n",
    "\n",
    "# 导入DummyClassifier类，这是一个虚拟的分类器，用于作为基线模型或测试\n",
    "dmy_clf = DummyClassifier()\n",
    "\n",
    "# 使用cross_val_predict函数和DummyClassifier实例dmy_clf进行交叉验证预测\n",
    "# X_train是训练数据的特征集\n",
    "# y_train_5是布尔数组，表示训练数据标签是否为5\n",
    "# cv=3表示将数据集分割成3个部分进行交叉验证，即3折交叉验证\n",
    "# method=\"predict_proba\"指定使用predict_proba方法来获取每类的概率预测\n",
    "# y_probas_dmy是模型预测的概率结果，它是一个数组，包含了每个样本属于每个类别的概率\n",
    "y_probas_dmy = cross_val_predict(dmy_clf, X_train, y_train_5, cv=3, method=\"predict_proba\")\n",
    "\n",
    "# 从DummyClassifier的预测概率y_probas_dmy中提取正类（即标签为5）的概率\n",
    "# y_probas_dmy[:, 1]通过列索引1获取概率数组中对应于正类的概率值\n",
    "# 这将是一个一维数组，包含了每个样本被预测为正类的概率\n",
    "y_scores_dmy = y_probas_dmy[:, 1]"
   ]
  },
  {
   "cell_type": "code",
   "execution_count": 118,
   "id": "bd9091cc-bf98-4a58-8c8c-2f2a8253b73d",
   "metadata": {},
   "outputs": [
    {
     "data": {
      "image/png": "[encoded data removed]",
      "text/plain": [
       "<Figure size 640x480 with 1 Axes>"
      ]
     },
     "metadata": {},
     "output_type": "display_data"
    }
   ],
   "source": [
    "from sklearn.metrics import roc_curve\n",
    "\n",
    "# 使用roc_curve函数计算DummyClassifier预测的ROC曲线的相关值\n",
    "# y_train_5是训练数据的实际标签的布尔数组，表示标签是否为5\n",
    "# y_scores_dmy是在上一步中获取的DummyClassifier预测的正类概率\n",
    "# 这个函数返回三个数组：\n",
    "# fprr: 不同阈值下的假正例率（False Positive Rate）\n",
    "# tprr: 不同阈值下的真正例率（True Positive Rate），也称为召回率\n",
    "# thresholdsr: 与每个假正例率和真正例率值对应的阈值\n",
    "fprr, tprr, thresholdsr = roc_curve(y_train_5, y_scores_dmy)\n",
    "\n",
    "# 假设plot_roc_curve是一个已经定义的函数，用于绘制ROC曲线\n",
    "# 这里调用该函数绘制DummyClassifier的ROC曲线\n",
    "# fprr和tprr是从roc_curve函数获取的假正例率和真正例率\n",
    "# 这个曲线将展示DummyClassifier在不同阈值下的性能\n",
    "plot_roc_curve(fprr, tprr)"
   ]
  },
  {
   "cell_type": "code",
   "execution_count": 119,
   "id": "73a0b3a5-4ce3-4990-bd9a-c9ed9b717e08",
   "metadata": {},
   "outputs": [
    {
     "data": {
      "text/html": [
       "<style>#sk-container-id-3 {\n",
       "  /* Definition of color scheme common for light and dark mode */\n",
       "  --sklearn-color-text: black;\n",
       "  --sklearn-color-line: gray;\n",
       "  /* Definition of color scheme for unfitted estimators */\n",
       "  --sklearn-color-unfitted-level-0: #fff5e6;\n",
       "  --sklearn-color-unfitted-level-1: #f6e4d2;\n",
       "  --sklearn-color-unfitted-level-2: #ffe0b3;\n",
       "  --sklearn-color-unfitted-level-3: chocolate;\n",
       "  /* Definition of color scheme for fitted estimators */\n",
       "  --sklearn-color-fitted-level-0: #f0f8ff;\n",
       "  --sklearn-color-fitted-level-1: #d4ebff;\n",
       "  --sklearn-color-fitted-level-2: #b3dbfd;\n",
       "  --sklearn-color-fitted-level-3: cornflowerblue;\n",
       "\n",
       "  /* Specific color for light theme */\n",
       "  --sklearn-color-text-on-default-background: var(--sg-text-color, var(--theme-code-foreground, var(--jp-content-font-color1, black)));\n",
       "  --sklearn-color-background: var(--sg-background-color, var(--theme-background, var(--jp-layout-color0, white)));\n",
       "  --sklearn-color-border-box: var(--sg-text-color, var(--theme-code-foreground, var(--jp-content-font-color1, black)));\n",
       "  --sklearn-color-icon: #696969;\n",
       "\n",
       "  @media (prefers-color-scheme: dark) {\n",
       "    /* Redefinition of color scheme for dark theme */\n",
       "    --sklearn-color-text-on-default-background: var(--sg-text-color, var(--theme-code-foreground, var(--jp-content-font-color1, white)));\n",
       "    --sklearn-color-background: var(--sg-background-color, var(--theme-background, var(--jp-layout-color0, #111)));\n",
       "    --sklearn-color-border-box: var(--sg-text-color, var(--theme-code-foreground, var(--jp-content-font-color1, white)));\n",
       "    --sklearn-color-icon: #878787;\n",
       "  }\n",
       "}\n",
       "\n",
       "#sk-container-id-3 {\n",
       "  color: var(--sklearn-color-text);\n",
       "}\n",
       "\n",
       "#sk-container-id-3 pre {\n",
       "  padding: 0;\n",
       "}\n",
       "\n",
       "#sk-container-id-3 input.sk-hidden--visually {\n",
       "  border: 0;\n",
       "  clip: rect(1px 1px 1px 1px);\n",
       "  clip: rect(1px, 1px, 1px, 1px);\n",
       "  height: 1px;\n",
       "  margin: -1px;\n",
       "  overflow: hidden;\n",
       "  padding: 0;\n",
       "  position: absolute;\n",
       "  width: 1px;\n",
       "}\n",
       "\n",
       "#sk-container-id-3 div.sk-dashed-wrapped {\n",
       "  border: 1px dashed var(--sklearn-color-line);\n",
       "  margin: 0 0.4em 0.5em 0.4em;\n",
       "  box-sizing: border-box;\n",
       "  padding-bottom: 0.4em;\n",
       "  background-color: var(--sklearn-color-background);\n",
       "}\n",
       "\n",
       "#sk-container-id-3 div.sk-container {\n",
       "  /* jupyter's `normalize.less` sets `[hidden] { display: none; }`\n",
       "     but bootstrap.min.css set `[hidden] { display: none !important; }`\n",
       "     so we also need the `!important` here to be able to override the\n",
       "     default hidden behavior on the sphinx rendered scikit-learn.org.\n",
       "     See: https://github.com/scikit-learn/scikit-learn/issues/21755 */\n",
       "  display: inline-block !important;\n",
       "  position: relative;\n",
       "}\n",
       "\n",
       "#sk-container-id-3 div.sk-text-repr-fallback {\n",
       "  display: none;\n",
       "}\n",
       "\n",
       "div.sk-parallel-item,\n",
       "div.sk-serial,\n",
       "div.sk-item {\n",
       "  /* draw centered vertical line to link estimators */\n",
       "  background-image: linear-gradient(var(--sklearn-color-text-on-default-background), var(--sklearn-color-text-on-default-background));\n",
       "  background-size: 2px 100%;\n",
       "  background-repeat: no-repeat;\n",
       "  background-position: center center;\n",
       "}\n",
       "\n",
       "/* Parallel-specific style estimator block */\n",
       "\n",
       "#sk-container-id-3 div.sk-parallel-item::after {\n",
       "  content: \"\";\n",
       "  width: 100%;\n",
       "  border-bottom: 2px solid var(--sklearn-color-text-on-default-background);\n",
       "  flex-grow: 1;\n",
       "}\n",
       "\n",
       "#sk-container-id-3 div.sk-parallel {\n",
       "  display: flex;\n",
       "  align-items: stretch;\n",
       "  justify-content: center;\n",
       "  background-color: var(--sklearn-color-background);\n",
       "  position: relative;\n",
       "}\n",
       "\n",
       "#sk-container-id-3 div.sk-parallel-item {\n",
       "  display: flex;\n",
       "  flex-direction: column;\n",
       "}\n",
       "\n",
       "#sk-container-id-3 div.sk-parallel-item:first-child::after {\n",
       "  align-self: flex-end;\n",
       "  width: 50%;\n",
       "}\n",
       "\n",
       "#sk-container-id-3 div.sk-parallel-item:last-child::after {\n",
       "  align-self: flex-start;\n",
       "  width: 50%;\n",
       "}\n",
       "\n",
       "#sk-container-id-3 div.sk-parallel-item:only-child::after {\n",
       "  width: 0;\n",
       "}\n",
       "\n",
       "/* Serial-specific style estimator block */\n",
       "\n",
       "#sk-container-id-3 div.sk-serial {\n",
       "  display: flex;\n",
       "  flex-direction: column;\n",
       "  align-items: center;\n",
       "  background-color: var(--sklearn-color-background);\n",
       "  padding-right: 1em;\n",
       "  padding-left: 1em;\n",
       "}\n",
       "\n",
       "\n",
       "/* Toggleable style: style used for estimator/Pipeline/ColumnTransformer box that is\n",
       "clickable and can be expanded/collapsed.\n",
       "- Pipeline and ColumnTransformer use this feature and define the default style\n",
       "- Estimators will overwrite some part of the style using the `sk-estimator` class\n",
       "*/\n",
       "\n",
       "/* Pipeline and ColumnTransformer style (default) */\n",
       "\n",
       "#sk-container-id-3 div.sk-toggleable {\n",
       "  /* Default theme specific background. It is overwritten whether we have a\n",
       "  specific estimator or a Pipeline/ColumnTransformer */\n",
       "  background-color: var(--sklearn-color-background);\n",
       "}\n",
       "\n",
       "/* Toggleable label */\n",
       "#sk-container-id-3 label.sk-toggleable__label {\n",
       "  cursor: pointer;\n",
       "  display: block;\n",
       "  width: 100%;\n",
       "  margin-bottom: 0;\n",
       "  padding: 0.5em;\n",
       "  box-sizing: border-box;\n",
       "  text-align: center;\n",
       "}\n",
       "\n",
       "#sk-container-id-3 label.sk-toggleable__label-arrow:before {\n",
       "  /* Arrow on the left of the label */\n",
       "  content: \"▸\";\n",
       "  float: left;\n",
       "  margin-right: 0.25em;\n",
       "  color: var(--sklearn-color-icon);\n",
       "}\n",
       "\n",
       "#sk-container-id-3 label.sk-toggleable__label-arrow:hover:before {\n",
       "  color: var(--sklearn-color-text);\n",
       "}\n",
       "\n",
       "/* Toggleable content - dropdown */\n",
       "\n",
       "#sk-container-id-3 div.sk-toggleable__content {\n",
       "  max-height: 0;\n",
       "  max-width: 0;\n",
       "  overflow: hidden;\n",
       "  text-align: left;\n",
       "  /* unfitted */\n",
       "  background-color: var(--sklearn-color-unfitted-level-0);\n",
       "}\n",
       "\n",
       "#sk-container-id-3 div.sk-toggleable__content.fitted {\n",
       "  /* fitted */\n",
       "  background-color: var(--sklearn-color-fitted-level-0);\n",
       "}\n",
       "\n",
       "#sk-container-id-3 div.sk-toggleable__content pre {\n",
       "  margin: 0.2em;\n",
       "  border-radius: 0.25em;\n",
       "  color: var(--sklearn-color-text);\n",
       "  /* unfitted */\n",
       "  background-color: var(--sklearn-color-unfitted-level-0);\n",
       "}\n",
       "\n",
       "#sk-container-id-3 div.sk-toggleable__content.fitted pre {\n",
       "  /* unfitted */\n",
       "  background-color: var(--sklearn-color-fitted-level-0);\n",
       "}\n",
       "\n",
       "#sk-container-id-3 input.sk-toggleable__control:checked~div.sk-toggleable__content {\n",
       "  /* Expand drop-down */\n",
       "  max-height: 200px;\n",
       "  max-width: 100%;\n",
       "  overflow: auto;\n",
       "}\n",
       "\n",
       "#sk-container-id-3 input.sk-toggleable__control:checked~label.sk-toggleable__label-arrow:before {\n",
       "  content: \"▾\";\n",
       "}\n",
       "\n",
       "/* Pipeline/ColumnTransformer-specific style */\n",
       "\n",
       "#sk-container-id-3 div.sk-label input.sk-toggleable__control:checked~label.sk-toggleable__label {\n",
       "  color: var(--sklearn-color-text);\n",
       "  background-color: var(--sklearn-color-unfitted-level-2);\n",
       "}\n",
       "\n",
       "#sk-container-id-3 div.sk-label.fitted input.sk-toggleable__control:checked~label.sk-toggleable__label {\n",
       "  background-color: var(--sklearn-color-fitted-level-2);\n",
       "}\n",
       "\n",
       "/* Estimator-specific style */\n",
       "\n",
       "/* Colorize estimator box */\n",
       "#sk-container-id-3 div.sk-estimator input.sk-toggleable__control:checked~label.sk-toggleable__label {\n",
       "  /* unfitted */\n",
       "  background-color: var(--sklearn-color-unfitted-level-2);\n",
       "}\n",
       "\n",
       "#sk-container-id-3 div.sk-estimator.fitted input.sk-toggleable__control:checked~label.sk-toggleable__label {\n",
       "  /* fitted */\n",
       "  background-color: var(--sklearn-color-fitted-level-2);\n",
       "}\n",
       "\n",
       "#sk-container-id-3 div.sk-label label.sk-toggleable__label,\n",
       "#sk-container-id-3 div.sk-label label {\n",
       "  /* The background is the default theme color */\n",
       "  color: var(--sklearn-color-text-on-default-background);\n",
       "}\n",
       "\n",
       "/* On hover, darken the color of the background */\n",
       "#sk-container-id-3 div.sk-label:hover label.sk-toggleable__label {\n",
       "  color: var(--sklearn-color-text);\n",
       "  background-color: var(--sklearn-color-unfitted-level-2);\n",
       "}\n",
       "\n",
       "/* Label box, darken color on hover, fitted */\n",
       "#sk-container-id-3 div.sk-label.fitted:hover label.sk-toggleable__label.fitted {\n",
       "  color: var(--sklearn-color-text);\n",
       "  background-color: var(--sklearn-color-fitted-level-2);\n",
       "}\n",
       "\n",
       "/* Estimator label */\n",
       "\n",
       "#sk-container-id-3 div.sk-label label {\n",
       "  font-family: monospace;\n",
       "  font-weight: bold;\n",
       "  display: inline-block;\n",
       "  line-height: 1.2em;\n",
       "}\n",
       "\n",
       "#sk-container-id-3 div.sk-label-container {\n",
       "  text-align: center;\n",
       "}\n",
       "\n",
       "/* Estimator-specific */\n",
       "#sk-container-id-3 div.sk-estimator {\n",
       "  font-family: monospace;\n",
       "  border: 1px dotted var(--sklearn-color-border-box);\n",
       "  border-radius: 0.25em;\n",
       "  box-sizing: border-box;\n",
       "  margin-bottom: 0.5em;\n",
       "  /* unfitted */\n",
       "  background-color: var(--sklearn-color-unfitted-level-0);\n",
       "}\n",
       "\n",
       "#sk-container-id-3 div.sk-estimator.fitted {\n",
       "  /* fitted */\n",
       "  background-color: var(--sklearn-color-fitted-level-0);\n",
       "}\n",
       "\n",
       "/* on hover */\n",
       "#sk-container-id-3 div.sk-estimator:hover {\n",
       "  /* unfitted */\n",
       "  background-color: var(--sklearn-color-unfitted-level-2);\n",
       "}\n",
       "\n",
       "#sk-container-id-3 div.sk-estimator.fitted:hover {\n",
       "  /* fitted */\n",
       "  background-color: var(--sklearn-color-fitted-level-2);\n",
       "}\n",
       "\n",
       "/* Specification for estimator info (e.g. \"i\" and \"?\") */\n",
       "\n",
       "/* Common style for \"i\" and \"?\" */\n",
       "\n",
       ".sk-estimator-doc-link,\n",
       "a:link.sk-estimator-doc-link,\n",
       "a:visited.sk-estimator-doc-link {\n",
       "  float: right;\n",
       "  font-size: smaller;\n",
       "  line-height: 1em;\n",
       "  font-family: monospace;\n",
       "  background-color: var(--sklearn-color-background);\n",
       "  border-radius: 1em;\n",
       "  height: 1em;\n",
       "  width: 1em;\n",
       "  text-decoration: none !important;\n",
       "  margin-left: 1ex;\n",
       "  /* unfitted */\n",
       "  border: var(--sklearn-color-unfitted-level-1) 1pt solid;\n",
       "  color: var(--sklearn-color-unfitted-level-1);\n",
       "}\n",
       "\n",
       ".sk-estimator-doc-link.fitted,\n",
       "a:link.sk-estimator-doc-link.fitted,\n",
       "a:visited.sk-estimator-doc-link.fitted {\n",
       "  /* fitted */\n",
       "  border: var(--sklearn-color-fitted-level-1) 1pt solid;\n",
       "  color: var(--sklearn-color-fitted-level-1);\n",
       "}\n",
       "\n",
       "/* On hover */\n",
       "div.sk-estimator:hover .sk-estimator-doc-link:hover,\n",
       ".sk-estimator-doc-link:hover,\n",
       "div.sk-label-container:hover .sk-estimator-doc-link:hover,\n",
       ".sk-estimator-doc-link:hover {\n",
       "  /* unfitted */\n",
       "  background-color: var(--sklearn-color-unfitted-level-3);\n",
       "  color: var(--sklearn-color-background);\n",
       "  text-decoration: none;\n",
       "}\n",
       "\n",
       "div.sk-estimator.fitted:hover .sk-estimator-doc-link.fitted:hover,\n",
       ".sk-estimator-doc-link.fitted:hover,\n",
       "div.sk-label-container:hover .sk-estimator-doc-link.fitted:hover,\n",
       ".sk-estimator-doc-link.fitted:hover {\n",
       "  /* fitted */\n",
       "  background-color: var(--sklearn-color-fitted-level-3);\n",
       "  color: var(--sklearn-color-background);\n",
       "  text-decoration: none;\n",
       "}\n",
       "\n",
       "/* Span, style for the box shown on hovering the info icon */\n",
       ".sk-estimator-doc-link span {\n",
       "  display: none;\n",
       "  z-index: 9999;\n",
       "  position: relative;\n",
       "  font-weight: normal;\n",
       "  right: .2ex;\n",
       "  padding: .5ex;\n",
       "  margin: .5ex;\n",
       "  width: min-content;\n",
       "  min-width: 20ex;\n",
       "  max-width: 50ex;\n",
       "  color: var(--sklearn-color-text);\n",
       "  box-shadow: 2pt 2pt 4pt #999;\n",
       "  /* unfitted */\n",
       "  background: var(--sklearn-color-unfitted-level-0);\n",
       "  border: .5pt solid var(--sklearn-color-unfitted-level-3);\n",
       "}\n",
       "\n",
       ".sk-estimator-doc-link.fitted span {\n",
       "  /* fitted */\n",
       "  background: var(--sklearn-color-fitted-level-0);\n",
       "  border: var(--sklearn-color-fitted-level-3);\n",
       "}\n",
       "\n",
       ".sk-estimator-doc-link:hover span {\n",
       "  display: block;\n",
       "}\n",
       "\n",
       "/* \"?\"-specific style due to the `<a>` HTML tag */\n",
       "\n",
       "#sk-container-id-3 a.estimator_doc_link {\n",
       "  float: right;\n",
       "  font-size: 1rem;\n",
       "  line-height: 1em;\n",
       "  font-family: monospace;\n",
       "  background-color: var(--sklearn-color-background);\n",
       "  border-radius: 1rem;\n",
       "  height: 1rem;\n",
       "  width: 1rem;\n",
       "  text-decoration: none;\n",
       "  /* unfitted */\n",
       "  color: var(--sklearn-color-unfitted-level-1);\n",
       "  border: var(--sklearn-color-unfitted-level-1) 1pt solid;\n",
       "}\n",
       "\n",
       "#sk-container-id-3 a.estimator_doc_link.fitted {\n",
       "  /* fitted */\n",
       "  border: var(--sklearn-color-fitted-level-1) 1pt solid;\n",
       "  color: var(--sklearn-color-fitted-level-1);\n",
       "}\n",
       "\n",
       "/* On hover */\n",
       "#sk-container-id-3 a.estimator_doc_link:hover {\n",
       "  /* unfitted */\n",
       "  background-color: var(--sklearn-color-unfitted-level-3);\n",
       "  color: var(--sklearn-color-background);\n",
       "  text-decoration: none;\n",
       "}\n",
       "\n",
       "#sk-container-id-3 a.estimator_doc_link.fitted:hover {\n",
       "  /* fitted */\n",
       "  background-color: var(--sklearn-color-fitted-level-3);\n",
       "}\n",
       "</style><div id=\"sk-container-id-3\" class=\"sk-top-container\"><div class=\"sk-text-repr-fallback\"><pre>KNeighborsClassifier(n_jobs=-1, n_neighbors=4, weights=&#x27;distance&#x27;)</pre><b>In a Jupyter environment, please rerun this cell to show the HTML representation or trust the notebook. <br />On GitHub, the HTML representation is unable to render, please try loading this page with nbviewer.org.</b></div><div class=\"sk-container\" hidden><div class=\"sk-item\"><div class=\"sk-estimator fitted sk-toggleable\"><input class=\"sk-toggleable__control sk-hidden--visually\" id=\"sk-estimator-id-3\" type=\"checkbox\" checked><label for=\"sk-estimator-id-3\" class=\"sk-toggleable__label fitted sk-toggleable__label-arrow fitted\">&nbsp;&nbsp;KNeighborsClassifier<a class=\"sk-estimator-doc-link fitted\" rel=\"noreferrer\" target=\"_blank\" href=\"https://scikit-learn.org/1.5/modules/generated/sklearn.neighbors.KNeighborsClassifier.html\">?<span>Documentation for KNeighborsClassifier</span></a><span class=\"sk-estimator-doc-link fitted\">i<span>Fitted</span></span></label><div class=\"sk-toggleable__content fitted\"><pre>KNeighborsClassifier(n_jobs=-1, n_neighbors=4, weights=&#x27;distance&#x27;)</pre></div> </div></div></div></div>"
      ],
      "text/plain": [
       "KNeighborsClassifier(n_jobs=-1, n_neighbors=4, weights='distance')"
      ]
     },
     "execution_count": 119,
     "metadata": {},
     "output_type": "execute_result"
    }
   ],
   "source": [
    "from sklearn.neighbors import KNeighborsClassifier\n",
    "\n",
    "# 创建KNeighborsClassifier实例，这是一个基于邻近距离的分类器\n",
    "# n_jobs=-1表示使用所有可用的CPU核心进行训练，以加速计算过程\n",
    "# weights='distance'表示在投票时，近的邻居的权重会更大，根据它们与样本的距离进行加权\n",
    "# n_neighbors=4表示在进行决策时考虑最近的4个邻居\n",
    "knn_clf = KNeighborsClassifier(n_jobs=-1, weights='distance', n_neighbors=4)\n",
    "\n",
    "# 使用fit方法训练knn_clf模型\n",
    "# X_train是训练数据的特征集，包含了60000个样本的特征\n",
    "# y_train是训练数据的标签集，包含了对应的60000个样本的标签\n",
    "# 调用fit方法将训练KNeighborsClassifier模型，使其能够根据X_train的特征预测y_train中的标签\n",
    "knn_clf.fit(X_train, y_train)"
   ]
  },
  {
   "cell_type": "code",
   "execution_count": 120,
   "id": "7c18c852-f6f7-4214-bcc6-024ded93e106",
   "metadata": {},
   "outputs": [],
   "source": [
    "# 使用训练好的KNeighborsClassifier模型knn_clf对测试数据集X_test进行预测\n",
    "# X_test是测试数据的特征集，包含了一定数量的手写数字图像的特征\n",
    "# predict方法将根据knn_clf模型的学习和X_test的特征，预测每个样本对应的标签\n",
    "# 返回的y_knn_pred是模型预测的标签数组，包含了测试数据集中每个样本的预测结果\n",
    "y_knn_pred = knn_clf.predict(X_test)"
   ]
  },
  {
   "cell_type": "code",
   "execution_count": 121,
   "id": "1105ddaf-97e7-47f0-af0c-470485bfad01",
   "metadata": {},
   "outputs": [
    {
     "data": {
      "text/plain": [
       "0.9714"
      ]
     },
     "execution_count": 121,
     "metadata": {},
     "output_type": "execute_result"
    }
   ],
   "source": [
    "from sklearn.metrics import accuracy_score\n",
    "\n",
    "# 使用accuracy_score函数计算KNeighborsClassifier模型在测试数据集上的准确率\n",
    "# y_test是测试数据的真实标签\n",
    "# y_knn_pred是KNeighborsClassifier模型预测的标签\n",
    "# 这个函数将比较y_test和y_knn_pred，并计算两者一致的比例，即准确率\n",
    "# 准确率是评估分类器性能的一个重要指标，表示模型预测正确的样本数占总样本数的比例\n",
    "accuracy = accuracy_score(y_test, y_knn_pred)\n",
    "accuracy"
   ]
  },
  {
   "cell_type": "code",
   "execution_count": 126,
   "id": "700840af-a28a-4200-9def-d21dd91a06e7",
   "metadata": {},
   "outputs": [
    {
     "name": "stderr",
     "output_type": "stream",
     "text": [
      "C:\\Users\\xiankui.qin\\AppData\\Local\\Temp\\ipykernel_48904\\3895086549.py:29: DeprecationWarning: Please import `shift` from the `scipy.ndimage` namespace; the `scipy.ndimage.interpolation` namespace is deprecated and will be removed in SciPy 2.0.0.\n",
      "  return ndii.shift(digit_array.reshape(28, 28), [dy, dx], cval=new).reshape(784)\n"
     ]
    },
    {
     "data": {
      "text/plain": [
       "<matplotlib.image.AxesImage at 0x1c7a92c6350>"
      ]
     },
     "execution_count": 126,
     "metadata": {},
     "output_type": "execute_result"
    },
    {
     "data": {
      "image/png": "[encoded data removed]",
      "text/plain": [
       "<Figure size 640x480 with 1 Axes>"
      ]
     },
     "metadata": {},
     "output_type": "display_data"
    }
   ],
   "source": [
    "from scipy.ndimage import interpolation as ndii\n",
    "\n",
    "\n",
    "# 导入scipy.ndimage.interpolation.shift函数，用于对数组进行平移操作\n",
    "# 导入sklearn.metrics.plot_digit函数，用于绘制单个图像\n",
    "\n",
    "def shift_digit(digit_array, dx, dy, new=0):\n",
    "    \"\"\"\n",
    "    平移手写数字图像的函数。\n",
    "    \n",
    "    参数:\n",
    "    digit_array : ndarray\n",
    "        原始的784维手写数字图像数组。\n",
    "    dx : int\n",
    "        图像沿x轴（水平方向）的平移距离。\n",
    "    dy : int\n",
    "        图像沿y轴（垂直方向）的平移距离。\n",
    "    new : int, optional (default: 0)\n",
    "        平移后新创建像素的填充值。\n",
    "        \n",
    "    返回:\n",
    "    ndarray\n",
    "        平移后的28x28图像数组。\n",
    "    \"\"\"\n",
    "    # 使用reshape将一维数组转换为28x28的二维数组\n",
    "    # 使用shift函数对图像进行平移，指定平移的方向和距离\n",
    "    # cval指定了平移后边界外的像素值\n",
    "    # 最后，再次使用reshape将数组转换回一维数组\n",
    "    return ndii.shift(digit_array.reshape(28, 28), [dy, dx], cval=new).reshape(784)\n",
    "\n",
    "# 使用shift_digit函数平移some_digit图像\n",
    "# some_digit是一个784维的NumPy数组，代表一个手写数字图像\n",
    "# dx和dy参数指定了平移的距离，这里是向右1个像素，向下5个像素\n",
    "# new参数指定了平移后新创建像素的值，这里设置为100\n",
    "shifted_digit = shift_digit(some_digit, 5, 1, new=100)\n",
    "\n",
    "# 使用plot_digit函数绘制平移后的图像\n",
    "# 这将展示平移操作的效果\n",
    "plt.imshow(shifted_digit.reshape((28, 28)), cmap='gray_r')"
   ]
  },
  {
   "cell_type": "code",
   "execution_count": 127,
   "id": "2699b454-d882-42c1-904c-d9a49751cd8a",
   "metadata": {},
   "outputs": [
    {
     "name": "stderr",
     "output_type": "stream",
     "text": [
      "C:\\Users\\xiankui.qin\\AppData\\Local\\Temp\\ipykernel_48904\\3895086549.py:29: DeprecationWarning: Please import `shift` from the `scipy.ndimage` namespace; the `scipy.ndimage.interpolation` namespace is deprecated and will be removed in SciPy 2.0.0.\n",
      "  return ndii.shift(digit_array.reshape(28, 28), [dy, dx], cval=new).reshape(784)\n"
     ]
    },
    {
     "name": "stdout",
     "output_type": "stream",
     "text": [
      "(300000, 784) (300000,)\n"
     ]
    }
   ],
   "source": [
    "import numpy as np\n",
    "\n",
    "# 初始化X_train_expanded和y_train_expanded，将原始的X_train和y_train作为第一个元素\n",
    "X_train_expanded = [X_train]\n",
    "y_train_expanded = [y_train]\n",
    "\n",
    "# 定义四个平移方向，分别向右、向左、向下和向上\n",
    "for dx, dy in ((1, 0), (-1, 0), (0, 1), (0, -1)):\n",
    "    # 使用np.apply_along_axis函数对X_train中的每个图像应用shift_digit函数\n",
    "    # 这里，axis=1表示沿着每个图像的第二个维度（即784维中的第二个轴）\n",
    "    # arr=X_train是输入的数组，dx和dy定义了平移的方向和距离\n",
    "    # shift_digit函数将被应用于X_train的每一行（即每个图像）\n",
    "    shifted_images = np.apply_along_axis(shift_digit, 1, X_train, dx=dx, dy=dy)\n",
    "    \n",
    "    # 将平移后的图像添加到X_train_expanded列表中\n",
    "    X_train_expanded.append(shifted_images)\n",
    "    \n",
    "    # 将原始的y_train标签复制并添加到y_train_expanded列表中\n",
    "    # 假设平移后的图像保持相同的标签\n",
    "    y_train_expanded.append(y_train)\n",
    "\n",
    "# 使用np.concatenate函数将X_train_expanded和y_train_expanded列表中的所有数组连接起来\n",
    "# 这将创建一个新的扩展的训练数据集，包含原始图像和它们的平移版本\n",
    "X_train_expanded = np.concatenate(X_train_expanded)\n",
    "y_train_expanded = np.concatenate(y_train_expanded)\n",
    "\n",
    "# 打印X_train_expanded和y_train_expanded的形状\n",
    "# 这将告诉我们扩展后的数据集中有多少图像，以及每个图像有多少特征\n",
    "print(X_train_expanded.shape, y_train_expanded.shape)"
   ]
  },
  {
   "cell_type": "code",
   "execution_count": 128,
   "id": "c93e7d2f-c6cd-408c-9527-5cf5ab2df97b",
   "metadata": {},
   "outputs": [
    {
     "data": {
      "text/html": [
       "<style>#sk-container-id-4 {\n",
       "  /* Definition of color scheme common for light and dark mode */\n",
       "  --sklearn-color-text: black;\n",
       "  --sklearn-color-line: gray;\n",
       "  /* Definition of color scheme for unfitted estimators */\n",
       "  --sklearn-color-unfitted-level-0: #fff5e6;\n",
       "  --sklearn-color-unfitted-level-1: #f6e4d2;\n",
       "  --sklearn-color-unfitted-level-2: #ffe0b3;\n",
       "  --sklearn-color-unfitted-level-3: chocolate;\n",
       "  /* Definition of color scheme for fitted estimators */\n",
       "  --sklearn-color-fitted-level-0: #f0f8ff;\n",
       "  --sklearn-color-fitted-level-1: #d4ebff;\n",
       "  --sklearn-color-fitted-level-2: #b3dbfd;\n",
       "  --sklearn-color-fitted-level-3: cornflowerblue;\n",
       "\n",
       "  /* Specific color for light theme */\n",
       "  --sklearn-color-text-on-default-background: var(--sg-text-color, var(--theme-code-foreground, var(--jp-content-font-color1, black)));\n",
       "  --sklearn-color-background: var(--sg-background-color, var(--theme-background, var(--jp-layout-color0, white)));\n",
       "  --sklearn-color-border-box: var(--sg-text-color, var(--theme-code-foreground, var(--jp-content-font-color1, black)));\n",
       "  --sklearn-color-icon: #696969;\n",
       "\n",
       "  @media (prefers-color-scheme: dark) {\n",
       "    /* Redefinition of color scheme for dark theme */\n",
       "    --sklearn-color-text-on-default-background: var(--sg-text-color, var(--theme-code-foreground, var(--jp-content-font-color1, white)));\n",
       "    --sklearn-color-background: var(--sg-background-color, var(--theme-background, var(--jp-layout-color0, #111)));\n",
       "    --sklearn-color-border-box: var(--sg-text-color, var(--theme-code-foreground, var(--jp-content-font-color1, white)));\n",
       "    --sklearn-color-icon: #878787;\n",
       "  }\n",
       "}\n",
       "\n",
       "#sk-container-id-4 {\n",
       "  color: var(--sklearn-color-text);\n",
       "}\n",
       "\n",
       "#sk-container-id-4 pre {\n",
       "  padding: 0;\n",
       "}\n",
       "\n",
       "#sk-container-id-4 input.sk-hidden--visually {\n",
       "  border: 0;\n",
       "  clip: rect(1px 1px 1px 1px);\n",
       "  clip: rect(1px, 1px, 1px, 1px);\n",
       "  height: 1px;\n",
       "  margin: -1px;\n",
       "  overflow: hidden;\n",
       "  padding: 0;\n",
       "  position: absolute;\n",
       "  width: 1px;\n",
       "}\n",
       "\n",
       "#sk-container-id-4 div.sk-dashed-wrapped {\n",
       "  border: 1px dashed var(--sklearn-color-line);\n",
       "  margin: 0 0.4em 0.5em 0.4em;\n",
       "  box-sizing: border-box;\n",
       "  padding-bottom: 0.4em;\n",
       "  background-color: var(--sklearn-color-background);\n",
       "}\n",
       "\n",
       "#sk-container-id-4 div.sk-container {\n",
       "  /* jupyter's `normalize.less` sets `[hidden] { display: none; }`\n",
       "     but bootstrap.min.css set `[hidden] { display: none !important; }`\n",
       "     so we also need the `!important` here to be able to override the\n",
       "     default hidden behavior on the sphinx rendered scikit-learn.org.\n",
       "     See: https://github.com/scikit-learn/scikit-learn/issues/21755 */\n",
       "  display: inline-block !important;\n",
       "  position: relative;\n",
       "}\n",
       "\n",
       "#sk-container-id-4 div.sk-text-repr-fallback {\n",
       "  display: none;\n",
       "}\n",
       "\n",
       "div.sk-parallel-item,\n",
       "div.sk-serial,\n",
       "div.sk-item {\n",
       "  /* draw centered vertical line to link estimators */\n",
       "  background-image: linear-gradient(var(--sklearn-color-text-on-default-background), var(--sklearn-color-text-on-default-background));\n",
       "  background-size: 2px 100%;\n",
       "  background-repeat: no-repeat;\n",
       "  background-position: center center;\n",
       "}\n",
       "\n",
       "/* Parallel-specific style estimator block */\n",
       "\n",
       "#sk-container-id-4 div.sk-parallel-item::after {\n",
       "  content: \"\";\n",
       "  width: 100%;\n",
       "  border-bottom: 2px solid var(--sklearn-color-text-on-default-background);\n",
       "  flex-grow: 1;\n",
       "}\n",
       "\n",
       "#sk-container-id-4 div.sk-parallel {\n",
       "  display: flex;\n",
       "  align-items: stretch;\n",
       "  justify-content: center;\n",
       "  background-color: var(--sklearn-color-background);\n",
       "  position: relative;\n",
       "}\n",
       "\n",
       "#sk-container-id-4 div.sk-parallel-item {\n",
       "  display: flex;\n",
       "  flex-direction: column;\n",
       "}\n",
       "\n",
       "#sk-container-id-4 div.sk-parallel-item:first-child::after {\n",
       "  align-self: flex-end;\n",
       "  width: 50%;\n",
       "}\n",
       "\n",
       "#sk-container-id-4 div.sk-parallel-item:last-child::after {\n",
       "  align-self: flex-start;\n",
       "  width: 50%;\n",
       "}\n",
       "\n",
       "#sk-container-id-4 div.sk-parallel-item:only-child::after {\n",
       "  width: 0;\n",
       "}\n",
       "\n",
       "/* Serial-specific style estimator block */\n",
       "\n",
       "#sk-container-id-4 div.sk-serial {\n",
       "  display: flex;\n",
       "  flex-direction: column;\n",
       "  align-items: center;\n",
       "  background-color: var(--sklearn-color-background);\n",
       "  padding-right: 1em;\n",
       "  padding-left: 1em;\n",
       "}\n",
       "\n",
       "\n",
       "/* Toggleable style: style used for estimator/Pipeline/ColumnTransformer box that is\n",
       "clickable and can be expanded/collapsed.\n",
       "- Pipeline and ColumnTransformer use this feature and define the default style\n",
       "- Estimators will overwrite some part of the style using the `sk-estimator` class\n",
       "*/\n",
       "\n",
       "/* Pipeline and ColumnTransformer style (default) */\n",
       "\n",
       "#sk-container-id-4 div.sk-toggleable {\n",
       "  /* Default theme specific background. It is overwritten whether we have a\n",
       "  specific estimator or a Pipeline/ColumnTransformer */\n",
       "  background-color: var(--sklearn-color-background);\n",
       "}\n",
       "\n",
       "/* Toggleable label */\n",
       "#sk-container-id-4 label.sk-toggleable__label {\n",
       "  cursor: pointer;\n",
       "  display: block;\n",
       "  width: 100%;\n",
       "  margin-bottom: 0;\n",
       "  padding: 0.5em;\n",
       "  box-sizing: border-box;\n",
       "  text-align: center;\n",
       "}\n",
       "\n",
       "#sk-container-id-4 label.sk-toggleable__label-arrow:before {\n",
       "  /* Arrow on the left of the label */\n",
       "  content: \"▸\";\n",
       "  float: left;\n",
       "  margin-right: 0.25em;\n",
       "  color: var(--sklearn-color-icon);\n",
       "}\n",
       "\n",
       "#sk-container-id-4 label.sk-toggleable__label-arrow:hover:before {\n",
       "  color: var(--sklearn-color-text);\n",
       "}\n",
       "\n",
       "/* Toggleable content - dropdown */\n",
       "\n",
       "#sk-container-id-4 div.sk-toggleable__content {\n",
       "  max-height: 0;\n",
       "  max-width: 0;\n",
       "  overflow: hidden;\n",
       "  text-align: left;\n",
       "  /* unfitted */\n",
       "  background-color: var(--sklearn-color-unfitted-level-0);\n",
       "}\n",
       "\n",
       "#sk-container-id-4 div.sk-toggleable__content.fitted {\n",
       "  /* fitted */\n",
       "  background-color: var(--sklearn-color-fitted-level-0);\n",
       "}\n",
       "\n",
       "#sk-container-id-4 div.sk-toggleable__content pre {\n",
       "  margin: 0.2em;\n",
       "  border-radius: 0.25em;\n",
       "  color: var(--sklearn-color-text);\n",
       "  /* unfitted */\n",
       "  background-color: var(--sklearn-color-unfitted-level-0);\n",
       "}\n",
       "\n",
       "#sk-container-id-4 div.sk-toggleable__content.fitted pre {\n",
       "  /* unfitted */\n",
       "  background-color: var(--sklearn-color-fitted-level-0);\n",
       "}\n",
       "\n",
       "#sk-container-id-4 input.sk-toggleable__control:checked~div.sk-toggleable__content {\n",
       "  /* Expand drop-down */\n",
       "  max-height: 200px;\n",
       "  max-width: 100%;\n",
       "  overflow: auto;\n",
       "}\n",
       "\n",
       "#sk-container-id-4 input.sk-toggleable__control:checked~label.sk-toggleable__label-arrow:before {\n",
       "  content: \"▾\";\n",
       "}\n",
       "\n",
       "/* Pipeline/ColumnTransformer-specific style */\n",
       "\n",
       "#sk-container-id-4 div.sk-label input.sk-toggleable__control:checked~label.sk-toggleable__label {\n",
       "  color: var(--sklearn-color-text);\n",
       "  background-color: var(--sklearn-color-unfitted-level-2);\n",
       "}\n",
       "\n",
       "#sk-container-id-4 div.sk-label.fitted input.sk-toggleable__control:checked~label.sk-toggleable__label {\n",
       "  background-color: var(--sklearn-color-fitted-level-2);\n",
       "}\n",
       "\n",
       "/* Estimator-specific style */\n",
       "\n",
       "/* Colorize estimator box */\n",
       "#sk-container-id-4 div.sk-estimator input.sk-toggleable__control:checked~label.sk-toggleable__label {\n",
       "  /* unfitted */\n",
       "  background-color: var(--sklearn-color-unfitted-level-2);\n",
       "}\n",
       "\n",
       "#sk-container-id-4 div.sk-estimator.fitted input.sk-toggleable__control:checked~label.sk-toggleable__label {\n",
       "  /* fitted */\n",
       "  background-color: var(--sklearn-color-fitted-level-2);\n",
       "}\n",
       "\n",
       "#sk-container-id-4 div.sk-label label.sk-toggleable__label,\n",
       "#sk-container-id-4 div.sk-label label {\n",
       "  /* The background is the default theme color */\n",
       "  color: var(--sklearn-color-text-on-default-background);\n",
       "}\n",
       "\n",
       "/* On hover, darken the color of the background */\n",
       "#sk-container-id-4 div.sk-label:hover label.sk-toggleable__label {\n",
       "  color: var(--sklearn-color-text);\n",
       "  background-color: var(--sklearn-color-unfitted-level-2);\n",
       "}\n",
       "\n",
       "/* Label box, darken color on hover, fitted */\n",
       "#sk-container-id-4 div.sk-label.fitted:hover label.sk-toggleable__label.fitted {\n",
       "  color: var(--sklearn-color-text);\n",
       "  background-color: var(--sklearn-color-fitted-level-2);\n",
       "}\n",
       "\n",
       "/* Estimator label */\n",
       "\n",
       "#sk-container-id-4 div.sk-label label {\n",
       "  font-family: monospace;\n",
       "  font-weight: bold;\n",
       "  display: inline-block;\n",
       "  line-height: 1.2em;\n",
       "}\n",
       "\n",
       "#sk-container-id-4 div.sk-label-container {\n",
       "  text-align: center;\n",
       "}\n",
       "\n",
       "/* Estimator-specific */\n",
       "#sk-container-id-4 div.sk-estimator {\n",
       "  font-family: monospace;\n",
       "  border: 1px dotted var(--sklearn-color-border-box);\n",
       "  border-radius: 0.25em;\n",
       "  box-sizing: border-box;\n",
       "  margin-bottom: 0.5em;\n",
       "  /* unfitted */\n",
       "  background-color: var(--sklearn-color-unfitted-level-0);\n",
       "}\n",
       "\n",
       "#sk-container-id-4 div.sk-estimator.fitted {\n",
       "  /* fitted */\n",
       "  background-color: var(--sklearn-color-fitted-level-0);\n",
       "}\n",
       "\n",
       "/* on hover */\n",
       "#sk-container-id-4 div.sk-estimator:hover {\n",
       "  /* unfitted */\n",
       "  background-color: var(--sklearn-color-unfitted-level-2);\n",
       "}\n",
       "\n",
       "#sk-container-id-4 div.sk-estimator.fitted:hover {\n",
       "  /* fitted */\n",
       "  background-color: var(--sklearn-color-fitted-level-2);\n",
       "}\n",
       "\n",
       "/* Specification for estimator info (e.g. \"i\" and \"?\") */\n",
       "\n",
       "/* Common style for \"i\" and \"?\" */\n",
       "\n",
       ".sk-estimator-doc-link,\n",
       "a:link.sk-estimator-doc-link,\n",
       "a:visited.sk-estimator-doc-link {\n",
       "  float: right;\n",
       "  font-size: smaller;\n",
       "  line-height: 1em;\n",
       "  font-family: monospace;\n",
       "  background-color: var(--sklearn-color-background);\n",
       "  border-radius: 1em;\n",
       "  height: 1em;\n",
       "  width: 1em;\n",
       "  text-decoration: none !important;\n",
       "  margin-left: 1ex;\n",
       "  /* unfitted */\n",
       "  border: var(--sklearn-color-unfitted-level-1) 1pt solid;\n",
       "  color: var(--sklearn-color-unfitted-level-1);\n",
       "}\n",
       "\n",
       ".sk-estimator-doc-link.fitted,\n",
       "a:link.sk-estimator-doc-link.fitted,\n",
       "a:visited.sk-estimator-doc-link.fitted {\n",
       "  /* fitted */\n",
       "  border: var(--sklearn-color-fitted-level-1) 1pt solid;\n",
       "  color: var(--sklearn-color-fitted-level-1);\n",
       "}\n",
       "\n",
       "/* On hover */\n",
       "div.sk-estimator:hover .sk-estimator-doc-link:hover,\n",
       ".sk-estimator-doc-link:hover,\n",
       "div.sk-label-container:hover .sk-estimator-doc-link:hover,\n",
       ".sk-estimator-doc-link:hover {\n",
       "  /* unfitted */\n",
       "  background-color: var(--sklearn-color-unfitted-level-3);\n",
       "  color: var(--sklearn-color-background);\n",
       "  text-decoration: none;\n",
       "}\n",
       "\n",
       "div.sk-estimator.fitted:hover .sk-estimator-doc-link.fitted:hover,\n",
       ".sk-estimator-doc-link.fitted:hover,\n",
       "div.sk-label-container:hover .sk-estimator-doc-link.fitted:hover,\n",
       ".sk-estimator-doc-link.fitted:hover {\n",
       "  /* fitted */\n",
       "  background-color: var(--sklearn-color-fitted-level-3);\n",
       "  color: var(--sklearn-color-background);\n",
       "  text-decoration: none;\n",
       "}\n",
       "\n",
       "/* Span, style for the box shown on hovering the info icon */\n",
       ".sk-estimator-doc-link span {\n",
       "  display: none;\n",
       "  z-index: 9999;\n",
       "  position: relative;\n",
       "  font-weight: normal;\n",
       "  right: .2ex;\n",
       "  padding: .5ex;\n",
       "  margin: .5ex;\n",
       "  width: min-content;\n",
       "  min-width: 20ex;\n",
       "  max-width: 50ex;\n",
       "  color: var(--sklearn-color-text);\n",
       "  box-shadow: 2pt 2pt 4pt #999;\n",
       "  /* unfitted */\n",
       "  background: var(--sklearn-color-unfitted-level-0);\n",
       "  border: .5pt solid var(--sklearn-color-unfitted-level-3);\n",
       "}\n",
       "\n",
       ".sk-estimator-doc-link.fitted span {\n",
       "  /* fitted */\n",
       "  background: var(--sklearn-color-fitted-level-0);\n",
       "  border: var(--sklearn-color-fitted-level-3);\n",
       "}\n",
       "\n",
       ".sk-estimator-doc-link:hover span {\n",
       "  display: block;\n",
       "}\n",
       "\n",
       "/* \"?\"-specific style due to the `<a>` HTML tag */\n",
       "\n",
       "#sk-container-id-4 a.estimator_doc_link {\n",
       "  float: right;\n",
       "  font-size: 1rem;\n",
       "  line-height: 1em;\n",
       "  font-family: monospace;\n",
       "  background-color: var(--sklearn-color-background);\n",
       "  border-radius: 1rem;\n",
       "  height: 1rem;\n",
       "  width: 1rem;\n",
       "  text-decoration: none;\n",
       "  /* unfitted */\n",
       "  color: var(--sklearn-color-unfitted-level-1);\n",
       "  border: var(--sklearn-color-unfitted-level-1) 1pt solid;\n",
       "}\n",
       "\n",
       "#sk-container-id-4 a.estimator_doc_link.fitted {\n",
       "  /* fitted */\n",
       "  border: var(--sklearn-color-fitted-level-1) 1pt solid;\n",
       "  color: var(--sklearn-color-fitted-level-1);\n",
       "}\n",
       "\n",
       "/* On hover */\n",
       "#sk-container-id-4 a.estimator_doc_link:hover {\n",
       "  /* unfitted */\n",
       "  background-color: var(--sklearn-color-unfitted-level-3);\n",
       "  color: var(--sklearn-color-background);\n",
       "  text-decoration: none;\n",
       "}\n",
       "\n",
       "#sk-container-id-4 a.estimator_doc_link.fitted:hover {\n",
       "  /* fitted */\n",
       "  background-color: var(--sklearn-color-fitted-level-3);\n",
       "}\n",
       "</style><div id=\"sk-container-id-4\" class=\"sk-top-container\"><div class=\"sk-text-repr-fallback\"><pre>KNeighborsClassifier(n_jobs=-1, n_neighbors=4, weights=&#x27;distance&#x27;)</pre><b>In a Jupyter environment, please rerun this cell to show the HTML representation or trust the notebook. <br />On GitHub, the HTML representation is unable to render, please try loading this page with nbviewer.org.</b></div><div class=\"sk-container\" hidden><div class=\"sk-item\"><div class=\"sk-estimator fitted sk-toggleable\"><input class=\"sk-toggleable__control sk-hidden--visually\" id=\"sk-estimator-id-4\" type=\"checkbox\" checked><label for=\"sk-estimator-id-4\" class=\"sk-toggleable__label fitted sk-toggleable__label-arrow fitted\">&nbsp;&nbsp;KNeighborsClassifier<a class=\"sk-estimator-doc-link fitted\" rel=\"noreferrer\" target=\"_blank\" href=\"https://scikit-learn.org/1.5/modules/generated/sklearn.neighbors.KNeighborsClassifier.html\">?<span>Documentation for KNeighborsClassifier</span></a><span class=\"sk-estimator-doc-link fitted\">i<span>Fitted</span></span></label><div class=\"sk-toggleable__content fitted\"><pre>KNeighborsClassifier(n_jobs=-1, n_neighbors=4, weights=&#x27;distance&#x27;)</pre></div> </div></div></div></div>"
      ],
      "text/plain": [
       "KNeighborsClassifier(n_jobs=-1, n_neighbors=4, weights='distance')"
      ]
     },
     "execution_count": 128,
     "metadata": {},
     "output_type": "execute_result"
    }
   ],
   "source": [
    "# 使用KNeighborsClassifier模型knn_clf对扩展后的训练数据集X_train_expanded进行训练\n",
    "# X_train_expanded是扩展后的特征集，包含了原始图像和它们的平移版本\n",
    "# y_train_expanded是对应的标签集，假设平移后的图像保持相同的标签\n",
    "# fit方法将训练KNeighborsClassifier模型，使其能够根据X_train_expanded的特征预测标签\n",
    "knn_clf.fit(X_train_expanded, y_train_expanded)"
   ]
  },
  {
   "cell_type": "code",
   "execution_count": 129,
   "id": "332a44c1-7980-43ef-866d-808c2d3dffa5",
   "metadata": {},
   "outputs": [
    {
     "data": {
      "text/plain": [
       "0.9763"
      ]
     },
     "execution_count": 129,
     "metadata": {},
     "output_type": "execute_result"
    }
   ],
   "source": [
    "# 使用训练好的KNeighborsClassifier模型knn_clf对测试数据集X_test进行预测\n",
    "# X_test是测试数据的特征集，包含了一定数量的手写数字图像的特征\n",
    "# predict方法将根据knn_clf模型的学习和X_test的特征，预测每个样本对应的标签\n",
    "# 返回的y_knn_expanded_pred是模型预测的标签数组，包含了测试数据集中每个样本的预测结果\n",
    "y_knn_expanded_pred = knn_clf.predict(X_test)\n",
    "\n",
    "# 导入accuracy_score函数，用于计算模型预测的准确率\n",
    "from sklearn.metrics import accuracy_score\n",
    "\n",
    "# 使用accuracy_score函数计算knn_clf模型在测试数据集上的准确率\n",
    "# y_test是测试数据的真实标签\n",
    "# y_knn_expanded_pred是KNeighborsClassifier模型预测的标签\n",
    "# 这个函数将比较y_test和y_knn_expanded_pred，并计算两者一致的比例，即准确率\n",
    "# 准确率是评估分类器性能的一个重要指标，表示模型预测正确的样本数占总样本数的比例\n",
    "test_accuracy = accuracy_score(y_test, y_knn_expanded_pred)\n",
    "test_accuracy"
   ]
  },
  {
   "cell_type": "code",
   "execution_count": 131,
   "id": "1f726252-6ad5-4e7e-b588-d426a08c6bc0",
   "metadata": {},
   "outputs": [
    {
     "data": {
      "text/plain": [
       "array([[0.       , 0.       , 0.5053645, 0.       , 0.       , 0.       ,\n",
       "        0.       , 0.4946355, 0.       , 0.       ]])"
      ]
     },
     "execution_count": 131,
     "metadata": {},
     "output_type": "execute_result"
    }
   ],
   "source": [
    "# 从测试数据集X_test中选择索引为2589的图像\n",
    "# 这个图像将被用于进一步的分析或展示\n",
    "ambiguous_digit = X_test[2589]\n",
    "\n",
    "# 使用训练好的KNeighborsClassifier模型knn_clf预测ambiguous_digit的概率\n",
    "# predict_proba方法将返回一个数组，其中包含ambiguous_digit属于每个可能类别的概率\n",
    "# 这可以提供模型预测的置信度，帮助我们了解模型对该样本分类的确定性\n",
    "probabilities = knn_clf.predict_proba([ambiguous_digit])\n",
    "probabilities"
   ]
  },
  {
   "cell_type": "code",
   "execution_count": 132,
   "id": "08057301-e0cd-4cac-8ad4-7939b5fd2fd9",
   "metadata": {},
   "outputs": [
    {
     "data": {
      "image/png": "[encoded data removed]",
      "text/plain": [
       "<Figure size 640x480 with 1 Axes>"
      ]
     },
     "metadata": {},
     "output_type": "display_data"
    }
   ],
   "source": [
    "# 假设plot_digit是一个已经定义的函数，用于绘制单个手写数字图像\n",
    "# 这里，我们使用plot_digit函数绘制索引为2589的测试图像ambiguous_digit\n",
    "# 这个函数将展示图像的像素数据，允许我们直观地查看模型正在尝试分类的图像\n",
    "# 这可以用于分析模型预测的准确性或在某些情况下的不确定性\n",
    "plot_digit(ambiguous_digit)"
   ]
  },
  {
   "cell_type": "code",
   "execution_count": null,
   "id": "02985531-681c-4faa-95c9-a54adb49d527",
   "metadata": {},
   "outputs": [],
   "source": []
  }
 ],
 "metadata": {
  "kernelspec": {
   "display_name": "Python 3 (ipykernel)",
   "language": "python",
   "name": "python3"
  },
  "language_info": {
   "codemirror_mode": {
    "name": "ipython",
    "version": 3
   },
   "file_extension": ".py",
   "mimetype": "text/x-python",
   "name": "python",
   "nbconvert_exporter": "python",
   "pygments_lexer": "ipython3",
   "version": "3.11.1"
  }
 },
 "nbformat": 4,
 "nbformat_minor": 5
}
